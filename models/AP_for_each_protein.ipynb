{
 "cells": [
  {
   "cell_type": "markdown",
   "id": "c35e2a02",
   "metadata": {},
   "source": [
    "# This notebook train the Neural Network model using 3 building blocks' morgan fingerprints as features"
   ]
  },
  {
   "cell_type": "code",
   "execution_count": 1,
   "id": "68984b24",
   "metadata": {},
   "outputs": [],
   "source": [
    "import numpy as np\n",
    "import os, random, time\n",
    "import pandas as pd\n",
    "from pathlib import Path"
   ]
  },
  {
   "cell_type": "code",
   "execution_count": 2,
   "id": "ee45aa55",
   "metadata": {},
   "outputs": [],
   "source": [
    "from sklearn.metrics import precision_score, recall_score, f1_score, roc_auc_score, average_precision_score"
   ]
  },
  {
   "cell_type": "code",
   "execution_count": 3,
   "id": "d664c739",
   "metadata": {},
   "outputs": [],
   "source": [
    "def get_files(input_list):\n",
    "    out_list=[]\n",
    "    if type(input_list)==type(None):\n",
    "        return out_list\n",
    "    for item in input_list:\n",
    "        \n",
    "        if os.path.isdir(item):\n",
    "            out_list.extend(list(Path(item).rglob(\"*.npz\")))\n",
    "\n",
    "        elif item[-4:]=='.npz':\n",
    "            out_list.append(item)        \n",
    "    \n",
    "    random.seed(0)\n",
    "    random.shuffle(out_list)\n",
    "    return out_list\n",
    "\n",
    "def read_from_file(file_name):\n",
    "    data=np.load(file_name)\n",
    "    return data['morgan1'],data['morgan2'],data['morgan3'], data['protein'], data['labels']\n",
    "\n",
    "def read_from_test_file(file_name):\n",
    "    data=np.load(file_name)\n",
    "    return data['morgan1'],data['morgan2'],data['morgan3'], data['protein'], data['ids']\n",
    "\n",
    "def generate_batches(files, batch_size=1024):\n",
    "    counter = 0\n",
    "    \n",
    "    print_freq=max(1, len(files)//10)\n",
    "    \n",
    "    while counter<len(files):\n",
    "        file_name = files[counter]\n",
    "\n",
    "        counter +=1\n",
    "        \n",
    "        data=read_from_file(file_name)\n",
    "\n",
    "        morgan1, morgan2, morgan3, protein, labels=data\n",
    "        batch_size=max(batch_size,1)\n",
    "        for local_index in range(0, labels.shape[0], batch_size):\n",
    "            batch_morgan1=morgan1[local_index:(local_index + batch_size)]\n",
    "            batch_morgan2=morgan2[local_index:(local_index + batch_size)]\n",
    "            batch_morgan3=morgan3[local_index:(local_index + batch_size)]\n",
    "            batch_protein=protein[local_index:(local_index + batch_size)]\n",
    "            batch_labels=labels[local_index:(local_index + batch_size)]          \n",
    "\n",
    "            yield batch_morgan1, batch_morgan2, batch_morgan3, batch_protein, batch_labels\n",
    "        \n",
    "        if counter%print_freq==0:\n",
    "            print('.', end='',flush=True)\n",
    "\n",
    "def generate_test_batches(files, batch_size=1024):\n",
    "    counter = 0\n",
    "    \n",
    "    print_freq=max(1, len(files)//10)\n",
    "    \n",
    "    while counter<len(files):\n",
    "        file_name = files[counter]\n",
    "\n",
    "        counter +=1\n",
    "        \n",
    "        data=read_from_test_file(file_name)\n",
    "\n",
    "        morgan1, morgan2, morgan3, protein, ids=data\n",
    "        batch_size=max(batch_size,1)\n",
    "        for local_index in range(0, ids.shape[0], batch_size):\n",
    "            batch_morgan1=morgan1[local_index:(local_index + batch_size)]\n",
    "            batch_morgan2=morgan2[local_index:(local_index + batch_size)]\n",
    "            batch_morgan3=morgan3[local_index:(local_index + batch_size)]\n",
    "            batch_protein=protein[local_index:(local_index + batch_size)]\n",
    "            batch_ids=ids[local_index:(local_index + batch_size)]   \n",
    "\n",
    "            yield batch_morgan1, batch_morgan2, batch_morgan3, batch_protein, batch_ids\n",
    "        \n",
    "        if counter%print_freq==0:\n",
    "            print('.', end='',flush=True)"
   ]
  },
  {
   "cell_type": "code",
   "execution_count": 4,
   "id": "05cccb93",
   "metadata": {},
   "outputs": [],
   "source": [
    "import torch\n",
    "import torch.nn as nn\n",
    "import torch.nn.functional as F\n",
    "\n",
    "from torch import optim, Tensor\n",
    "\n",
    "from torch.nn.parallel import DataParallel"
   ]
  },
  {
   "cell_type": "code",
   "execution_count": 5,
   "id": "d2f847a3",
   "metadata": {},
   "outputs": [],
   "source": [
    "class Net(nn.Module):\n",
    "\n",
    "    def __init__(self):\n",
    "        super(Net, self).__init__()\n",
    "        self.fc1=nn.Linear(3075,2048)\n",
    "        self.dropout1 = nn.Dropout(0.2)\n",
    "        self.fc2=nn.Linear(2048,1024)\n",
    "        self.dropout3 = nn.Dropout(0.2)\n",
    "        self.fc4=nn.Linear(1024,512)\n",
    "        self.fc5=nn.Linear(512,128)\n",
    "        self.out=nn.Linear(128,1)\n",
    "        \n",
    "    def forward(self, x):\n",
    "        x=F.relu(self.fc1(x))\n",
    "        x=F.relu(self.fc2(x))\n",
    "        x=F.relu(self.fc4(x))\n",
    "        x=F.relu(self.fc5(x))\n",
    "        out=self.out(x)\n",
    "        return out"
   ]
  },
  {
   "cell_type": "code",
   "execution_count": 10,
   "id": "fcf657f5",
   "metadata": {},
   "outputs": [],
   "source": [
    "dev = 'cuda' if torch.cuda.is_available() else 'cpu'\n",
    "\n",
    "net = Net().to(dev)\n",
    "net = DataParallel(net)  # Wrap the model with DataParallel\n",
    "\n",
    "optimizer = optim.Adam(net.parameters(), lr=0.01)\n",
    "scheduler = optim.lr_scheduler.ReduceLROnPlateau(optimizer)"
   ]
  },
  {
   "cell_type": "code",
   "execution_count": 11,
   "id": "ca6795f9",
   "metadata": {},
   "outputs": [
    {
     "name": "stdout",
     "output_type": "stream",
     "text": [
      "DataParallel(\n",
      "  (module): Net(\n",
      "    (fc1): Linear(in_features=3075, out_features=2048, bias=True)\n",
      "    (dropout1): Dropout(p=0.2, inplace=False)\n",
      "    (fc2): Linear(in_features=2048, out_features=1024, bias=True)\n",
      "    (dropout3): Dropout(p=0.2, inplace=False)\n",
      "    (fc4): Linear(in_features=1024, out_features=512, bias=True)\n",
      "    (fc5): Linear(in_features=512, out_features=128, bias=True)\n",
      "    (out): Linear(in_features=128, out_features=1, bias=True)\n",
      "  )\n",
      ")\n",
      "# Parameters= 8988417\n"
     ]
    }
   ],
   "source": [
    "model_details=str(net.to(torch.device(dev)))\n",
    "print(model_details)\n",
    "num_params=sum(p.numel() for p in net.parameters())\n",
    "print('# Parameters=', num_params)"
   ]
  },
  {
   "cell_type": "code",
   "execution_count": 12,
   "id": "4f1db94b",
   "metadata": {},
   "outputs": [],
   "source": [
    "train_files=get_files(['morgan_train_complete/'])[:2]\n",
    "test_files=get_files(['morgan_validation_complete/'])[:1]"
   ]
  },
  {
   "cell_type": "code",
   "execution_count": 13,
   "id": "3e829ee4",
   "metadata": {},
   "outputs": [
    {
     "name": "stdout",
     "output_type": "stream",
     "text": [
      "num of train_file:  2\n",
      "num of validation_file:  1\n"
     ]
    }
   ],
   "source": [
    "print('num of train_file: ',len(train_files))\n",
    "print('num of validation_file: ',len(test_files))"
   ]
  },
  {
   "cell_type": "code",
   "execution_count": 16,
   "id": "37f80793",
   "metadata": {
    "scrolled": true
   },
   "outputs": [
    {
     "name": "stdout",
     "output_type": "stream",
     "text": [
      "...\n",
      "Epoch=1 Train_Loss=0.145424 Test_Loss=0.078757 Test AP=0.020475 Precision=0.062500 Recall=0.000759 F1=0.001500 ROC_AUC=0.810562 Epoch_time=86.195006\n",
      "...\n",
      "Epoch=2 Train_Loss=0.126406 Test_Loss=0.067979 Test AP=0.020364 Precision=0.062500 Recall=0.000759 F1=0.001500 ROC_AUC=0.818571 Epoch_time=88.648851\n"
     ]
    },
    {
     "ename": "KeyboardInterrupt",
     "evalue": "",
     "output_type": "error",
     "traceback": [
      "\u001b[0;31m---------------------------------------------------------------------------\u001b[0m",
      "\u001b[0;31mKeyboardInterrupt\u001b[0m                         Traceback (most recent call last)",
      "Cell \u001b[0;32mIn[16], line 19\u001b[0m\n\u001b[1;32m     17\u001b[0m batch_morgan1, batch_morgan2, batch_morgan3, batch_protein, batch_labels \u001b[38;5;241m=\u001b[39m batch\n\u001b[1;32m     18\u001b[0m batch_morgan \u001b[38;5;241m=\u001b[39m np\u001b[38;5;241m.\u001b[39mconcatenate((batch_morgan1, batch_morgan2, batch_morgan3, batch_protein), \u001b[38;5;241m1\u001b[39m)\n\u001b[0;32m---> 19\u001b[0m score \u001b[38;5;241m=\u001b[39m \u001b[43mnet\u001b[49m\u001b[43m(\u001b[49m\u001b[43mtorch\u001b[49m\u001b[38;5;241;43m.\u001b[39;49m\u001b[43mTensor\u001b[49m\u001b[43m(\u001b[49m\u001b[43mbatch_morgan\u001b[49m\u001b[43m)\u001b[49m\u001b[38;5;241;43m.\u001b[39;49m\u001b[43mto\u001b[49m\u001b[43m(\u001b[49m\u001b[43mdev\u001b[49m\u001b[43m)\u001b[49m\u001b[43m)\u001b[49m\n\u001b[1;32m     20\u001b[0m loss \u001b[38;5;241m=\u001b[39m torch\u001b[38;5;241m.\u001b[39mnn\u001b[38;5;241m.\u001b[39mfunctional\u001b[38;5;241m.\u001b[39mbinary_cross_entropy_with_logits(score, torch\u001b[38;5;241m.\u001b[39mTensor(batch_labels)[:, \u001b[38;5;28;01mNone\u001b[39;00m]\u001b[38;5;241m.\u001b[39mto(dev), pos_weight\u001b[38;5;241m=\u001b[39mpos_weight)\n\u001b[1;32m     21\u001b[0m train_loss \u001b[38;5;241m+\u001b[39m\u001b[38;5;241m=\u001b[39m loss\u001b[38;5;241m.\u001b[39mcpu()\u001b[38;5;241m.\u001b[39mitem() \u001b[38;5;241m*\u001b[39m \u001b[38;5;28mlen\u001b[39m(score)\n",
      "File \u001b[0;32m~/miniconda3/envs/tutorial/lib/python3.10/site-packages/torch/nn/modules/module.py:1532\u001b[0m, in \u001b[0;36mModule._wrapped_call_impl\u001b[0;34m(self, *args, **kwargs)\u001b[0m\n\u001b[1;32m   1530\u001b[0m     \u001b[38;5;28;01mreturn\u001b[39;00m \u001b[38;5;28mself\u001b[39m\u001b[38;5;241m.\u001b[39m_compiled_call_impl(\u001b[38;5;241m*\u001b[39margs, \u001b[38;5;241m*\u001b[39m\u001b[38;5;241m*\u001b[39mkwargs)  \u001b[38;5;66;03m# type: ignore[misc]\u001b[39;00m\n\u001b[1;32m   1531\u001b[0m \u001b[38;5;28;01melse\u001b[39;00m:\n\u001b[0;32m-> 1532\u001b[0m     \u001b[38;5;28;01mreturn\u001b[39;00m \u001b[38;5;28;43mself\u001b[39;49m\u001b[38;5;241;43m.\u001b[39;49m\u001b[43m_call_impl\u001b[49m\u001b[43m(\u001b[49m\u001b[38;5;241;43m*\u001b[39;49m\u001b[43margs\u001b[49m\u001b[43m,\u001b[49m\u001b[43m \u001b[49m\u001b[38;5;241;43m*\u001b[39;49m\u001b[38;5;241;43m*\u001b[39;49m\u001b[43mkwargs\u001b[49m\u001b[43m)\u001b[49m\n",
      "File \u001b[0;32m~/miniconda3/envs/tutorial/lib/python3.10/site-packages/torch/nn/modules/module.py:1541\u001b[0m, in \u001b[0;36mModule._call_impl\u001b[0;34m(self, *args, **kwargs)\u001b[0m\n\u001b[1;32m   1536\u001b[0m \u001b[38;5;66;03m# If we don't have any hooks, we want to skip the rest of the logic in\u001b[39;00m\n\u001b[1;32m   1537\u001b[0m \u001b[38;5;66;03m# this function, and just call forward.\u001b[39;00m\n\u001b[1;32m   1538\u001b[0m \u001b[38;5;28;01mif\u001b[39;00m \u001b[38;5;129;01mnot\u001b[39;00m (\u001b[38;5;28mself\u001b[39m\u001b[38;5;241m.\u001b[39m_backward_hooks \u001b[38;5;129;01mor\u001b[39;00m \u001b[38;5;28mself\u001b[39m\u001b[38;5;241m.\u001b[39m_backward_pre_hooks \u001b[38;5;129;01mor\u001b[39;00m \u001b[38;5;28mself\u001b[39m\u001b[38;5;241m.\u001b[39m_forward_hooks \u001b[38;5;129;01mor\u001b[39;00m \u001b[38;5;28mself\u001b[39m\u001b[38;5;241m.\u001b[39m_forward_pre_hooks\n\u001b[1;32m   1539\u001b[0m         \u001b[38;5;129;01mor\u001b[39;00m _global_backward_pre_hooks \u001b[38;5;129;01mor\u001b[39;00m _global_backward_hooks\n\u001b[1;32m   1540\u001b[0m         \u001b[38;5;129;01mor\u001b[39;00m _global_forward_hooks \u001b[38;5;129;01mor\u001b[39;00m _global_forward_pre_hooks):\n\u001b[0;32m-> 1541\u001b[0m     \u001b[38;5;28;01mreturn\u001b[39;00m \u001b[43mforward_call\u001b[49m\u001b[43m(\u001b[49m\u001b[38;5;241;43m*\u001b[39;49m\u001b[43margs\u001b[49m\u001b[43m,\u001b[49m\u001b[43m \u001b[49m\u001b[38;5;241;43m*\u001b[39;49m\u001b[38;5;241;43m*\u001b[39;49m\u001b[43mkwargs\u001b[49m\u001b[43m)\u001b[49m\n\u001b[1;32m   1543\u001b[0m \u001b[38;5;28;01mtry\u001b[39;00m:\n\u001b[1;32m   1544\u001b[0m     result \u001b[38;5;241m=\u001b[39m \u001b[38;5;28;01mNone\u001b[39;00m\n",
      "File \u001b[0;32m~/miniconda3/envs/tutorial/lib/python3.10/site-packages/torch/nn/parallel/data_parallel.py:167\u001b[0m, in \u001b[0;36mDataParallel.forward\u001b[0;34m(self, *inputs, **kwargs)\u001b[0m\n\u001b[1;32m    165\u001b[0m \u001b[38;5;28;01mwith\u001b[39;00m torch\u001b[38;5;241m.\u001b[39mautograd\u001b[38;5;241m.\u001b[39mprofiler\u001b[38;5;241m.\u001b[39mrecord_function(\u001b[38;5;124m\"\u001b[39m\u001b[38;5;124mDataParallel.forward\u001b[39m\u001b[38;5;124m\"\u001b[39m):\n\u001b[1;32m    166\u001b[0m     \u001b[38;5;28;01mif\u001b[39;00m \u001b[38;5;129;01mnot\u001b[39;00m \u001b[38;5;28mself\u001b[39m\u001b[38;5;241m.\u001b[39mdevice_ids:\n\u001b[0;32m--> 167\u001b[0m         \u001b[38;5;28;01mreturn\u001b[39;00m \u001b[38;5;28;43mself\u001b[39;49m\u001b[38;5;241;43m.\u001b[39;49m\u001b[43mmodule\u001b[49m\u001b[43m(\u001b[49m\u001b[38;5;241;43m*\u001b[39;49m\u001b[43minputs\u001b[49m\u001b[43m,\u001b[49m\u001b[43m \u001b[49m\u001b[38;5;241;43m*\u001b[39;49m\u001b[38;5;241;43m*\u001b[39;49m\u001b[43mkwargs\u001b[49m\u001b[43m)\u001b[49m\n\u001b[1;32m    169\u001b[0m     \u001b[38;5;28;01mfor\u001b[39;00m t \u001b[38;5;129;01min\u001b[39;00m chain(\u001b[38;5;28mself\u001b[39m\u001b[38;5;241m.\u001b[39mmodule\u001b[38;5;241m.\u001b[39mparameters(), \u001b[38;5;28mself\u001b[39m\u001b[38;5;241m.\u001b[39mmodule\u001b[38;5;241m.\u001b[39mbuffers()):\n\u001b[1;32m    170\u001b[0m         \u001b[38;5;28;01mif\u001b[39;00m t\u001b[38;5;241m.\u001b[39mdevice \u001b[38;5;241m!=\u001b[39m \u001b[38;5;28mself\u001b[39m\u001b[38;5;241m.\u001b[39msrc_device_obj:\n",
      "File \u001b[0;32m~/miniconda3/envs/tutorial/lib/python3.10/site-packages/torch/nn/modules/module.py:1532\u001b[0m, in \u001b[0;36mModule._wrapped_call_impl\u001b[0;34m(self, *args, **kwargs)\u001b[0m\n\u001b[1;32m   1530\u001b[0m     \u001b[38;5;28;01mreturn\u001b[39;00m \u001b[38;5;28mself\u001b[39m\u001b[38;5;241m.\u001b[39m_compiled_call_impl(\u001b[38;5;241m*\u001b[39margs, \u001b[38;5;241m*\u001b[39m\u001b[38;5;241m*\u001b[39mkwargs)  \u001b[38;5;66;03m# type: ignore[misc]\u001b[39;00m\n\u001b[1;32m   1531\u001b[0m \u001b[38;5;28;01melse\u001b[39;00m:\n\u001b[0;32m-> 1532\u001b[0m     \u001b[38;5;28;01mreturn\u001b[39;00m \u001b[38;5;28;43mself\u001b[39;49m\u001b[38;5;241;43m.\u001b[39;49m\u001b[43m_call_impl\u001b[49m\u001b[43m(\u001b[49m\u001b[38;5;241;43m*\u001b[39;49m\u001b[43margs\u001b[49m\u001b[43m,\u001b[49m\u001b[43m \u001b[49m\u001b[38;5;241;43m*\u001b[39;49m\u001b[38;5;241;43m*\u001b[39;49m\u001b[43mkwargs\u001b[49m\u001b[43m)\u001b[49m\n",
      "File \u001b[0;32m~/miniconda3/envs/tutorial/lib/python3.10/site-packages/torch/nn/modules/module.py:1541\u001b[0m, in \u001b[0;36mModule._call_impl\u001b[0;34m(self, *args, **kwargs)\u001b[0m\n\u001b[1;32m   1536\u001b[0m \u001b[38;5;66;03m# If we don't have any hooks, we want to skip the rest of the logic in\u001b[39;00m\n\u001b[1;32m   1537\u001b[0m \u001b[38;5;66;03m# this function, and just call forward.\u001b[39;00m\n\u001b[1;32m   1538\u001b[0m \u001b[38;5;28;01mif\u001b[39;00m \u001b[38;5;129;01mnot\u001b[39;00m (\u001b[38;5;28mself\u001b[39m\u001b[38;5;241m.\u001b[39m_backward_hooks \u001b[38;5;129;01mor\u001b[39;00m \u001b[38;5;28mself\u001b[39m\u001b[38;5;241m.\u001b[39m_backward_pre_hooks \u001b[38;5;129;01mor\u001b[39;00m \u001b[38;5;28mself\u001b[39m\u001b[38;5;241m.\u001b[39m_forward_hooks \u001b[38;5;129;01mor\u001b[39;00m \u001b[38;5;28mself\u001b[39m\u001b[38;5;241m.\u001b[39m_forward_pre_hooks\n\u001b[1;32m   1539\u001b[0m         \u001b[38;5;129;01mor\u001b[39;00m _global_backward_pre_hooks \u001b[38;5;129;01mor\u001b[39;00m _global_backward_hooks\n\u001b[1;32m   1540\u001b[0m         \u001b[38;5;129;01mor\u001b[39;00m _global_forward_hooks \u001b[38;5;129;01mor\u001b[39;00m _global_forward_pre_hooks):\n\u001b[0;32m-> 1541\u001b[0m     \u001b[38;5;28;01mreturn\u001b[39;00m \u001b[43mforward_call\u001b[49m\u001b[43m(\u001b[49m\u001b[38;5;241;43m*\u001b[39;49m\u001b[43margs\u001b[49m\u001b[43m,\u001b[49m\u001b[43m \u001b[49m\u001b[38;5;241;43m*\u001b[39;49m\u001b[38;5;241;43m*\u001b[39;49m\u001b[43mkwargs\u001b[49m\u001b[43m)\u001b[49m\n\u001b[1;32m   1543\u001b[0m \u001b[38;5;28;01mtry\u001b[39;00m:\n\u001b[1;32m   1544\u001b[0m     result \u001b[38;5;241m=\u001b[39m \u001b[38;5;28;01mNone\u001b[39;00m\n",
      "Cell \u001b[0;32mIn[7], line 14\u001b[0m, in \u001b[0;36mNet.forward\u001b[0;34m(self, x)\u001b[0m\n\u001b[1;32m     13\u001b[0m \u001b[38;5;28;01mdef\u001b[39;00m \u001b[38;5;21mforward\u001b[39m(\u001b[38;5;28mself\u001b[39m, x):\n\u001b[0;32m---> 14\u001b[0m     x\u001b[38;5;241m=\u001b[39mF\u001b[38;5;241m.\u001b[39mrelu(\u001b[38;5;28;43mself\u001b[39;49m\u001b[38;5;241;43m.\u001b[39;49m\u001b[43mfc1\u001b[49m\u001b[43m(\u001b[49m\u001b[43mx\u001b[49m\u001b[43m)\u001b[49m)\n\u001b[1;32m     15\u001b[0m     x\u001b[38;5;241m=\u001b[39mF\u001b[38;5;241m.\u001b[39mrelu(\u001b[38;5;28mself\u001b[39m\u001b[38;5;241m.\u001b[39mfc2(x))\n\u001b[1;32m     16\u001b[0m     x\u001b[38;5;241m=\u001b[39mF\u001b[38;5;241m.\u001b[39mrelu(\u001b[38;5;28mself\u001b[39m\u001b[38;5;241m.\u001b[39mfc4(x))\n",
      "File \u001b[0;32m~/miniconda3/envs/tutorial/lib/python3.10/site-packages/torch/nn/modules/module.py:1532\u001b[0m, in \u001b[0;36mModule._wrapped_call_impl\u001b[0;34m(self, *args, **kwargs)\u001b[0m\n\u001b[1;32m   1530\u001b[0m     \u001b[38;5;28;01mreturn\u001b[39;00m \u001b[38;5;28mself\u001b[39m\u001b[38;5;241m.\u001b[39m_compiled_call_impl(\u001b[38;5;241m*\u001b[39margs, \u001b[38;5;241m*\u001b[39m\u001b[38;5;241m*\u001b[39mkwargs)  \u001b[38;5;66;03m# type: ignore[misc]\u001b[39;00m\n\u001b[1;32m   1531\u001b[0m \u001b[38;5;28;01melse\u001b[39;00m:\n\u001b[0;32m-> 1532\u001b[0m     \u001b[38;5;28;01mreturn\u001b[39;00m \u001b[38;5;28;43mself\u001b[39;49m\u001b[38;5;241;43m.\u001b[39;49m\u001b[43m_call_impl\u001b[49m\u001b[43m(\u001b[49m\u001b[38;5;241;43m*\u001b[39;49m\u001b[43margs\u001b[49m\u001b[43m,\u001b[49m\u001b[43m \u001b[49m\u001b[38;5;241;43m*\u001b[39;49m\u001b[38;5;241;43m*\u001b[39;49m\u001b[43mkwargs\u001b[49m\u001b[43m)\u001b[49m\n",
      "File \u001b[0;32m~/miniconda3/envs/tutorial/lib/python3.10/site-packages/torch/nn/modules/module.py:1541\u001b[0m, in \u001b[0;36mModule._call_impl\u001b[0;34m(self, *args, **kwargs)\u001b[0m\n\u001b[1;32m   1536\u001b[0m \u001b[38;5;66;03m# If we don't have any hooks, we want to skip the rest of the logic in\u001b[39;00m\n\u001b[1;32m   1537\u001b[0m \u001b[38;5;66;03m# this function, and just call forward.\u001b[39;00m\n\u001b[1;32m   1538\u001b[0m \u001b[38;5;28;01mif\u001b[39;00m \u001b[38;5;129;01mnot\u001b[39;00m (\u001b[38;5;28mself\u001b[39m\u001b[38;5;241m.\u001b[39m_backward_hooks \u001b[38;5;129;01mor\u001b[39;00m \u001b[38;5;28mself\u001b[39m\u001b[38;5;241m.\u001b[39m_backward_pre_hooks \u001b[38;5;129;01mor\u001b[39;00m \u001b[38;5;28mself\u001b[39m\u001b[38;5;241m.\u001b[39m_forward_hooks \u001b[38;5;129;01mor\u001b[39;00m \u001b[38;5;28mself\u001b[39m\u001b[38;5;241m.\u001b[39m_forward_pre_hooks\n\u001b[1;32m   1539\u001b[0m         \u001b[38;5;129;01mor\u001b[39;00m _global_backward_pre_hooks \u001b[38;5;129;01mor\u001b[39;00m _global_backward_hooks\n\u001b[1;32m   1540\u001b[0m         \u001b[38;5;129;01mor\u001b[39;00m _global_forward_hooks \u001b[38;5;129;01mor\u001b[39;00m _global_forward_pre_hooks):\n\u001b[0;32m-> 1541\u001b[0m     \u001b[38;5;28;01mreturn\u001b[39;00m \u001b[43mforward_call\u001b[49m\u001b[43m(\u001b[49m\u001b[38;5;241;43m*\u001b[39;49m\u001b[43margs\u001b[49m\u001b[43m,\u001b[49m\u001b[43m \u001b[49m\u001b[38;5;241;43m*\u001b[39;49m\u001b[38;5;241;43m*\u001b[39;49m\u001b[43mkwargs\u001b[49m\u001b[43m)\u001b[49m\n\u001b[1;32m   1543\u001b[0m \u001b[38;5;28;01mtry\u001b[39;00m:\n\u001b[1;32m   1544\u001b[0m     result \u001b[38;5;241m=\u001b[39m \u001b[38;5;28;01mNone\u001b[39;00m\n",
      "File \u001b[0;32m~/miniconda3/envs/tutorial/lib/python3.10/site-packages/torch/nn/modules/linear.py:116\u001b[0m, in \u001b[0;36mLinear.forward\u001b[0;34m(self, input)\u001b[0m\n\u001b[1;32m    115\u001b[0m \u001b[38;5;28;01mdef\u001b[39;00m \u001b[38;5;21mforward\u001b[39m(\u001b[38;5;28mself\u001b[39m, \u001b[38;5;28minput\u001b[39m: Tensor) \u001b[38;5;241m-\u001b[39m\u001b[38;5;241m>\u001b[39m Tensor:\n\u001b[0;32m--> 116\u001b[0m     \u001b[38;5;28;01mreturn\u001b[39;00m \u001b[43mF\u001b[49m\u001b[38;5;241;43m.\u001b[39;49m\u001b[43mlinear\u001b[49m\u001b[43m(\u001b[49m\u001b[38;5;28;43minput\u001b[39;49m\u001b[43m,\u001b[49m\u001b[43m \u001b[49m\u001b[38;5;28;43mself\u001b[39;49m\u001b[38;5;241;43m.\u001b[39;49m\u001b[43mweight\u001b[49m\u001b[43m,\u001b[49m\u001b[43m \u001b[49m\u001b[38;5;28;43mself\u001b[39;49m\u001b[38;5;241;43m.\u001b[39;49m\u001b[43mbias\u001b[49m\u001b[43m)\u001b[49m\n",
      "\u001b[0;31mKeyboardInterrupt\u001b[0m: "
     ]
    }
   ],
   "source": [
    "pos_weight=torch.Tensor(np.array(5.0))\n",
    "pos_weight_vali=torch.Tensor(np.array(1.0))\n",
    "epoch_num=20\n",
    "model_save_dir = \"/mnt/isilon/wang_lab/shared/Belka/analysis/saved_models/\"\n",
    "loss_log=[]\n",
    "\n",
    "# Training loop\n",
    "for i in range(epoch_num):\n",
    "    t=time.time()\n",
    "    \n",
    "    net.train()\n",
    "    train_loss = 0\n",
    "    train_len = 0\n",
    "    train_generator = generate_batches(train_files, batch_size=4096)\n",
    "    for batch in train_generator:\n",
    "        optimizer.zero_grad()\n",
    "        batch_morgan1, batch_morgan2, batch_morgan3, batch_protein, batch_labels = batch\n",
    "        batch_morgan = np.concatenate((batch_morgan1, batch_morgan2, batch_morgan3, batch_protein), 1)\n",
    "        score = net(torch.Tensor(batch_morgan).to(dev))\n",
    "        loss = torch.nn.functional.binary_cross_entropy_with_logits(score, torch.Tensor(batch_labels)[:, None].to(dev), pos_weight=pos_weight)\n",
    "        train_loss += loss.cpu().item() * len(score)\n",
    "        train_len += len(score)\n",
    "        loss.backward()\n",
    "        optimizer.step()\n",
    "    \n",
    "    with torch.no_grad():\n",
    "        net.eval()\n",
    "        preds = []\n",
    "        labels = []\n",
    "        test_loss = 0\n",
    "        test_generator = generate_batches(test_files, batch_size=50000)\n",
    "        for batch in test_generator:\n",
    "            batch_morgan1, batch_morgan2, batch_morgan3, batch_protein, batch_labels = batch\n",
    "            batch_morgan = np.concatenate((batch_morgan1, batch_morgan2, batch_morgan3, batch_protein), 1)\n",
    "            score = net(torch.Tensor(batch_morgan).to(dev))\n",
    "            loss = torch.nn.functional.binary_cross_entropy_with_logits(score, torch.Tensor(batch_labels)[:, None].to(dev), pos_weight=pos_weight_vali)\n",
    "            preds.append(torch.sigmoid(score).cpu().numpy())\n",
    "            labels.append(batch_labels)\n",
    "            test_loss += loss.cpu().item() * len(score)\n",
    "        \n",
    "        preds = np.vstack(preds)[:, 0]\n",
    "        labels = np.hstack(labels)\n",
    "\n",
    "        # Calculate additional metrics\n",
    "        ap = average_precision_score(labels, preds)\n",
    "        precision = precision_score(labels, preds > 0.5)\n",
    "        recall = recall_score(labels, preds > 0.5)\n",
    "        f1 = f1_score(labels, preds > 0.5)\n",
    "        roc_auc = roc_auc_score(labels, preds)\n",
    "\n",
    "        print(f'\\nEpoch={i+1} Train_Loss={train_loss/train_len:.6f} Test_Loss={test_loss/len(labels):.6f} '\n",
    "              f'Test AP={ap:.6f} Precision={precision:.6f} Recall={recall:.6f} F1={f1:.6f} ROC_AUC={roc_auc:.6f} Epoch_time={time.time()-t:.6f}')\n",
    "        \n",
    "        #save the loss_log for plotting\n",
    "        loss_log.append((i+1,train_loss/train_len, test_loss/len(labels)))\n",
    "        #save the model at each epoch\n",
    "        '''torch.save({\n",
    "            'epoch': i+1,\n",
    "            'model_state_dict': net.state_dict(),\n",
    "            'optimizer_state_dict': optimizer.state_dict(),\n",
    "            'loss': train_loss,\n",
    "        }, model_save_dir+f'bldblock_NN_epoch_{i+1}.pth')'''\n",
    "    \n",
    "    scheduler.step(test_loss/len(labels))"
   ]
  },
  {
   "cell_type": "code",
   "execution_count": 31,
   "id": "49868a34",
   "metadata": {},
   "outputs": [
    {
     "name": "stdout",
     "output_type": "stream",
     "text": [
      "Last computed lr by scheduler: [0.01]\n"
     ]
    }
   ],
   "source": [
    "print(f'Last computed lr by scheduler: {scheduler.get_last_lr()}')"
   ]
  },
  {
   "cell_type": "code",
   "execution_count": 11,
   "id": "a7f92e29",
   "metadata": {},
   "outputs": [
    {
     "data": {
      "text/plain": [
       "<Axes: >"
      ]
     },
     "execution_count": 11,
     "metadata": {},
     "output_type": "execute_result"
    },
    {
     "data": {
      "image/png": "[encoded data removed]",
      "text/plain": [
       "<Figure size 640x480 with 1 Axes>"
      ]
     },
     "metadata": {},
     "output_type": "display_data"
    }
   ],
   "source": [
    "\n",
    "loss_df = pd.DataFrame(loss_log,columns=['epoch', 'train_loss', 'validation_loss'])\n",
    "loss_df[['train_loss', 'validation_loss']].plot()"
   ]
  },
  {
   "cell_type": "code",
   "execution_count": 12,
   "id": "be96a8d5",
   "metadata": {},
   "outputs": [],
   "source": [
    "loss_df.to_csv('bldblock_NN_epoch_1-20.csv',index=False)"
   ]
  },
  {
   "cell_type": "markdown",
   "id": "9761743f",
   "metadata": {},
   "source": [
    "Model Parameters = 23613441\n",
    "\n",
    "num of train_file:  5\n",
    "num of validation_file:  1\n",
    "batch_size=100000000: 24.4 s\n",
    "batch size 10000000: 24.7 s\n",
    "batch size 1000000: 24.6 s\n",
    "batch_size=100000: 23.4 s\n",
    "batch size 1024: 37.5 s\n",
    "\n",
    "num of train_file:  20\n",
    "num of validation_file:  4\n",
    "batch_size=100000000: 1min 37s\n",
    "batch size 10000000: 1min 42s\n",
    "batch size 1024: 4min 2s"
   ]
  },
  {
   "cell_type": "markdown",
   "id": "6f1aa20f",
   "metadata": {},
   "source": [
    "## Validation test on different protein"
   ]
  },
  {
   "cell_type": "code",
   "execution_count": null,
   "id": "32eeb0bd",
   "metadata": {},
   "outputs": [],
   "source": [
    "import numpy as np\n",
    "import os, random, time\n",
    "import pandas as pd\n",
    "from pathlib import Path\n",
    "from sklearn.metrics import precision_score, recall_score, f1_score, roc_auc_score, average_precision_score\n",
    "\n",
    "def get_files(input_list):\n",
    "    out_list=[]\n",
    "    if type(input_list)==type(None):\n",
    "        return out_list\n",
    "    for item in input_list:\n",
    "        \n",
    "        if os.path.isdir(item):\n",
    "            out_list.extend(list(Path(item).rglob(\"*.npz\")))\n",
    "\n",
    "        elif item[-4:]=='.npz':\n",
    "            out_list.append(item)        \n",
    "    \n",
    "    random.seed(0)\n",
    "    random.shuffle(out_list)\n",
    "    return out_list\n",
    "\n",
    "def read_from_file(file_name):\n",
    "    data=np.load(file_name)\n",
    "    return data['morgan1'],data['morgan2'],data['morgan3'], data['protein'], data['labels']\n",
    "\n",
    "def generate_batches(files, batch_size=1024):\n",
    "    counter = 0\n",
    "    \n",
    "    print_freq=max(1, len(files)//10)\n",
    "    \n",
    "    while counter<len(files):\n",
    "        file_name = files[counter]\n",
    "\n",
    "        counter +=1\n",
    "        \n",
    "        data=read_from_file(file_name)\n",
    "\n",
    "        morgan1, morgan2, morgan3, protein, labels=data\n",
    "        batch_size=max(batch_size,1)\n",
    "        for local_index in range(0, labels.shape[0], batch_size):\n",
    "            batch_morgan1=morgan1[local_index:(local_index + batch_size)]\n",
    "            batch_morgan2=morgan2[local_index:(local_index + batch_size)]\n",
    "            batch_morgan3=morgan3[local_index:(local_index + batch_size)]\n",
    "            batch_protein=protein[local_index:(local_index + batch_size)]\n",
    "            batch_labels=labels[local_index:(local_index + batch_size)]          \n",
    "\n",
    "            yield batch_morgan1, batch_morgan2, batch_morgan3, batch_protein, batch_labels\n",
    "        \n",
    "        if counter%print_freq==0:\n",
    "            print('.', end='',flush=True)\n"
   ]
  },
  {
   "cell_type": "code",
   "execution_count": null,
   "id": "042fa126",
   "metadata": {},
   "outputs": [],
   "source": [
    "import torch\n",
    "import torch.nn as nn\n",
    "import torch.nn.functional as F\n",
    "\n",
    "from torch import optim, Tensor\n",
    "\n",
    "from torch.nn.parallel import DataParallel\n",
    "\n",
    "class Net(nn.Module):\n",
    "\n",
    "    def __init__(self):\n",
    "        super(Net, self).__init__()\n",
    "        self.fc1=nn.Linear(3075,2048)\n",
    "        self.dropout1 = nn.Dropout(0.2)\n",
    "        self.fc2=nn.Linear(2048,1024)\n",
    "        self.dropout3 = nn.Dropout(0.2)\n",
    "        self.fc4=nn.Linear(1024,512)\n",
    "        self.fc5=nn.Linear(512,128)\n",
    "        self.out=nn.Linear(128,1)\n",
    "        \n",
    "    def forward(self, x):\n",
    "        x=F.relu(self.fc1(x))\n",
    "        x=F.relu(self.fc2(x))\n",
    "        x=F.relu(self.fc4(x))\n",
    "        x=F.relu(self.fc5(x))\n",
    "        out=self.out(x)\n",
    "        return out"
   ]
  },
  {
   "cell_type": "code",
   "execution_count": 7,
   "id": "1bcbe4fc",
   "metadata": {},
   "outputs": [],
   "source": [
    "model_load_path = \"/mnt/isilon/wang_lab/shared/Belka/analysis/saved_models/bldblock_NN_epoch_8.pth\"\n",
    "checkpoint = torch.load(model_load_path)\n",
    "\n",
    "# load the model and continue training\n",
    "dev = 'cuda' if torch.cuda.is_available() else 'cpu'\n",
    "net = Net().to(dev)\n",
    "net = DataParallel(net) #do this because previous model is within DataParallel\n",
    "net.load_state_dict(checkpoint['model_state_dict'])\n",
    "\n",
    "\n",
    "optimizer = optim.Adam(net.parameters(), lr=0.001)\n",
    "optimizer.load_state_dict(checkpoint['optimizer_state_dict'])\n",
    "#loss = loss.load_state_dict(checkpoint['loss'])"
   ]
  },
  {
   "cell_type": "code",
   "execution_count": 22,
   "id": "eefb6f87",
   "metadata": {},
   "outputs": [
    {
     "name": "stdout",
     "output_type": "stream",
     "text": [
      "num of validation_file:  119\n"
     ]
    }
   ],
   "source": [
    "test_files=get_files(['morgan_validation_complete/'])\n",
    "print('num of validation_file: ',len(test_files))"
   ]
  },
  {
   "cell_type": "code",
   "execution_count": 23,
   "id": "059178e5",
   "metadata": {},
   "outputs": [
    {
     "name": "stdout",
     "output_type": "stream",
     "text": [
      "..........Test AP=0.639679 ROC_AUC=0.986233\n",
      "CPU times: user 5min 37s, sys: 3min 29s, total: 9min 6s\n",
      "Wall time: 12min 6s\n"
     ]
    }
   ],
   "source": [
    "%%time\n",
    "with torch.no_grad():\n",
    "    net.eval()\n",
    "    preds = []\n",
    "    labels = []\n",
    "    proteins = []\n",
    "    test_loss = 0\n",
    "    test_generator = generate_batches(test_files, batch_size=50000)\n",
    "    for batch in test_generator:\n",
    "        batch_morgan1, batch_morgan2, batch_morgan3, batch_protein, batch_labels = batch\n",
    "        batch_morgan = np.concatenate((batch_morgan1, batch_morgan2, batch_morgan3, batch_protein), 1)\n",
    "        score = net(torch.Tensor(batch_morgan).to(dev))\n",
    "        #loss = torch.nn.functional.binary_cross_entropy_with_logits(score, torch.Tensor(batch_labels)[:, None].to(dev), pos_weight=pos_weight_vali)\n",
    "        \n",
    "        preds.append(torch.sigmoid(score).cpu().numpy())\n",
    "        labels.append(batch_labels)\n",
    "        proteins.append(batch_protein)\n",
    "        #test_loss += loss.cpu().item() * len(score)\n",
    "\n",
    "    preds = np.vstack(preds)[:, 0]\n",
    "    labels = np.hstack(labels)\n",
    "    proteins = np.vstack(proteins)\n",
    "\n",
    "    # Calculate additional metrics\n",
    "    ap = average_precision_score(labels, preds)\n",
    "    roc_auc = roc_auc_score(labels, preds)\n",
    "\n",
    "    print(f'Test AP={ap:.6f} ROC_AUC={roc_auc:.6f}')\n",
    "\n"
   ]
  },
  {
   "cell_type": "code",
   "execution_count": 30,
   "id": "93c293f1",
   "metadata": {},
   "outputs": [
    {
     "data": {
      "text/plain": [
       "array([4.2627672e-08, 9.7955370e-01, 9.9566805e-01, ..., 1.4888950e-07,\n",
       "       3.0479138e-04, 8.3507366e-06], dtype=float32)"
      ]
     },
     "execution_count": 30,
     "metadata": {},
     "output_type": "execute_result"
    }
   ],
   "source": [
    "preds"
   ]
  },
  {
   "cell_type": "code",
   "execution_count": 26,
   "id": "285aaaa8",
   "metadata": {},
   "outputs": [
    {
     "data": {
      "text/plain": [
       "array([0, 1, 1, ..., 0, 0, 0], dtype=int8)"
      ]
     },
     "execution_count": 26,
     "metadata": {},
     "output_type": "execute_result"
    }
   ],
   "source": [
    "labels"
   ]
  },
  {
   "cell_type": "code",
   "execution_count": 27,
   "id": "89ef8e68",
   "metadata": {},
   "outputs": [
    {
     "data": {
      "text/plain": [
       "array([[1, 0, 0],\n",
       "       [0, 1, 0],\n",
       "       [0, 0, 1],\n",
       "       ...,\n",
       "       [0, 0, 1],\n",
       "       [1, 0, 0],\n",
       "       [0, 0, 1]], dtype=int8)"
      ]
     },
     "execution_count": 27,
     "metadata": {},
     "output_type": "execute_result"
    }
   ],
   "source": [
    "proteins"
   ]
  },
  {
   "cell_type": "code",
   "execution_count": 28,
   "id": "2e943ff0",
   "metadata": {},
   "outputs": [],
   "source": [
    "np.savez('bldblock_NN_epoch_8_validation_save.npz', \n",
    "         preds=preds,labels=labels,proteins=proteins)"
   ]
  },
  {
   "cell_type": "code",
   "execution_count": 40,
   "id": "de72be1a",
   "metadata": {},
   "outputs": [],
   "source": [
    "p_map = {'BRD4': 0, 'HSA': 1, 'sEH': 2}\n",
    "protein_names = ['BRD4', 'HSA', 'sEH']"
   ]
  },
  {
   "cell_type": "code",
   "execution_count": 47,
   "id": "8bcb1313",
   "metadata": {},
   "outputs": [
    {
     "data": {
      "text/plain": [
       "array([19681160, 19678117, 19685434])"
      ]
     },
     "execution_count": 47,
     "metadata": {},
     "output_type": "execute_result"
    }
   ],
   "source": [
    "np.sum(proteins,axis=0)"
   ]
  },
  {
   "cell_type": "code",
   "execution_count": 42,
   "id": "fc8034a1",
   "metadata": {},
   "outputs": [],
   "source": [
    "import numpy as np\n",
    "from sklearn.metrics import average_precision_score, precision_recall_curve\n",
    "import matplotlib.pyplot as plt"
   ]
  },
  {
   "cell_type": "code",
   "execution_count": 44,
   "id": "9f6f2e2c",
   "metadata": {},
   "outputs": [
    {
     "name": "stdout",
     "output_type": "stream",
     "text": [
      "Average Precision for BRD4: 0.5306\n",
      "Average Precision for HSA: 0.3901\n",
      "Average Precision for sEH: 0.8234\n"
     ]
    },
    {
     "data": {
      "image/png": "[encoded data removed]",
      "text/plain": [
       "<Figure size 640x480 with 1 Axes>"
      ]
     },
     "metadata": {},
     "output_type": "display_data"
    }
   ],
   "source": [
    "# Plot precision-recall curves for each protein in one plot\n",
    "plt.figure()\n",
    "\n",
    "for protein_name, protein_idx in p_map.items():\n",
    "    # Filter data for the current protein\n",
    "    protein_filter = proteins[:, protein_idx] == 1\n",
    "    protein_preds = preds[protein_filter]\n",
    "    protein_labels = labels[protein_filter]\n",
    "\n",
    "    # Calculate average precision\n",
    "    ap = average_precision_score(protein_labels, protein_preds)\n",
    "    print(f'Average Precision for {protein_name}: {ap:.4f}')\n",
    "\n",
    "    # Calculate precision-recall curve\n",
    "    precision, recall, _ = precision_recall_curve(protein_labels, protein_preds)\n",
    "\n",
    "    # Plot precision-recall curve\n",
    "    plt.plot(recall, precision, label=f'{protein_name} (AP={ap:.4f})')\n",
    "\n",
    "plt.xlabel('Recall')\n",
    "plt.ylabel('Precision')\n",
    "plt.title('Precision-Recall curve for each protein (bdb_NN_epoch8)')\n",
    "plt.legend()\n",
    "plt.show()"
   ]
  },
  {
   "cell_type": "code",
   "execution_count": null,
   "id": "07345efc",
   "metadata": {},
   "outputs": [],
   "source": []
  },
  {
   "cell_type": "markdown",
   "id": "fabfba3f",
   "metadata": {},
   "source": [
    "### model using both bb and complete molecule"
   ]
  },
  {
   "cell_type": "code",
   "execution_count": null,
   "id": "d581ab9e",
   "metadata": {},
   "outputs": [],
   "source": []
  },
  {
   "cell_type": "markdown",
   "id": "7bb4b2ac",
   "metadata": {},
   "source": [
    "## test on the real competition test data"
   ]
  },
  {
   "cell_type": "code",
   "execution_count": 34,
   "id": "97aca736",
   "metadata": {},
   "outputs": [],
   "source": [
    "def get_files(input_list):\n",
    "    out_list=[]\n",
    "    if type(input_list)==type(None):\n",
    "        return out_list\n",
    "    for item in input_list:\n",
    "        \n",
    "        if os.path.isdir(item):\n",
    "            out_list.extend(list(Path(item).rglob(\"*.npz\")))\n",
    "\n",
    "        elif item[-4:]=='.npz':\n",
    "            out_list.append(item)        \n",
    "    \n",
    "    random.seed(0)\n",
    "    random.shuffle(out_list)\n",
    "    return out_list\n",
    "\n",
    "def read_from_file(file_name):\n",
    "    data=np.load(file_name)\n",
    "    return data['morgan1'],data['morgan2'],data['morgan3'], data['protein'], data['labels']\n",
    "\n",
    "def read_from_test_file(file_name):\n",
    "    data=np.load(file_name)\n",
    "    return data['morgan1'],data['morgan2'],data['morgan3'], data['protein'], data['ids']\n",
    "\n",
    "def generate_batches(files, batch_size=1024):\n",
    "    counter = 0\n",
    "    \n",
    "    print_freq=max(1, len(files)//10)\n",
    "    \n",
    "    while counter<len(files):\n",
    "        file_name = files[counter]\n",
    "\n",
    "        counter +=1\n",
    "        \n",
    "        data=read_from_file(file_name)\n",
    "\n",
    "        morgan1, morgan2, morgan3, protein, labels=data\n",
    "        batch_size=max(batch_size,1)\n",
    "        for local_index in range(0, labels.shape[0], batch_size):\n",
    "            batch_morgan1=morgan1[local_index:(local_index + batch_size)]\n",
    "            batch_morgan2=morgan2[local_index:(local_index + batch_size)]\n",
    "            batch_morgan3=morgan3[local_index:(local_index + batch_size)]\n",
    "            batch_protein=protein[local_index:(local_index + batch_size)]\n",
    "            batch_labels=labels[local_index:(local_index + batch_size)]          \n",
    "\n",
    "            yield batch_morgan1, batch_morgan2, batch_morgan3, batch_protein, batch_labels\n",
    "        \n",
    "        if counter%print_freq==0:\n",
    "            print('.', end='',flush=True)\n",
    "\n",
    "def generate_test_batches(files, batch_size=1024):\n",
    "    counter = 0\n",
    "    \n",
    "    print_freq=max(1, len(files)//10)\n",
    "    \n",
    "    while counter<len(files):\n",
    "        file_name = files[counter]\n",
    "\n",
    "        counter +=1\n",
    "        \n",
    "        data=read_from_test_file(file_name)\n",
    "\n",
    "        morgan1, morgan2, morgan3, protein, ids=data\n",
    "        batch_size=max(batch_size,1)\n",
    "        for local_index in range(0, ids.shape[0], batch_size):\n",
    "            batch_morgan1=morgan1[local_index:(local_index + batch_size)]\n",
    "            batch_morgan2=morgan2[local_index:(local_index + batch_size)]\n",
    "            batch_morgan3=morgan3[local_index:(local_index + batch_size)]\n",
    "            batch_protein=protein[local_index:(local_index + batch_size)]\n",
    "            batch_ids=ids[local_index:(local_index + batch_size)]   \n",
    "\n",
    "            yield batch_morgan1, batch_morgan2, batch_morgan3, batch_protein, batch_ids\n",
    "        \n",
    "        if counter%print_freq==0:\n",
    "            print('.', end='',flush=True)\n",
    "\n",
    "            \n",
    "            \n",
    "class Net(nn.Module):\n",
    "\n",
    "    def __init__(self):\n",
    "        super(Net, self).__init__()\n",
    "        self.fc1=nn.Linear(3075,4096)\n",
    "        #self.dropout1 = nn.Dropout(0.2)\n",
    "        self.fc2=nn.Linear(4096,2048)\n",
    "        #self.dropout3 = nn.Dropout(0.2)\n",
    "        self.fc4=nn.Linear(2048,1024)\n",
    "        self.fc5=nn.Linear(1024,256)\n",
    "        self.out=nn.Linear(256,1)\n",
    "        \n",
    "    def forward(self, x):\n",
    "        x=F.relu(self.fc1(x))\n",
    "        x=F.relu(self.fc2(x))\n",
    "        x=F.relu(self.fc4(x))\n",
    "        x=F.relu(self.fc5(x))\n",
    "        out=self.out(x)\n",
    "        return out\n",
    "   "
   ]
  },
  {
   "cell_type": "code",
   "execution_count": 29,
   "id": "1e0a2004",
   "metadata": {},
   "outputs": [],
   "source": [
    "class Net(nn.Module):\n",
    "\n",
    "    def __init__(self):\n",
    "        super(Net, self).__init__()\n",
    "        self.fc1=nn.Linear(3075,4096)\n",
    "        self.dropout1 = nn.Dropout(0.2)\n",
    "        self.fc2=nn.Linear(4096,2048)\n",
    "        self.dropout3 = nn.Dropout(0.2)\n",
    "        self.fc4=nn.Linear(2048,1024)\n",
    "        self.fc5=nn.Linear(1024,256)\n",
    "        self.out=nn.Linear(256,1)\n",
    "        \n",
    "    def forward(self, x):\n",
    "        x=F.relu(self.fc1(x))\n",
    "        x=F.relu(self.fc2(x))\n",
    "        x=F.relu(self.fc4(x))\n",
    "        x=F.relu(self.fc5(x))\n",
    "        out=self.out(x)\n",
    "        return out\n",
    "\n",
    "    "
   ]
  },
  {
   "cell_type": "code",
   "execution_count": 35,
   "id": "ad917f13",
   "metadata": {},
   "outputs": [],
   "source": [
    "model_load_path = \"/mnt/isilon/wang_lab/shared/Belka/analysis/saved_models/NN_20M_199pw_0620_epoch16.pth\"\n",
    "checkpoint = torch.load(model_load_path)\n",
    "\n",
    "# load the model and continue training\n",
    "dev = 'cuda' if torch.cuda.is_available() else 'cpu'\n",
    "net = Net().to(dev)\n",
    "net = DataParallel(net) #do this because previous model is within DataParallel\n",
    "net.load_state_dict(checkpoint['model_state_dict'])\n",
    "\n",
    "\n",
    "optimizer = optim.Adam(net.parameters(), lr=0.001)\n",
    "optimizer.load_state_dict(checkpoint['optimizer_state_dict'])\n",
    "#loss = loss.load_state_dict(checkpoint['loss'])"
   ]
  },
  {
   "cell_type": "code",
   "execution_count": 36,
   "id": "591161c4",
   "metadata": {},
   "outputs": [],
   "source": [
    "test_files=get_files(['morgan_test_complete/'])"
   ]
  },
  {
   "cell_type": "code",
   "execution_count": 37,
   "id": "1be99577",
   "metadata": {},
   "outputs": [
    {
     "data": {
      "text/plain": [
       "[PosixPath('morgan_test_complete/data_test1.npz'),\n",
       " PosixPath('morgan_test_complete/data_test2.npz'),\n",
       " PosixPath('morgan_test_complete/data_test0.npz'),\n",
       " PosixPath('morgan_test_complete/data_test3.npz')]"
      ]
     },
     "execution_count": 37,
     "metadata": {},
     "output_type": "execute_result"
    }
   ],
   "source": [
    "test_files"
   ]
  },
  {
   "cell_type": "code",
   "execution_count": 38,
   "id": "b371958d",
   "metadata": {},
   "outputs": [
    {
     "name": "stdout",
     "output_type": "stream",
     "text": [
      "....\n",
      " prediction on text dataset finished.\n"
     ]
    }
   ],
   "source": [
    "with torch.no_grad():\n",
    "    net.eval()\n",
    "    preds = []\n",
    "    ids = []\n",
    "    \n",
    "    \n",
    "    test_generator = generate_test_batches(test_files, batch_size=50000)\n",
    "    for batch in test_generator:\n",
    "        batch_morgan1, batch_morgan2, batch_morgan3, batch_protein, batch_ids = batch\n",
    "        batch_morgan = np.concatenate((batch_morgan1, batch_morgan2, batch_morgan3, batch_protein), 1)\n",
    "        score = net(torch.Tensor(batch_morgan).to(dev))\n",
    "        preds.append(torch.sigmoid(score).cpu().numpy())\n",
    "        ids.append(batch_ids)\n",
    "\n",
    "    preds = np.vstack(preds)[:, 0]\n",
    "    ids = np.vstack(ids)[:,0]\n",
    "    print(\"\\n prediction on text dataset finished.\")\n",
    "\n",
    "df = pd.DataFrame({\n",
    "    'id': ids,\n",
    "    'preds': preds\n",
    "})"
   ]
  },
  {
   "cell_type": "code",
   "execution_count": 39,
   "id": "acebc459",
   "metadata": {},
   "outputs": [],
   "source": [
    "df.to_csv('/mnt/isilon/wang_lab/shared/Belka/analysis/NN_20M_199pw_0620_epoch16_submission.csv',index=None)"
   ]
  },
  {
   "cell_type": "code",
   "execution_count": 21,
   "id": "41ee327b",
   "metadata": {},
   "outputs": [
    {
     "ename": "ValueError",
     "evalue": "too many values to unpack (expected 5)",
     "output_type": "error",
     "traceback": [
      "\u001b[0;31m---------------------------------------------------------------------------\u001b[0m",
      "\u001b[0;31mValueError\u001b[0m                                Traceback (most recent call last)",
      "Cell \u001b[0;32mIn[21], line 9\u001b[0m\n\u001b[1;32m      7\u001b[0m test_generator \u001b[38;5;241m=\u001b[39m generate_test_batches(test_files, batch_size\u001b[38;5;241m=\u001b[39m\u001b[38;5;241m500000\u001b[39m)\n\u001b[1;32m      8\u001b[0m \u001b[38;5;28;01mfor\u001b[39;00m batch \u001b[38;5;129;01min\u001b[39;00m test_generator:\n\u001b[0;32m----> 9\u001b[0m     batch_morgan1, batch_morgan2, batch_morgan3, batch_protein, batch_ids \u001b[38;5;241m=\u001b[39m batch\n\u001b[1;32m     10\u001b[0m     batch_morgan \u001b[38;5;241m=\u001b[39m np\u001b[38;5;241m.\u001b[39mconcatenate((batch_morgan1, batch_morgan2, batch_morgan3, batch_protein), \u001b[38;5;241m1\u001b[39m)\n\u001b[1;32m     11\u001b[0m     score \u001b[38;5;241m=\u001b[39m net(torch\u001b[38;5;241m.\u001b[39mTensor(batch_morgan)\u001b[38;5;241m.\u001b[39mto(dev))\n",
      "\u001b[0;31mValueError\u001b[0m: too many values to unpack (expected 5)"
     ]
    }
   ],
   "source": [
    "with torch.no_grad():\n",
    "    net.eval()\n",
    "    preds = []\n",
    "    ids = []\n",
    "    \n",
    "    \n",
    "    test_generator = generate_test_batches(test_files, batch_size=500000)\n",
    "    for batch in test_generator:\n",
    "        batch_morgan1, batch_morgan2, batch_morgan3, batch_protein, batch_ids = batch\n",
    "        batch_morgan = np.concatenate((batch_morgan1, batch_morgan2, batch_morgan3, batch_protein), 1)\n",
    "        score = net(torch.Tensor(batch_morgan).to(dev))\n",
    "        preds.append(torch.sigmoid(score).cpu().numpy())\n",
    "        ids.append(batch_ids)\n",
    "\n",
    "    preds = np.vstack(preds)[:, 0]\n",
    "    ids = np.vstack(ids)[:,0]\n",
    "    print(\"\\n prediction on text dataset finished.\")\n",
    "\n",
    "df = pd.DataFrame({\n",
    "    'id': ids,\n",
    "    'preds': preds\n",
    "})"
   ]
  },
  {
   "cell_type": "code",
   "execution_count": 23,
   "id": "7f799a60",
   "metadata": {},
   "outputs": [],
   "source": [
    "df.to_csv('/mnt/isilon/wang_lab/shared/Belka/analysis/bldblock_NN_epoch_17_submission.csv',index=None)"
   ]
  },
  {
   "cell_type": "code",
   "execution_count": null,
   "id": "e88f0def",
   "metadata": {},
   "outputs": [],
   "source": []
  },
  {
   "cell_type": "code",
   "execution_count": null,
   "id": "a94af3d3",
   "metadata": {},
   "outputs": [],
   "source": []
  },
  {
   "cell_type": "code",
   "execution_count": null,
   "id": "dbbf7c6b",
   "metadata": {},
   "outputs": [],
   "source": []
  },
  {
   "cell_type": "code",
   "execution_count": 47,
   "id": "70300415",
   "metadata": {},
   "outputs": [
    {
     "name": "stdout",
     "output_type": "stream",
     "text": [
      "...............\n",
      " Epoch=1 Train_Loss=1.003138149199302 Test_Loss=0.04882204769590944 Test AP=0.13260512288866608\n",
      "...............\n",
      " Epoch=2 Train_Loss=0.8343921044622662 Test_Loss=0.052541076241587104 Test AP=0.15806395912532023\n",
      "...............\n",
      " Epoch=3 Train_Loss=0.7964697278223664 Test_Loss=0.06023136017497704 Test AP=0.16564010288688769\n",
      "...............\n",
      " Epoch=4 Train_Loss=0.7719787498841771 Test_Loss=0.06954713337385077 Test AP=0.16598595814173905\n",
      "...............\n",
      " Epoch=5 Train_Loss=0.7594206354114563 Test_Loss=0.11244394741869336 Test AP=0.17529272770581467\n",
      "...............\n",
      " Epoch=6 Train_Loss=0.7488237145274264 Test_Loss=0.156620718493725 Test AP=0.1808955108795634\n",
      "...............\n",
      " Epoch=7 Train_Loss=0.7353306274759498 Test_Loss=0.32474393346613667 Test AP=0.17521899748532252\n",
      "...............\n",
      " Epoch=8 Train_Loss=0.7311725073708566 Test_Loss=0.4824021732787721 Test AP=0.18973572540806538\n",
      "...............\n",
      " Epoch=9 Train_Loss=0.7230835853912253 Test_Loss=0.5686870524970539 Test AP=0.19663832765747946\n",
      "...............\n",
      " Epoch=10 Train_Loss=0.7209700706965765 Test_Loss=1.3120358026004784 Test AP=0.19619271792446627\n"
     ]
    }
   ],
   "source": [
    "#this is the original trainning part, keep it for reference\n",
    "\n",
    "%%time\n",
    "pos_weight=torch.Tensor(np.array(5.0))\n",
    "epoch_num=10\n",
    "\n",
    "for i in range(epoch_num):\n",
    "    net.train()\n",
    "    train_loss=0\n",
    "    train_generator=generate_batches(train_files, batch_size=1024)\n",
    "    for batch in train_generator:\n",
    "        optimizer.zero_grad()\n",
    "        batch_morgan, batch_protein, batch_labels=batch\n",
    "        batch_morgan=np.concatenate((batch_morgan, batch_protein),1) #combine morgan fp with protein onehot encoding\n",
    "        score=net(torch.Tensor(batch_morgan).to(dev))\n",
    "        loss =  torch.nn.functional.binary_cross_entropy_with_logits(score, torch.Tensor(batch_labels)[:,None].to(dev), pos_weight=pos_weight)\n",
    "        train_loss+=loss.cpu().item()*len(score)\n",
    "        loss.backward()\n",
    "        optimizer.step()\n",
    "    \n",
    "    \n",
    "    with torch.no_grad():\n",
    "        net.eval()\n",
    "        preds=[]\n",
    "        labels=[]\n",
    "        test_loss=0\n",
    "        test_generator=generate_batches(test_files, batch_size=1024)\n",
    "        for batch in test_generator:\n",
    "            batch_morgan, batch_protein, batch_labels=batch\n",
    "            batch_morgan=np.concatenate((batch_morgan, batch_protein),1)\n",
    "            score=net(torch.Tensor(batch_morgan).to(dev))\n",
    "            loss =  torch.nn.functional.binary_cross_entropy_with_logits(score, torch.Tensor(batch_labels)[:,None].to(dev), pos_weight=pos_weight)\n",
    "            preds.append(torch.nn.functional.sigmoid(score))\n",
    "            labels.append(batch_labels)\n",
    "            test_loss+=loss.cpu().item()*len(score)\n",
    "            \n",
    "        preds=torch.vstack(preds).cpu().numpy()[:,0]\n",
    "        labels=np.hstack(labels)\n",
    "        ap=average_precision_score(labels, preds)\n",
    "        print('\\n Epoch={} Train_Loss={} Test_Loss={} Test AP={}'.format(i+1, train_loss/len(labels), test_loss/len(labels), ap))"
   ]
  },
  {
   "cell_type": "code",
   "execution_count": null,
   "id": "2e0bceed",
   "metadata": {},
   "outputs": [],
   "source": []
  },
  {
   "cell_type": "code",
   "execution_count": null,
   "id": "ff2eeeab",
   "metadata": {},
   "outputs": [],
   "source": []
  }
 ],
 "metadata": {
  "kernelspec": {
   "display_name": "tutorial",
   "language": "python",
   "name": "tutorial"
  },
  "language_info": {
   "codemirror_mode": {
    "name": "ipython",
    "version": 3
   },
   "file_extension": ".py",
   "mimetype": "text/x-python",
   "name": "python",
   "nbconvert_exporter": "python",
   "pygments_lexer": "ipython3",
   "version": "3.10.14"
  }
 },
 "nbformat": 4,
 "nbformat_minor": 5
}
