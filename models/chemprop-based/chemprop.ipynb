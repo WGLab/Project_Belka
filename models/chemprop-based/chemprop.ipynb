{
 "cells": [
  {
   "cell_type": "code",
   "execution_count": 37,
   "id": "d2ea8c9c",
   "metadata": {},
   "outputs": [],
   "source": [
    "prot = 'BRD4'\n",
    "n_models = 1\n",
    "ratio = 5"
   ]
  },
  {
   "cell_type": "markdown",
   "id": "fdea7803",
   "metadata": {},
   "source": [
    "### Import Data"
   ]
  },
  {
   "cell_type": "code",
   "execution_count": 38,
   "id": "cbde666e",
   "metadata": {},
   "outputs": [],
   "source": [
    "import duckdb\n",
    "import pandas as pd\n",
    "import numpy as np"
   ]
  },
  {
   "cell_type": "code",
   "execution_count": 39,
   "id": "5dacccb7",
   "metadata": {},
   "outputs": [],
   "source": [
    "train_path = './data/train.parquet'\n",
    "con = duckdb.connect()\n",
    "df = con.query(f\"\"\"\n",
    "                    (SELECT *\n",
    "                    FROM parquet_scan('{train_path}')\n",
    "                    WHERE protein_name = '{prot}'\n",
    "                    ORDER BY random()\n",
    "                    )\"\"\").df()\n",
    "con.close()"
   ]
  },
  {
   "cell_type": "code",
   "execution_count": 40,
   "id": "3f888135",
   "metadata": {
    "scrolled": true
   },
   "outputs": [],
   "source": [
    "df"
   ]
  },
  {
   "cell_type": "markdown",
   "id": "84bbfca3",
   "metadata": {},
   "source": [
    "### Load Data to ChemProp"
   ]
  },
  {
   "cell_type": "code",
   "execution_count": 41,
   "id": "fb3f38fd",
   "metadata": {},
   "outputs": [],
   "source": [
    "from lightning import pytorch as pl\n",
    "\n",
    "from chemprop import data, featurizers, nn\n",
    "from chemprop.models import multi\n",
    "from chemprop.models.utils import save_model, load_model"
   ]
  },
  {
   "cell_type": "code",
   "execution_count": 42,
   "id": "be342734",
   "metadata": {},
   "outputs": [],
   "source": [
    "def loadData(df_input, smiles_cols, w):\n",
    "    \n",
    "    target_cols = ['binds']\n",
    "\n",
    "    smiss = df_input.loc[:, smiles_cols].values\n",
    "    ys = df_input.loc[:,target_cols].values\n",
    "\n",
    "    all_data = [[data.MoleculeDatapoint.from_smi(smis[0], y, weight=(1-w)*y+w) for smis, y in zip(smiss, ys)]]\n",
    "    all_data += [[data.MoleculeDatapoint.from_smi(smis[i]) for smis in smiss] for i in range(1, len(smiles_cols))]\n",
    "\n",
    "    train_idx, val_idx, test_idx = data.make_split_indices(all_data[0], seed=42)\n",
    "    train_data, val_data, test_data = data.split_data_by_indices(all_data, train_idx, val_idx, test_idx)\n",
    "\n",
    "    featurizer = featurizers.SimpleMoleculeMolGraphFeaturizer()\n",
    "\n",
    "    train_datasets = [data.MoleculeDataset(train_data[i], featurizer) for i in range(len(smiles_cols))]\n",
    "    val_datasets = [data.MoleculeDataset(val_data[i], featurizer) for i in range(len(smiles_cols))]\n",
    "    test_datasets = [data.MoleculeDataset(test_data[i], featurizer) for i in range(len(smiles_cols))]\n",
    "\n",
    "    train_mcdset = data.MulticomponentDataset(train_datasets)\n",
    "    val_mcdset = data.MulticomponentDataset(val_datasets)\n",
    "    test_mcdset = data.MulticomponentDataset(test_datasets)\n",
    "\n",
    "    nworkers = 4\n",
    "    train_loader = data.build_dataloader(train_mcdset, num_workers=nworkers)\n",
    "    val_loader = data.build_dataloader(val_mcdset, num_workers=nworkers, shuffle=False)\n",
    "    test_loader = data.build_dataloader(test_mcdset, num_workers=nworkers, shuffle=False)\n",
    "    \n",
    "    return [train_loader, val_loader, test_loader]"
   ]
  },
  {
   "cell_type": "code",
   "execution_count": 43,
   "id": "d58963b5",
   "metadata": {},
   "outputs": [],
   "source": [
    "def loadModel(smiles_cols):\n",
    "    mcmp = nn.MulticomponentMessagePassing(\n",
    "        blocks=[nn.BondMessagePassing(depth=4, d_h=600) for _ in range(len(smiles_cols))],\n",
    "        n_components=len(smiles_cols),\n",
    "    )\n",
    "    agg = nn.NormAggregation()\n",
    "    ffn = nn.BinaryClassificationFFN(input_dim=mcmp.output_dim, n_layers=4, dropout=0.2)\n",
    "    metric_list = [nn.metrics.BCEMetric(), nn.metrics.BinaryAUPRCMetric(), ] \n",
    "    # Only the first metric is used for training and early stopping\n",
    "\n",
    "    mcmpnn = multi.MulticomponentMPNN(mcmp, agg, ffn, batch_norm=True, metrics=metric_list)\n",
    "    return mcmpnn"
   ]
  },
  {
   "cell_type": "code",
   "execution_count": 44,
   "id": "43955b32",
   "metadata": {},
   "outputs": [],
   "source": [
    "def downSampler(df, r=1):\n",
    "    n = df[\"binds\"].value_counts()[1]\n",
    "    return pd.concat([df.loc[df[\"binds\"]==0, :].sample(n=int(n*r)), df.loc[df[\"binds\"]==1, :]])"
   ]
  },
  {
   "cell_type": "markdown",
   "id": "75a3709e",
   "metadata": {},
   "source": [
    "### Train the Model"
   ]
  },
  {
   "cell_type": "code",
   "execution_count": 45,
   "id": "92c35203",
   "metadata": {},
   "outputs": [],
   "source": [
    "import torch\n",
    "torch.set_float32_matmul_precision('medium')\n",
    "\n",
    "smiles_cols = ['buildingblock1_smiles', 'buildingblock2_smiles', 'buildingblock3_smiles', 'molecule_smiles']\n",
    "#smiles_cols = ['molecule_smiles']"
   ]
  },
  {
   "cell_type": "code",
   "execution_count": 46,
   "id": "a8d364d8",
   "metadata": {
    "scrolled": false
   },
   "outputs": [],
   "source": [
    "def trainModel(df, model_name, smiles_cols, r=1):\n",
    "    loader = loadData(downSampler(df, r=r), smiles_cols, w=1/r)\n",
    "    mcmpnn = loadModel(smiles_cols)\n",
    "\n",
    "    trainer = pl.Trainer(\n",
    "        logger=False,\n",
    "        enable_checkpointing=True,\n",
    "        enable_progress_bar=True,\n",
    "        accelerator=\"auto\",\n",
    "        devices=4,\n",
    "        max_epochs=4,\n",
    "    )\n",
    "    trainer.fit(mcmpnn, loader[0], loader[1])\n",
    "    results = trainer.test(mcmpnn, loader[2])\n",
    "\n",
    "    model = mcmpnn\n",
    "    save_model(model_name, model)\n",
    "    model_dict = {\"hyper_parameters\": model.hparams, \"state_dict\": model.state_dict()}\n",
    "    torch.save(model_dict, model_name)"
   ]
  },
  {
   "cell_type": "code",
   "execution_count": 47,
   "id": "f99f3038",
   "metadata": {},
   "outputs": [],
   "source": [
    "for ii in range(n_models):\n",
    "    trainModel(df, prot+\"_blocks_1v\"+str(ratio)+\"-\"+str(ii)+'.pt', smiles_cols, r=ratio)"
   ]
  },
  {
   "cell_type": "markdown",
   "id": "d359ff12",
   "metadata": {},
   "source": [
    "### Test the Model"
   ]
  },
  {
   "cell_type": "code",
   "execution_count": null,
   "id": "38592a18",
   "metadata": {},
   "outputs": [],
   "source": [
    "test_path = './data/test.parquet'\n",
    "con = duckdb.connect()\n",
    "df_test = con.query(f\"\"\"\n",
    "                    (SELECT *\n",
    "                    FROM parquet_scan('{test_path}')\n",
    "                    WHERE protein_name = '{prot}'\n",
    "                    )\"\"\").df()\n",
    "con.close()"
   ]
  },
  {
   "cell_type": "code",
   "execution_count": null,
   "id": "5657be42",
   "metadata": {},
   "outputs": [],
   "source": [
    "def loadTest(df_input, smiles_cols):\n",
    "    \n",
    "    target_cols = ['binds']\n",
    "\n",
    "    smiss = df_input.loc[:, smiles_cols].values\n",
    "\n",
    "    test_data = [[data.MoleculeDatapoint.from_smi(smis[0]) for smis in smiss]]\n",
    "    test_data += [[data.MoleculeDatapoint.from_smi(smis[i]) for smis in smiss] for i in range(1, len(smiles_cols))]\n",
    "\n",
    "    featurizer = featurizers.SimpleMoleculeMolGraphFeaturizer()\n",
    "\n",
    "    test_datasets = [data.MoleculeDataset(test_data[i], featurizer) for i in range(len(smiles_cols))]\n",
    "    test_mcdset = data.MulticomponentDataset(test_datasets)\n",
    "    test_loader = data.build_dataloader(test_mcdset, num_workers=4, shuffle=False)\n",
    "    \n",
    "    return test_loader"
   ]
  },
  {
   "cell_type": "code",
   "execution_count": null,
   "id": "3ba96b8a",
   "metadata": {},
   "outputs": [],
   "source": [
    "preds = []\n",
    "for ii in range(n_models):\n",
    "    model = multi.MulticomponentMPNN.load_from_file(prot+\"_blocks_1v\"+str(ratio)+\"-\"+str(ii)+'.pt')\n",
    "\n",
    "    with torch.inference_mode():\n",
    "        trainer = pl.Trainer(\n",
    "            logger=None,\n",
    "            enable_progress_bar=True,\n",
    "            accelerator=\"auto\",\n",
    "            devices=1\n",
    "        )\n",
    "        test_preds = trainer.predict(model, loadTest(df_test, smiles_cols))\n",
    "    preds += [np.concatenate(test_preds, axis=0)]\n",
    "\n",
    "pred = np.mean(np.array(preds), axis=0)\n",
    "df_test['binds'] = pred\n",
    "df_test[['id', 'binds']].to_csv(\"pred_\"+prot+\".csv\", index=False)"
   ]
  },
  {
   "cell_type": "code",
   "execution_count": null,
   "id": "1635f706",
   "metadata": {},
   "outputs": [],
   "source": []
  }
 ],
 "metadata": {
  "kernelspec": {
   "display_name": "ChemML",
   "language": "python",
   "name": "chemml"
  },
  "language_info": {
   "codemirror_mode": {
    "name": "ipython",
    "version": 3
   },
   "file_extension": ".py",
   "mimetype": "text/x-python",
   "name": "python",
   "nbconvert_exporter": "python",
   "pygments_lexer": "ipython3",
   "version": "3.11.9"
  }
 },
 "nbformat": 4,
 "nbformat_minor": 5
}
