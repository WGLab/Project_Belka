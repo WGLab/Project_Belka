{
 "cells": [
  {
   "cell_type": "code",
   "execution_count": 2,
   "id": "cbda3be2",
   "metadata": {},
   "outputs": [],
   "source": [
    "import pandas as pd\n",
    "\n",
    "ver = 3\n",
    "\n",
    "result = pd.concat([pd.read_csv('pred_sEH.csv'), pd.read_csv('pred_BRD4.csv'), pd.read_csv('pred_HSA.csv')])\n",
    "result.to_csv(\"submission\"+str(ver)+\".csv\", index=False)"
   ]
  },
  {
   "cell_type": "code",
   "execution_count": null,
   "id": "64091e90",
   "metadata": {},
   "outputs": [],
   "source": []
  }
 ],
 "metadata": {
  "kernelspec": {
   "display_name": "ChemML",
   "language": "python",
   "name": "chemml"
  },
  "language_info": {
   "codemirror_mode": {
    "name": "ipython",
    "version": 3
   },
   "file_extension": ".py",
   "mimetype": "text/x-python",
   "name": "python",
   "nbconvert_exporter": "python",
   "pygments_lexer": "ipython3",
   "version": "3.11.9"
  }
 },
 "nbformat": 4,
 "nbformat_minor": 5
}
