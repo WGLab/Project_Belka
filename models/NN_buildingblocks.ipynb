{
 "cells": [
  {
   "cell_type": "markdown",
   "id": "c35e2a02",
   "metadata": {},
   "source": [
    "# This notebook train the Neural Network model using 3 building blocks' morgan fingerprints as features"
   ]
  },
  {
   "cell_type": "code",
   "execution_count": 1,
   "id": "68984b24",
   "metadata": {},
   "outputs": [],
   "source": [
    "import numpy as np\n",
    "import os, random, time\n",
    "import pandas as pd\n",
    "from pathlib import Path"
   ]
  },
  {
   "cell_type": "code",
   "execution_count": 2,
   "id": "ee45aa55",
   "metadata": {},
   "outputs": [],
   "source": [
    "from sklearn.metrics import precision_score, recall_score, f1_score, roc_auc_score, average_precision_score"
   ]
  },
  {
   "cell_type": "code",
   "execution_count": 3,
   "id": "d664c739",
   "metadata": {},
   "outputs": [],
   "source": [
    "def get_files(input_list):\n",
    "    out_list=[]\n",
    "    if type(input_list)==type(None):\n",
    "        return out_list\n",
    "    for item in input_list:\n",
    "        \n",
    "        if os.path.isdir(item):\n",
    "            out_list.extend(list(Path(item).rglob(\"*.npz\")))\n",
    "\n",
    "        elif item[-4:]=='.npz':\n",
    "            out_list.append(item)        \n",
    "    \n",
    "    random.seed(0)\n",
    "    random.shuffle(out_list)\n",
    "    return out_list\n",
    "\n",
    "def read_from_file(file_name):\n",
    "    data=np.load(file_name)\n",
    "    return data['morgan1'],data['morgan2'],data['morgan3'], data['protein'], data['labels']\n",
    "\n",
    "def read_from_test_file(file_name):\n",
    "    data=np.load(file_name)\n",
    "    return data['morgan1'],data['morgan2'],data['morgan3'], data['protein'], data['ids']\n",
    "\n",
    "def generate_batches(files, batch_size=1024):\n",
    "    counter = 0\n",
    "    \n",
    "    print_freq=max(1, len(files)//10)\n",
    "    \n",
    "    while counter<len(files):\n",
    "        file_name = files[counter]\n",
    "\n",
    "        counter +=1\n",
    "        \n",
    "        data=read_from_file(file_name)\n",
    "\n",
    "        morgan1, morgan2, morgan3, protein, labels=data\n",
    "        batch_size=max(batch_size,1)\n",
    "        for local_index in range(0, labels.shape[0], batch_size):\n",
    "            batch_morgan1=morgan1[local_index:(local_index + batch_size)]\n",
    "            batch_morgan2=morgan2[local_index:(local_index + batch_size)]\n",
    "            batch_morgan3=morgan3[local_index:(local_index + batch_size)]\n",
    "            batch_protein=protein[local_index:(local_index + batch_size)]\n",
    "            batch_labels=labels[local_index:(local_index + batch_size)]          \n",
    "\n",
    "            yield batch_morgan1, batch_morgan2, batch_morgan3, batch_protein, batch_labels\n",
    "        \n",
    "        if counter%print_freq==0:\n",
    "            print('.', end='',flush=True)\n",
    "\n",
    "def generate_test_batches(files, batch_size=1024):\n",
    "    counter = 0\n",
    "    \n",
    "    print_freq=max(1, len(files)//10)\n",
    "    \n",
    "    while counter<len(files):\n",
    "        file_name = files[counter]\n",
    "\n",
    "        counter +=1\n",
    "        \n",
    "        data=read_from_test_file(file_name)\n",
    "\n",
    "        morgan1, morgan2, morgan3, protein, ids=data\n",
    "        batch_size=max(batch_size,1)\n",
    "        for local_index in range(0, ids.shape[0], batch_size):\n",
    "            batch_morgan1=morgan1[local_index:(local_index + batch_size)]\n",
    "            batch_morgan2=morgan2[local_index:(local_index + batch_size)]\n",
    "            batch_morgan3=morgan3[local_index:(local_index + batch_size)]\n",
    "            batch_protein=protein[local_index:(local_index + batch_size)]\n",
    "            batch_ids=ids[local_index:(local_index + batch_size)]   \n",
    "\n",
    "            yield batch_morgan1, batch_morgan2, batch_morgan3, batch_protein, batch_ids\n",
    "        \n",
    "        if counter%print_freq==0:\n",
    "            print('.', end='',flush=True)"
   ]
  },
  {
   "cell_type": "code",
   "execution_count": 13,
   "id": "05cccb93",
   "metadata": {},
   "outputs": [],
   "source": [
    "import torch\n",
    "import torch.nn as nn\n",
    "import torch.nn.functional as F\n",
    "\n",
    "from torch import optim, Tensor\n",
    "from torch.nn.parallel import DataParallel"
   ]
  },
  {
   "cell_type": "code",
   "execution_count": 5,
   "id": "d2f847a3",
   "metadata": {},
   "outputs": [],
   "source": [
    "class Net(nn.Module):\n",
    "\n",
    "    def __init__(self):\n",
    "        super(Net, self).__init__()\n",
    "        self.fc1=nn.Linear(3075,2048)\n",
    "        self.dropout1 = nn.Dropout(0.2)\n",
    "        self.fc2=nn.Linear(2048,1024)\n",
    "        self.dropout3 = nn.Dropout(0.2)\n",
    "        self.fc4=nn.Linear(1024,512)\n",
    "        self.fc5=nn.Linear(512,128)\n",
    "        self.out=nn.Linear(128,1)\n",
    "        \n",
    "    def forward(self, x):\n",
    "        x=F.relu(self.fc1(x))\n",
    "        x=F.relu(self.fc2(x))\n",
    "        x=F.relu(self.fc4(x))\n",
    "        x=F.relu(self.fc5(x))\n",
    "        out=self.out(x)\n",
    "        return out"
   ]
  },
  {
   "cell_type": "code",
   "execution_count": 6,
   "id": "fcf657f5",
   "metadata": {},
   "outputs": [],
   "source": [
    "dev = 'cuda' #if torch.cuda.is_available() else 'cpu'\n",
    "\n",
    "net = Net().to(dev)\n",
    "net = DataParallel(net)  # Wrap the model with DataParallel\n",
    "\n",
    "optimizer = optim.Adam(net.parameters(), lr=0.001)\n"
   ]
  },
  {
   "cell_type": "code",
   "execution_count": 7,
   "id": "ca6795f9",
   "metadata": {},
   "outputs": [
    {
     "name": "stdout",
     "output_type": "stream",
     "text": [
      "DataParallel(\n",
      "  (module): Net(\n",
      "    (fc1): Linear(in_features=3075, out_features=2048, bias=True)\n",
      "    (dropout1): Dropout(p=0.2, inplace=False)\n",
      "    (fc2): Linear(in_features=2048, out_features=1024, bias=True)\n",
      "    (dropout3): Dropout(p=0.2, inplace=False)\n",
      "    (fc4): Linear(in_features=1024, out_features=512, bias=True)\n",
      "    (fc5): Linear(in_features=512, out_features=128, bias=True)\n",
      "    (out): Linear(in_features=128, out_features=1, bias=True)\n",
      "  )\n",
      ")\n",
      "# Parameters= 8988417\n"
     ]
    }
   ],
   "source": [
    "model_details=str(net.to(torch.device(dev)))\n",
    "print(model_details)\n",
    "num_params=sum(p.numel() for p in net.parameters())\n",
    "print('# Parameters=', num_params)"
   ]
  },
  {
   "cell_type": "code",
   "execution_count": 8,
   "id": "4f1db94b",
   "metadata": {},
   "outputs": [],
   "source": [
    "train_files=get_files(['morgan_train_complete/'])\n",
    "test_files=get_files(['morgan_validation_complete/'])"
   ]
  },
  {
   "cell_type": "code",
   "execution_count": 9,
   "id": "3e829ee4",
   "metadata": {},
   "outputs": [
    {
     "name": "stdout",
     "output_type": "stream",
     "text": [
      "num of train_file:  473\n",
      "num of validation_file:  119\n"
     ]
    }
   ],
   "source": [
    "print('num of train_file: ',len(train_files))\n",
    "print('num of validation_file: ',len(test_files))"
   ]
  },
  {
   "cell_type": "code",
   "execution_count": 10,
   "id": "37f80793",
   "metadata": {
    "scrolled": true
   },
   "outputs": [
    {
     "name": "stderr",
     "output_type": "stream",
     "text": [
      "/home/wangp5/miniconda3/envs/tutorial/lib/python3.10/site-packages/torch/nn/modules/linear.py:116: UserWarning: Attempting to run cuBLAS, but there was no current CUDA context! Attempting to set the primary context... (Triggered internally at ../aten/src/ATen/cuda/CublasHandlePool.cpp:135.)\n",
      "  return F.linear(input, self.weight, self.bias)\n"
     ]
    },
    {
     "name": "stdout",
     "output_type": "stream",
     "text": [
      "....................\n",
      "Epoch=1 Train_Loss=0.047012 Test_Loss=0.020294 Test AP=0.369800 Precision=0.413575 Recall=0.379875 F1=0.396009 ROC_AUC=0.971152 Epoch_time=5270.803085\n",
      "....................\n",
      "Epoch=2 Train_Loss=0.037697 Test_Loss=0.018513 Test AP=0.484087 Precision=0.470083 Recall=0.536224 F1=0.500980 ROC_AUC=0.979995 Epoch_time=5361.050854\n",
      "....................\n",
      "Epoch=3 Train_Loss=0.035667 Test_Loss=0.018200 Test AP=0.544380 Precision=0.466381 Recall=0.618722 F1=0.531858 ROC_AUC=0.983040 Epoch_time=5495.985816\n",
      "....................\n",
      "Epoch=4 Train_Loss=0.034694 Test_Loss=0.018125 Test AP=0.565835 Precision=0.469058 Recall=0.642698 F1=0.542318 ROC_AUC=0.984340 Epoch_time=5428.812696\n",
      "....................\n",
      "Epoch=5 Train_Loss=0.034075 Test_Loss=0.018452 Test AP=0.605128 Precision=0.450483 Recall=0.690152 F1=0.545138 ROC_AUC=0.985475 Epoch_time=5412.650311\n",
      "....................\n",
      "Epoch=6 Train_Loss=0.033545 Test_Loss=0.018352 Test AP=0.626330 Precision=0.460824 Recall=0.695730 F1=0.554421 ROC_AUC=0.985873 Epoch_time=5371.458296\n",
      "....................\n",
      "Epoch=7 Train_Loss=0.033194 Test_Loss=0.018277 Test AP=0.636712 Precision=0.465046 Recall=0.699485 F1=0.558667 ROC_AUC=0.986046 Epoch_time=5413.121675\n",
      "....................\n",
      "Epoch=8 Train_Loss=0.033003 Test_Loss=0.018517 Test AP=0.639679 Precision=0.462353 Recall=0.703411 F1=0.557959 ROC_AUC=0.986233 Epoch_time=5436.229619\n",
      "....................\n",
      "Epoch=9 Train_Loss=0.032763 Test_Loss=0.018372 Test AP=0.640662 Precision=0.471192 Recall=0.696942 F1=0.562253 ROC_AUC=0.986062 Epoch_time=5507.341759\n",
      "....................\n",
      "Epoch=10 Train_Loss=0.032561 Test_Loss=0.018186 Test AP=0.643057 Precision=0.469050 Recall=0.701133 F1=0.562077 ROC_AUC=0.986254 Epoch_time=5425.508531\n",
      "....................\n",
      "Epoch=11 Train_Loss=0.032393 Test_Loss=0.018187 Test AP=0.642960 Precision=0.463743 Recall=0.703722 F1=0.559068 ROC_AUC=0.986239 Epoch_time=5467.534317\n",
      "....................\n",
      "Epoch=12 Train_Loss=0.032313 Test_Loss=0.017754 Test AP=0.641391 Precision=0.479955 Recall=0.691452 F1=0.566610 ROC_AUC=0.985901 Epoch_time=5394.212254\n",
      "....................\n",
      "Epoch=13 Train_Loss=0.032257 Test_Loss=0.018975 Test AP=0.645494 Precision=0.448085 Recall=0.715550 F1=0.551079 ROC_AUC=0.986044 Epoch_time=5402.159945\n",
      "....................\n",
      "Epoch=14 Train_Loss=0.032190 Test_Loss=0.020116 Test AP=0.647590 Precision=0.439503 Recall=0.722132 F1=0.546436 ROC_AUC=0.985994 Epoch_time=5397.579977\n",
      "....................\n",
      "Epoch=15 Train_Loss=0.032176 Test_Loss=0.019837 Test AP=0.647611 Precision=0.457429 Recall=0.712963 F1=0.557300 ROC_AUC=0.985826 Epoch_time=5054.461963\n",
      "....................\n",
      "Epoch=16 Train_Loss=0.032079 Test_Loss=0.020443 Test AP=0.648996 Precision=0.436921 Recall=0.721903 F1=0.544370 ROC_AUC=0.985670 Epoch_time=4809.937265\n",
      "....................\n",
      "Epoch=17 Train_Loss=0.032069 Test_Loss=0.020090 Test AP=0.649153 Precision=0.455070 Recall=0.714156 F1=0.555908 ROC_AUC=0.985651 Epoch_time=4907.291833\n",
      "....................\n",
      "Epoch=18 Train_Loss=0.032005 Test_Loss=0.023081 Test AP=0.646388 Precision=0.425106 Recall=0.730614 F1=0.537481 ROC_AUC=0.985370 Epoch_time=4769.259693\n",
      "....................\n",
      "Epoch=19 Train_Loss=0.031949 Test_Loss=0.024280 Test AP=0.646372 Precision=0.432600 Recall=0.724160 F1=0.541636 ROC_AUC=0.985114 Epoch_time=4792.442452\n",
      "....................\n",
      "Epoch=20 Train_Loss=0.031858 Test_Loss=0.025515 Test AP=0.648817 Precision=0.413678 Recall=0.738427 F1=0.530283 ROC_AUC=0.985068 Epoch_time=4781.611250\n"
     ]
    }
   ],
   "source": [
    "pos_weight=torch.Tensor(np.array(5.0))\n",
    "pos_weight_vali=torch.Tensor(np.array(1.0))\n",
    "epoch_num=20\n",
    "model_save_dir = \"/mnt/isilon/wang_lab/shared/Belka/analysis/saved_models/\"\n",
    "loss_log=[]\n",
    "\n",
    "# Training loop\n",
    "for i in range(epoch_num):\n",
    "    t=time.time()\n",
    "    \n",
    "    net.train()\n",
    "    train_loss = 0\n",
    "    train_len = 0\n",
    "    train_generator = generate_batches(train_files, batch_size=4096)\n",
    "    for batch in train_generator:\n",
    "        optimizer.zero_grad()\n",
    "        batch_morgan1, batch_morgan2, batch_morgan3, batch_protein, batch_labels = batch\n",
    "        batch_morgan = np.concatenate((batch_morgan1, batch_morgan2, batch_morgan3, batch_protein), 1)\n",
    "        score = net(torch.Tensor(batch_morgan).to(dev))\n",
    "        loss = torch.nn.functional.binary_cross_entropy_with_logits(score, torch.Tensor(batch_labels)[:, None].to(dev), pos_weight=pos_weight)\n",
    "        train_loss += loss.cpu().item() * len(score)\n",
    "        train_len += len(score)\n",
    "        loss.backward()\n",
    "        optimizer.step()\n",
    "\n",
    "    with torch.no_grad():\n",
    "        net.eval()\n",
    "        preds = []\n",
    "        labels = []\n",
    "        test_loss = 0\n",
    "        test_generator = generate_batches(test_files, batch_size=500000)\n",
    "        for batch in test_generator:\n",
    "            batch_morgan1, batch_morgan2, batch_morgan3, batch_protein, batch_labels = batch\n",
    "            batch_morgan = np.concatenate((batch_morgan1, batch_morgan2, batch_morgan3, batch_protein), 1)\n",
    "            score = net(torch.Tensor(batch_morgan).to(dev))\n",
    "            loss = torch.nn.functional.binary_cross_entropy_with_logits(score, torch.Tensor(batch_labels)[:, None].to(dev), pos_weight=pos_weight_vali)\n",
    "            preds.append(torch.sigmoid(score).cpu().numpy())\n",
    "            labels.append(batch_labels)\n",
    "            test_loss += loss.cpu().item() * len(score)\n",
    "\n",
    "        preds = np.vstack(preds)[:, 0]\n",
    "        labels = np.hstack(labels)\n",
    "\n",
    "        # Calculate additional metrics\n",
    "        ap = average_precision_score(labels, preds)\n",
    "        precision = precision_score(labels, preds > 0.5)\n",
    "        recall = recall_score(labels, preds > 0.5)\n",
    "        f1 = f1_score(labels, preds > 0.5)\n",
    "        roc_auc = roc_auc_score(labels, preds)\n",
    "\n",
    "        print(f'\\nEpoch={i+1} Train_Loss={train_loss/train_len:.6f} Test_Loss={test_loss/len(labels):.6f} '\n",
    "              f'Test AP={ap:.6f} Precision={precision:.6f} Recall={recall:.6f} F1={f1:.6f} ROC_AUC={roc_auc:.6f} Epoch_time={time.time()-t:.6f}')\n",
    "        \n",
    "        #save the loss_log for plotting\n",
    "        loss_log.append((i+1,train_loss/train_len, test_loss/len(labels)))\n",
    "        #save the model at each epoch\n",
    "        torch.save({\n",
    "            'epoch': i+1,\n",
    "            'model_state_dict': net.state_dict(),\n",
    "            'optimizer_state_dict': optimizer.state_dict(),\n",
    "            'loss': train_loss,\n",
    "        }, model_save_dir+f'bldblock_NN_epoch_{i+1}.pth')"
   ]
  },
  {
   "cell_type": "code",
   "execution_count": 11,
   "id": "a7f92e29",
   "metadata": {},
   "outputs": [
    {
     "data": {
      "text/plain": [
       "<Axes: >"
      ]
     },
     "execution_count": 11,
     "metadata": {},
     "output_type": "execute_result"
    },
    {
     "data": {
      "image/png": "[encoded data removed]",
      "text/plain": [
       "<Figure size 640x480 with 1 Axes>"
      ]
     },
     "metadata": {},
     "output_type": "display_data"
    }
   ],
   "source": [
    "\n",
    "loss_df = pd.DataFrame(loss_log,columns=['epoch', 'train_loss', 'validation_loss'])\n",
    "loss_df[['train_loss', 'validation_loss']].plot()"
   ]
  },
  {
   "cell_type": "code",
   "execution_count": 12,
   "id": "be96a8d5",
   "metadata": {},
   "outputs": [],
   "source": [
    "loss_df.to_csv('bldblock_NN_epoch_1-20.csv',index=False)"
   ]
  },
  {
   "cell_type": "markdown",
   "id": "9761743f",
   "metadata": {},
   "source": [
    "Model Parameters = 23613441\n",
    "\n",
    "num of train_file:  5\n",
    "num of validation_file:  1\n",
    "batch_size=100000000: 24.4 s\n",
    "batch size 10000000: 24.7 s\n",
    "batch size 1000000: 24.6 s\n",
    "batch_size=100000: 23.4 s\n",
    "batch size 1024: 37.5 s\n",
    "\n",
    "num of train_file:  20\n",
    "num of validation_file:  4\n",
    "batch_size=100000000: 1min 37s\n",
    "batch size 10000000: 1min 42s\n",
    "batch size 1024: 4min 2s"
   ]
  },
  {
   "cell_type": "markdown",
   "id": "7bb4b2ac",
   "metadata": {},
   "source": [
    "## test on the real competition test data"
   ]
  },
  {
   "cell_type": "code",
   "execution_count": 14,
   "id": "ad917f13",
   "metadata": {},
   "outputs": [],
   "source": [
    "model_load_path = \"/mnt/isilon/wang_lab/shared/Belka/analysis/saved_models/bldblock_NN_epoch_17.pth\"\n",
    "checkpoint = torch.load(model_load_path)\n",
    "\n",
    "# load the model and continue training\n",
    "dev = 'cuda' if torch.cuda.is_available() else 'cpu'\n",
    "net = Net().to(dev)\n",
    "net = DataParallel(net) #do this because previous model is within DataParallel\n",
    "net.load_state_dict(checkpoint['model_state_dict'])\n",
    "\n",
    "\n",
    "optimizer = optim.Adam(net.parameters(), lr=0.001)\n",
    "optimizer.load_state_dict(checkpoint['optimizer_state_dict'])\n",
    "#loss = loss.load_state_dict(checkpoint['loss'])"
   ]
  },
  {
   "cell_type": "code",
   "execution_count": 19,
   "id": "591161c4",
   "metadata": {},
   "outputs": [],
   "source": [
    "test_files=get_files(['morgan_test_complete/'])"
   ]
  },
  {
   "cell_type": "code",
   "execution_count": 20,
   "id": "1be99577",
   "metadata": {},
   "outputs": [
    {
     "data": {
      "text/plain": [
       "[PosixPath('morgan_test_complete/data_test1.npz'),\n",
       " PosixPath('morgan_test_complete/data_test2.npz'),\n",
       " PosixPath('morgan_test_complete/data_test0.npz'),\n",
       " PosixPath('morgan_test_complete/data_test3.npz')]"
      ]
     },
     "execution_count": 20,
     "metadata": {},
     "output_type": "execute_result"
    }
   ],
   "source": [
    "test_files"
   ]
  },
  {
   "cell_type": "code",
   "execution_count": 22,
   "id": "41ee327b",
   "metadata": {},
   "outputs": [
    {
     "name": "stdout",
     "output_type": "stream",
     "text": [
      ".... prediction on text dataset finished.\n"
     ]
    }
   ],
   "source": [
    "with torch.no_grad():\n",
    "    net.eval()\n",
    "    preds = []\n",
    "    ids = []\n",
    "    \n",
    "    \n",
    "    test_generator = generate_test_batches(test_files, batch_size=500000)\n",
    "    for batch in test_generator:\n",
    "        batch_morgan1, batch_morgan2, batch_morgan3, batch_protein, batch_ids = batch\n",
    "        batch_morgan = np.concatenate((batch_morgan1, batch_morgan2, batch_morgan3, batch_protein), 1)\n",
    "        score = net(torch.Tensor(batch_morgan).to(dev))\n",
    "        preds.append(torch.sigmoid(score).cpu().numpy())\n",
    "        ids.append(batch_ids)\n",
    "\n",
    "    preds = np.vstack(preds)[:, 0]\n",
    "    ids = np.vstack(ids)[:,0]\n",
    "    print(\"\\n prediction on text dataset finished.\")\n",
    "\n",
    "df = pd.DataFrame({\n",
    "    'id': ids,\n",
    "    'preds': preds\n",
    "})"
   ]
  },
  {
   "cell_type": "code",
   "execution_count": 23,
   "id": "7f799a60",
   "metadata": {},
   "outputs": [],
   "source": [
    "df.to_csv('/mnt/isilon/wang_lab/shared/Belka/analysis/bldblock_NN_epoch_17_submission.csv',index=None)"
   ]
  },
  {
   "cell_type": "code",
   "execution_count": null,
   "id": "e88f0def",
   "metadata": {},
   "outputs": [],
   "source": []
  },
  {
   "cell_type": "code",
   "execution_count": null,
   "id": "a94af3d3",
   "metadata": {},
   "outputs": [],
   "source": []
  },
  {
   "cell_type": "code",
   "execution_count": null,
   "id": "dbbf7c6b",
   "metadata": {},
   "outputs": [],
   "source": []
  },
  {
   "cell_type": "code",
   "execution_count": 47,
   "id": "70300415",
   "metadata": {},
   "outputs": [
    {
     "name": "stdout",
     "output_type": "stream",
     "text": [
      "...............\n",
      " Epoch=1 Train_Loss=1.003138149199302 Test_Loss=0.04882204769590944 Test AP=0.13260512288866608\n",
      "...............\n",
      " Epoch=2 Train_Loss=0.8343921044622662 Test_Loss=0.052541076241587104 Test AP=0.15806395912532023\n",
      "...............\n",
      " Epoch=3 Train_Loss=0.7964697278223664 Test_Loss=0.06023136017497704 Test AP=0.16564010288688769\n",
      "...............\n",
      " Epoch=4 Train_Loss=0.7719787498841771 Test_Loss=0.06954713337385077 Test AP=0.16598595814173905\n",
      "...............\n",
      " Epoch=5 Train_Loss=0.7594206354114563 Test_Loss=0.11244394741869336 Test AP=0.17529272770581467\n",
      "...............\n",
      " Epoch=6 Train_Loss=0.7488237145274264 Test_Loss=0.156620718493725 Test AP=0.1808955108795634\n",
      "...............\n",
      " Epoch=7 Train_Loss=0.7353306274759498 Test_Loss=0.32474393346613667 Test AP=0.17521899748532252\n",
      "...............\n",
      " Epoch=8 Train_Loss=0.7311725073708566 Test_Loss=0.4824021732787721 Test AP=0.18973572540806538\n",
      "...............\n",
      " Epoch=9 Train_Loss=0.7230835853912253 Test_Loss=0.5686870524970539 Test AP=0.19663832765747946\n",
      "...............\n",
      " Epoch=10 Train_Loss=0.7209700706965765 Test_Loss=1.3120358026004784 Test AP=0.19619271792446627\n"
     ]
    }
   ],
   "source": [
    "#this is the original trainning part, keep it for reference\n",
    "\n",
    "%%time\n",
    "pos_weight=torch.Tensor(np.array(5.0))\n",
    "epoch_num=10\n",
    "\n",
    "for i in range(epoch_num):\n",
    "    net.train()\n",
    "    train_loss=0\n",
    "    train_generator=generate_batches(train_files, batch_size=1024)\n",
    "    for batch in train_generator:\n",
    "        optimizer.zero_grad()\n",
    "        batch_morgan, batch_protein, batch_labels=batch\n",
    "        batch_morgan=np.concatenate((batch_morgan, batch_protein),1) #combine morgan fp with protein onehot encoding\n",
    "        score=net(torch.Tensor(batch_morgan).to(dev))\n",
    "        loss =  torch.nn.functional.binary_cross_entropy_with_logits(score, torch.Tensor(batch_labels)[:,None].to(dev), pos_weight=pos_weight)\n",
    "        train_loss+=loss.cpu().item()*len(score)\n",
    "        loss.backward()\n",
    "        optimizer.step()\n",
    "    \n",
    "    \n",
    "    with torch.no_grad():\n",
    "        net.eval()\n",
    "        preds=[]\n",
    "        labels=[]\n",
    "        test_loss=0\n",
    "        test_generator=generate_batches(test_files, batch_size=1024)\n",
    "        for batch in test_generator:\n",
    "            batch_morgan, batch_protein, batch_labels=batch\n",
    "            batch_morgan=np.concatenate((batch_morgan, batch_protein),1)\n",
    "            score=net(torch.Tensor(batch_morgan).to(dev))\n",
    "            loss =  torch.nn.functional.binary_cross_entropy_with_logits(score, torch.Tensor(batch_labels)[:,None].to(dev), pos_weight=pos_weight)\n",
    "            preds.append(torch.nn.functional.sigmoid(score))\n",
    "            labels.append(batch_labels)\n",
    "            test_loss+=loss.cpu().item()*len(score)\n",
    "            \n",
    "        preds=torch.vstack(preds).cpu().numpy()[:,0]\n",
    "        labels=np.hstack(labels)\n",
    "        ap=average_precision_score(labels, preds)\n",
    "        print('\\n Epoch={} Train_Loss={} Test_Loss={} Test AP={}'.format(i+1, train_loss/len(labels), test_loss/len(labels), ap))"
   ]
  },
  {
   "cell_type": "code",
   "execution_count": null,
   "id": "2e0bceed",
   "metadata": {},
   "outputs": [],
   "source": []
  },
  {
   "cell_type": "code",
   "execution_count": null,
   "id": "ff2eeeab",
   "metadata": {},
   "outputs": [],
   "source": []
  }
 ],
 "metadata": {
  "kernelspec": {
   "display_name": "tutorial",
   "language": "python",
   "name": "tutorial"
  },
  "language_info": {
   "codemirror_mode": {
    "name": "ipython",
    "version": 3
   },
   "file_extension": ".py",
   "mimetype": "text/x-python",
   "name": "python",
   "nbconvert_exporter": "python",
   "pygments_lexer": "ipython3",
   "version": "3.10.14"
  }
 },
 "nbformat": 4,
 "nbformat_minor": 5
}
