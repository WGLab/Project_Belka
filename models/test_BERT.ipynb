{
 "cells": [
  {
   "cell_type": "markdown",
   "id": "f2ab58a3",
   "metadata": {},
   "source": [
    "# This notebook test the BERT fine tuning model\n",
    "https://www.kaggle.com/code/studystuffme/belka-bert-finetuning/notebook"
   ]
  },
  {
   "cell_type": "code",
   "execution_count": 1,
   "id": "d720ee4e",
   "metadata": {},
   "outputs": [
    {
     "name": "stderr",
     "output_type": "stream",
     "text": [
      "/home/wangp5/miniconda3/envs/tutorial/lib/python3.10/site-packages/tqdm/auto.py:21: TqdmWarning: IProgress not found. Please update jupyter and ipywidgets. See https://ipywidgets.readthedocs.io/en/stable/user_install.html\n",
      "  from .autonotebook import tqdm as notebook_tqdm\n"
     ]
    }
   ],
   "source": [
    "import pandas as pd\n",
    "import numpy as np\n",
    "import duckdb\n",
    "import matplotlib.pyplot as plt\n",
    "from datasets import*\n",
    "from rdkit import Chem\n",
    "from rdkit.Chem import AllChem\n",
    "import seaborn as sns "
   ]
  },
  {
   "cell_type": "code",
   "execution_count": 2,
   "id": "53ef257a",
   "metadata": {},
   "outputs": [],
   "source": [
    "train_path = '/mnt/isilon/wang_lab/pengwang/projects/Belka/raw_data/train_split.parquet'\n",
    "test_path = '/mnt/isilon/wang_lab/pengwang/projects/Belka/raw_data/train_split.parquet'\n",
    "\n",
    "con = duckdb.connect()\n",
    "\n",
    "small_df = con.query(f\"\"\"(SELECT *\n",
    "                        FROM parquet_scan('{train_path}')\n",
    "                        WHERE binds = 0\n",
    "                        ORDER BY random()\n",
    "                        LIMIT 30000)\n",
    "                        UNION ALL\n",
    "                        (SELECT *\n",
    "                        FROM parquet_scan('{train_path}')\n",
    "                        WHERE binds = 1\n",
    "                        ORDER BY random()\n",
    "                        LIMIT 30000)\"\"\").df()\n",
    "\n",
    "con.close()"
   ]
  },
  {
   "cell_type": "code",
   "execution_count": 3,
   "id": "493078c7",
   "metadata": {},
   "outputs": [
    {
     "data": {
      "text/html": [
       "<div>\n",
       "<style scoped>\n",
       "    .dataframe tbody tr th:only-of-type {\n",
       "        vertical-align: middle;\n",
       "    }\n",
       "\n",
       "    .dataframe tbody tr th {\n",
       "        vertical-align: top;\n",
       "    }\n",
       "\n",
       "    .dataframe thead th {\n",
       "        text-align: right;\n",
       "    }\n",
       "</style>\n",
       "<table border=\"1\" class=\"dataframe\">\n",
       "  <thead>\n",
       "    <tr style=\"text-align: right;\">\n",
       "      <th></th>\n",
       "      <th>id</th>\n",
       "      <th>buildingblock1_smiles</th>\n",
       "      <th>buildingblock2_smiles</th>\n",
       "      <th>buildingblock3_smiles</th>\n",
       "      <th>molecule_smiles</th>\n",
       "      <th>protein_name</th>\n",
       "      <th>binds</th>\n",
       "    </tr>\n",
       "  </thead>\n",
       "  <tbody>\n",
       "    <tr>\n",
       "      <th>0</th>\n",
       "      <td>66214972</td>\n",
       "      <td>N#Cc1ccc(C[C@H](CC(=O)O)NC(=O)OCC2c3ccccc3-c3c...</td>\n",
       "      <td>Nc1cc(Br)ccc1CO</td>\n",
       "      <td>COC(=O)c1cc(Cl)nc(Cl)c1N</td>\n",
       "      <td>COC(=O)c1cc(Cl)nc(Cl)c1Nc1nc(Nc2cc(Br)ccc2CO)n...</td>\n",
       "      <td>HSA</td>\n",
       "      <td>0</td>\n",
       "    </tr>\n",
       "    <tr>\n",
       "      <th>1</th>\n",
       "      <td>61912980</td>\n",
       "      <td>Cc1ccccc1[C@@H](CC(=O)O)NC(=O)OCC1c2ccccc2-c2c...</td>\n",
       "      <td>Nc1ccc(Cn2ccnc2)cc1</td>\n",
       "      <td>CC1(C)CC(CCN)C(=O)N1.Cl</td>\n",
       "      <td>Cc1ccccc1[C@@H](CC(=O)N[Dy])Nc1nc(NCCC2CC(C)(C...</td>\n",
       "      <td>BRD4</td>\n",
       "      <td>0</td>\n",
       "    </tr>\n",
       "    <tr>\n",
       "      <th>2</th>\n",
       "      <td>53359771</td>\n",
       "      <td>Cc1cc(Cl)cc(C(=O)O)c1NC(=O)OCC1c2ccccc2-c2ccccc21</td>\n",
       "      <td>Nc1ncc[nH]c1=O</td>\n",
       "      <td>Cc1cccc2sc(N)nc12</td>\n",
       "      <td>Cc1cc(Cl)cc(C(=O)N[Dy])c1Nc1nc(Nc2nc3c(C)cccc3...</td>\n",
       "      <td>HSA</td>\n",
       "      <td>0</td>\n",
       "    </tr>\n",
       "    <tr>\n",
       "      <th>3</th>\n",
       "      <td>38598008</td>\n",
       "      <td>COc1cccc(C(=O)O)c1NC(=O)OCC1c2ccccc2-c2ccccc21</td>\n",
       "      <td>Cl.Cl.NCC1CCN(CC(F)F)CC1</td>\n",
       "      <td>NCc1nc(-c2ccsc2)no1</td>\n",
       "      <td>COc1cccc(C(=O)N[Dy])c1Nc1nc(NCc2nc(-c3ccsc3)no...</td>\n",
       "      <td>sEH</td>\n",
       "      <td>0</td>\n",
       "    </tr>\n",
       "    <tr>\n",
       "      <th>4</th>\n",
       "      <td>119466152</td>\n",
       "      <td>O=C(N[C@H](Cc1ccc(-c2ccccc2)cc1)C(=O)O)OCC1c2c...</td>\n",
       "      <td>N#Cc1ncc(N)cc1C(F)(F)F</td>\n",
       "      <td>Nc1nc(-c2ccccc2Cl)cs1</td>\n",
       "      <td>N#Cc1ncc(Nc2nc(Nc3nc(-c4ccccc4Cl)cs3)nc(N[C@H]...</td>\n",
       "      <td>sEH</td>\n",
       "      <td>0</td>\n",
       "    </tr>\n",
       "  </tbody>\n",
       "</table>\n",
       "</div>"
      ],
      "text/plain": [
       "          id                              buildingblock1_smiles  \\\n",
       "0   66214972  N#Cc1ccc(C[C@H](CC(=O)O)NC(=O)OCC2c3ccccc3-c3c...   \n",
       "1   61912980  Cc1ccccc1[C@@H](CC(=O)O)NC(=O)OCC1c2ccccc2-c2c...   \n",
       "2   53359771  Cc1cc(Cl)cc(C(=O)O)c1NC(=O)OCC1c2ccccc2-c2ccccc21   \n",
       "3   38598008     COc1cccc(C(=O)O)c1NC(=O)OCC1c2ccccc2-c2ccccc21   \n",
       "4  119466152  O=C(N[C@H](Cc1ccc(-c2ccccc2)cc1)C(=O)O)OCC1c2c...   \n",
       "\n",
       "      buildingblock2_smiles     buildingblock3_smiles  \\\n",
       "0           Nc1cc(Br)ccc1CO  COC(=O)c1cc(Cl)nc(Cl)c1N   \n",
       "1       Nc1ccc(Cn2ccnc2)cc1   CC1(C)CC(CCN)C(=O)N1.Cl   \n",
       "2            Nc1ncc[nH]c1=O         Cc1cccc2sc(N)nc12   \n",
       "3  Cl.Cl.NCC1CCN(CC(F)F)CC1       NCc1nc(-c2ccsc2)no1   \n",
       "4    N#Cc1ncc(N)cc1C(F)(F)F     Nc1nc(-c2ccccc2Cl)cs1   \n",
       "\n",
       "                                     molecule_smiles protein_name  binds  \n",
       "0  COC(=O)c1cc(Cl)nc(Cl)c1Nc1nc(Nc2cc(Br)ccc2CO)n...          HSA      0  \n",
       "1  Cc1ccccc1[C@@H](CC(=O)N[Dy])Nc1nc(NCCC2CC(C)(C...         BRD4      0  \n",
       "2  Cc1cc(Cl)cc(C(=O)N[Dy])c1Nc1nc(Nc2nc3c(C)cccc3...          HSA      0  \n",
       "3  COc1cccc(C(=O)N[Dy])c1Nc1nc(NCc2nc(-c3ccsc3)no...          sEH      0  \n",
       "4  N#Cc1ncc(Nc2nc(Nc3nc(-c4ccccc4Cl)cs3)nc(N[C@H]...          sEH      0  "
      ]
     },
     "execution_count": 3,
     "metadata": {},
     "output_type": "execute_result"
    }
   ],
   "source": [
    "small_df.head()"
   ]
  },
  {
   "cell_type": "code",
   "execution_count": 4,
   "id": "e692afed",
   "metadata": {},
   "outputs": [
    {
     "data": {
      "image/png": "[encoded data removed]",
      "text/plain": [
       "<Figure size 640x480 with 1 Axes>"
      ]
     },
     "metadata": {},
     "output_type": "display_data"
    }
   ],
   "source": [
    "sns.countplot(data=small_df,x='binds');"
   ]
  },
  {
   "cell_type": "markdown",
   "id": "a80300b0",
   "metadata": {},
   "source": [
    "## feature engineering (generate input texx)"
   ]
  },
  {
   "cell_type": "code",
   "execution_count": 5,
   "id": "71b428b2",
   "metadata": {},
   "outputs": [],
   "source": [
    "# use [SEP] token to separate two test inputs (SMILE and protein_name)\n",
    "small_df['text'] = small_df['molecule_smiles']+ '[SEP]' + small_df['protein_name']\n",
    "#small_df.head(5)"
   ]
  },
  {
   "cell_type": "code",
   "execution_count": 6,
   "id": "96c4dafb",
   "metadata": {},
   "outputs": [
    {
     "data": {
      "text/plain": [
       "Index(['id', 'buildingblock1_smiles', 'buildingblock2_smiles',\n",
       "       'buildingblock3_smiles', 'molecule_smiles', 'protein_name', 'binds',\n",
       "       'text'],\n",
       "      dtype='object')"
      ]
     },
     "execution_count": 6,
     "metadata": {},
     "output_type": "execute_result"
    }
   ],
   "source": [
    "small_df.columns"
   ]
  },
  {
   "cell_type": "code",
   "execution_count": 7,
   "id": "e6b667ad",
   "metadata": {},
   "outputs": [
    {
     "data": {
      "text/html": [
       "<div>\n",
       "<style scoped>\n",
       "    .dataframe tbody tr th:only-of-type {\n",
       "        vertical-align: middle;\n",
       "    }\n",
       "\n",
       "    .dataframe tbody tr th {\n",
       "        vertical-align: top;\n",
       "    }\n",
       "\n",
       "    .dataframe thead th {\n",
       "        text-align: right;\n",
       "    }\n",
       "</style>\n",
       "<table border=\"1\" class=\"dataframe\">\n",
       "  <thead>\n",
       "    <tr style=\"text-align: right;\">\n",
       "      <th></th>\n",
       "      <th>binds</th>\n",
       "      <th>text</th>\n",
       "    </tr>\n",
       "  </thead>\n",
       "  <tbody>\n",
       "    <tr>\n",
       "      <th>0</th>\n",
       "      <td>0</td>\n",
       "      <td>COC(=O)c1cc(Cl)nc(Cl)c1Nc1nc(Nc2cc(Br)ccc2CO)n...</td>\n",
       "    </tr>\n",
       "    <tr>\n",
       "      <th>1</th>\n",
       "      <td>0</td>\n",
       "      <td>Cc1ccccc1[C@@H](CC(=O)N[Dy])Nc1nc(NCCC2CC(C)(C...</td>\n",
       "    </tr>\n",
       "    <tr>\n",
       "      <th>2</th>\n",
       "      <td>0</td>\n",
       "      <td>Cc1cc(Cl)cc(C(=O)N[Dy])c1Nc1nc(Nc2nc3c(C)cccc3...</td>\n",
       "    </tr>\n",
       "    <tr>\n",
       "      <th>3</th>\n",
       "      <td>0</td>\n",
       "      <td>COc1cccc(C(=O)N[Dy])c1Nc1nc(NCc2nc(-c3ccsc3)no...</td>\n",
       "    </tr>\n",
       "    <tr>\n",
       "      <th>4</th>\n",
       "      <td>0</td>\n",
       "      <td>N#Cc1ncc(Nc2nc(Nc3nc(-c4ccccc4Cl)cs3)nc(N[C@H]...</td>\n",
       "    </tr>\n",
       "  </tbody>\n",
       "</table>\n",
       "</div>"
      ],
      "text/plain": [
       "   binds                                               text\n",
       "0      0  COC(=O)c1cc(Cl)nc(Cl)c1Nc1nc(Nc2cc(Br)ccc2CO)n...\n",
       "1      0  Cc1ccccc1[C@@H](CC(=O)N[Dy])Nc1nc(NCCC2CC(C)(C...\n",
       "2      0  Cc1cc(Cl)cc(C(=O)N[Dy])c1Nc1nc(Nc2nc3c(C)cccc3...\n",
       "3      0  COc1cccc(C(=O)N[Dy])c1Nc1nc(NCc2nc(-c3ccsc3)no...\n",
       "4      0  N#Cc1ncc(Nc2nc(Nc3nc(-c4ccccc4Cl)cs3)nc(N[C@H]..."
      ]
     },
     "execution_count": 7,
     "metadata": {},
     "output_type": "execute_result"
    }
   ],
   "source": [
    "small_df = small_df.drop(['id', 'buildingblock1_smiles', 'buildingblock2_smiles',\n",
    "       'buildingblock3_smiles', 'molecule_smiles', 'protein_name'],axis=1)\n",
    "small_df.head()"
   ]
  },
  {
   "cell_type": "code",
   "execution_count": 8,
   "id": "7eb54353",
   "metadata": {},
   "outputs": [
    {
     "data": {
      "text/plain": [
       "Dataset({\n",
       "    features: ['binds', 'text'],\n",
       "    num_rows: 60000\n",
       "})"
      ]
     },
     "execution_count": 8,
     "metadata": {},
     "output_type": "execute_result"
    }
   ],
   "source": [
    "dataset = Dataset.from_pandas(small_df)\n",
    "dataset"
   ]
  },
  {
   "cell_type": "code",
   "execution_count": 9,
   "id": "75b8064d",
   "metadata": {},
   "outputs": [
    {
     "data": {
      "text/plain": [
       "DatasetDict({\n",
       "    train: Dataset({\n",
       "        features: ['label', 'text'],\n",
       "        num_rows: 48000\n",
       "    })\n",
       "    test: Dataset({\n",
       "        features: ['label', 'text'],\n",
       "        num_rows: 12000\n",
       "    })\n",
       "})"
      ]
     },
     "execution_count": 9,
     "metadata": {},
     "output_type": "execute_result"
    }
   ],
   "source": [
    "dataset = dataset.rename_column('binds','label')\n",
    "dataset = dataset.train_test_split(test_size=0.2)\n",
    "dataset"
   ]
  },
  {
   "cell_type": "code",
   "execution_count": 10,
   "id": "a4764500",
   "metadata": {},
   "outputs": [],
   "source": [
    "train_df = dataset['train']\n",
    "test_df = dataset['test']"
   ]
  },
  {
   "cell_type": "code",
   "execution_count": 11,
   "id": "30266651",
   "metadata": {},
   "outputs": [],
   "source": [
    "id2label = {0:'No bind',1:'Bind'}\n",
    "label2id = {'No bind':0,'Bind':1}"
   ]
  },
  {
   "cell_type": "code",
   "execution_count": 12,
   "id": "28939207",
   "metadata": {},
   "outputs": [
    {
     "name": "stderr",
     "output_type": "stream",
     "text": [
      "2024-06-13 11:39:52.560365: I tensorflow/core/util/port.cc:113] oneDNN custom operations are on. You may see slightly different numerical results due to floating-point round-off errors from different computation orders. To turn them off, set the environment variable `TF_ENABLE_ONEDNN_OPTS=0`.\n",
      "2024-06-13 11:39:53.886982: I tensorflow/core/platform/cpu_feature_guard.cc:210] This TensorFlow binary is optimized to use available CPU instructions in performance-critical operations.\n",
      "To enable the following instructions: AVX2 AVX512F AVX512_VNNI FMA, in other operations, rebuild TensorFlow with the appropriate compiler flags.\n",
      "2024-06-13 11:39:56.897179: W tensorflow/compiler/tf2tensorrt/utils/py_utils.cc:38] TF-TRT Warning: Could not find TensorRT\n"
     ]
    }
   ],
   "source": [
    "from transformers import BertTokenizer, BertTokenizerFast,BertForSequenceClassification,Trainer,TrainingArguments"
   ]
  },
  {
   "cell_type": "code",
   "execution_count": 13,
   "id": "ffb3b2dc",
   "metadata": {},
   "outputs": [
    {
     "name": "stderr",
     "output_type": "stream",
     "text": [
      "Some weights of BertForSequenceClassification were not initialized from the model checkpoint at bert-base-uncased and are newly initialized: ['classifier.bias', 'classifier.weight']\n",
      "You should probably TRAIN this model on a down-stream task to be able to use it for predictions and inference.\n"
     ]
    }
   ],
   "source": [
    "checkpoint = \"bert-base-uncased\"\n",
    "tokenizer = BertTokenizerFast.from_pretrained(checkpoint)\n",
    "model = BertForSequenceClassification.from_pretrained(checkpoint,num_labels=2,label2id=label2id,id2label=id2label)"
   ]
  },
  {
   "cell_type": "code",
   "execution_count": 14,
   "id": "40f12af5",
   "metadata": {},
   "outputs": [],
   "source": [
    "import torch"
   ]
  },
  {
   "cell_type": "code",
   "execution_count": 15,
   "id": "ba2e764a",
   "metadata": {},
   "outputs": [
    {
     "data": {
      "text/plain": [
       "0"
      ]
     },
     "execution_count": 15,
     "metadata": {},
     "output_type": "execute_result"
    }
   ],
   "source": [
    "torch.cuda.current_device()"
   ]
  },
  {
   "cell_type": "code",
   "execution_count": 16,
   "id": "2f68c506",
   "metadata": {},
   "outputs": [
    {
     "data": {
      "text/plain": [
       "1"
      ]
     },
     "execution_count": 16,
     "metadata": {},
     "output_type": "execute_result"
    }
   ],
   "source": [
    "torch.cuda.device_count()"
   ]
  },
  {
   "cell_type": "code",
   "execution_count": 17,
   "id": "dd12ba5a",
   "metadata": {},
   "outputs": [
    {
     "data": {
      "text/plain": [
       "'NVIDIA A100-SXM4-40GB'"
      ]
     },
     "execution_count": 17,
     "metadata": {},
     "output_type": "execute_result"
    }
   ],
   "source": [
    "torch.cuda.get_device_name()"
   ]
  },
  {
   "cell_type": "code",
   "execution_count": 18,
   "id": "978165fa",
   "metadata": {},
   "outputs": [],
   "source": [
    "#model = torch.nn.DataParallel(model)"
   ]
  },
  {
   "cell_type": "code",
   "execution_count": 19,
   "id": "6a6a1ff5",
   "metadata": {},
   "outputs": [
    {
     "data": {
      "text/plain": [
       "BertForSequenceClassification(\n",
       "  (bert): BertModel(\n",
       "    (embeddings): BertEmbeddings(\n",
       "      (word_embeddings): Embedding(30522, 768, padding_idx=0)\n",
       "      (position_embeddings): Embedding(512, 768)\n",
       "      (token_type_embeddings): Embedding(2, 768)\n",
       "      (LayerNorm): LayerNorm((768,), eps=1e-12, elementwise_affine=True)\n",
       "      (dropout): Dropout(p=0.1, inplace=False)\n",
       "    )\n",
       "    (encoder): BertEncoder(\n",
       "      (layer): ModuleList(\n",
       "        (0-11): 12 x BertLayer(\n",
       "          (attention): BertAttention(\n",
       "            (self): BertSdpaSelfAttention(\n",
       "              (query): Linear(in_features=768, out_features=768, bias=True)\n",
       "              (key): Linear(in_features=768, out_features=768, bias=True)\n",
       "              (value): Linear(in_features=768, out_features=768, bias=True)\n",
       "              (dropout): Dropout(p=0.1, inplace=False)\n",
       "            )\n",
       "            (output): BertSelfOutput(\n",
       "              (dense): Linear(in_features=768, out_features=768, bias=True)\n",
       "              (LayerNorm): LayerNorm((768,), eps=1e-12, elementwise_affine=True)\n",
       "              (dropout): Dropout(p=0.1, inplace=False)\n",
       "            )\n",
       "          )\n",
       "          (intermediate): BertIntermediate(\n",
       "            (dense): Linear(in_features=768, out_features=3072, bias=True)\n",
       "            (intermediate_act_fn): GELUActivation()\n",
       "          )\n",
       "          (output): BertOutput(\n",
       "            (dense): Linear(in_features=3072, out_features=768, bias=True)\n",
       "            (LayerNorm): LayerNorm((768,), eps=1e-12, elementwise_affine=True)\n",
       "            (dropout): Dropout(p=0.1, inplace=False)\n",
       "          )\n",
       "        )\n",
       "      )\n",
       "    )\n",
       "    (pooler): BertPooler(\n",
       "      (dense): Linear(in_features=768, out_features=768, bias=True)\n",
       "      (activation): Tanh()\n",
       "    )\n",
       "  )\n",
       "  (dropout): Dropout(p=0.1, inplace=False)\n",
       "  (classifier): Linear(in_features=768, out_features=2, bias=True)\n",
       ")"
      ]
     },
     "execution_count": 19,
     "metadata": {},
     "output_type": "execute_result"
    }
   ],
   "source": [
    "model.to('cuda')"
   ]
  },
  {
   "cell_type": "code",
   "execution_count": 20,
   "id": "8bae1e3c",
   "metadata": {},
   "outputs": [],
   "source": [
    "def preprocess_function(examples):\n",
    "    return tokenizer(examples['text'],truncation=True, padding=True)"
   ]
  },
  {
   "cell_type": "code",
   "execution_count": 21,
   "id": "d6ee7371",
   "metadata": {},
   "outputs": [
    {
     "name": "stderr",
     "output_type": "stream",
     "text": [
      "Map: 100%|██████████| 48000/48000 [00:05<00:00, 8988.06 examples/s]\n",
      "Map: 100%|██████████| 12000/12000 [00:01<00:00, 8105.24 examples/s]\n"
     ]
    }
   ],
   "source": [
    "tokenize_train = train_df.map(preprocess_function,batched=True)\n",
    "tokenize_test = test_df.map(preprocess_function,batched=True)"
   ]
  },
  {
   "cell_type": "code",
   "execution_count": 85,
   "id": "2d7245fc",
   "metadata": {},
   "outputs": [
    {
     "data": {
      "text/plain": [
       "Dataset({\n",
       "    features: ['label', 'text'],\n",
       "    num_rows: 48000\n",
       "})"
      ]
     },
     "execution_count": 85,
     "metadata": {},
     "output_type": "execute_result"
    }
   ],
   "source": [
    "train_df"
   ]
  },
  {
   "cell_type": "code",
   "execution_count": 22,
   "id": "15bbca06",
   "metadata": {},
   "outputs": [],
   "source": [
    "from transformers import DataCollatorWithPadding\n",
    "data_collator = DataCollatorWithPadding(tokenizer=tokenizer)"
   ]
  },
  {
   "cell_type": "code",
   "execution_count": 23,
   "id": "b395b123",
   "metadata": {},
   "outputs": [],
   "source": [
    "import evaluate\n",
    "precision = evaluate.load(\"precision\")"
   ]
  },
  {
   "cell_type": "code",
   "execution_count": 24,
   "id": "3ed9cbf2",
   "metadata": {},
   "outputs": [],
   "source": [
    "def compute_metrics(eval_pred):\n",
    "    predictions, labels = eval_pred\n",
    "    predictions = np.argmax(predictions, axis=1)\n",
    "    return precision.compute(predictions=predictions, references=labels)"
   ]
  },
  {
   "cell_type": "code",
   "execution_count": 25,
   "id": "8b932b49",
   "metadata": {},
   "outputs": [
    {
     "name": "stderr",
     "output_type": "stream",
     "text": [
      "/home/wangp5/miniconda3/envs/tutorial/lib/python3.10/site-packages/transformers/training_args.py:1474: FutureWarning: `evaluation_strategy` is deprecated and will be removed in version 4.46 of 🤗 Transformers. Use `eval_strategy` instead\n",
      "  warnings.warn(\n"
     ]
    }
   ],
   "source": [
    "training_args = TrainingArguments(\n",
    "    output_dir='Belka-BERT',\n",
    "    overwrite_output_dir=True,\n",
    "    num_train_epochs=4,\n",
    "    per_device_train_batch_size=8,\n",
    "    per_device_eval_batch_size=8,\n",
    "    evaluation_strategy='epoch',\n",
    "    save_strategy='epoch',\n",
    "    logging_dir='logs',\n",
    "    report_to='none',\n",
    "    learning_rate=2e-5,\n",
    ")"
   ]
  },
  {
   "cell_type": "code",
   "execution_count": 26,
   "id": "5770e13b",
   "metadata": {},
   "outputs": [
    {
     "data": {
      "text/plain": [
       "<transformers.trainer.Trainer at 0x1554135cf0d0>"
      ]
     },
     "execution_count": 26,
     "metadata": {},
     "output_type": "execute_result"
    }
   ],
   "source": [
    "trainer = Trainer(\n",
    "    model=model,\n",
    "    args=training_args,\n",
    "    train_dataset=tokenize_train,\n",
    "    eval_dataset=tokenize_test,\n",
    "    tokenizer=tokenizer,\n",
    "    data_collator=data_collator,\n",
    "    compute_metrics=compute_metrics\n",
    ")\n",
    "trainer"
   ]
  },
  {
   "cell_type": "code",
   "execution_count": 27,
   "id": "b78989af",
   "metadata": {},
   "outputs": [
    {
     "name": "stdout",
     "output_type": "stream",
     "text": [
      "{'label': 1, 'text': 'CC(C)(C)OCC(Nc1nc(Nc2cc(Cl)ccn2)nc(Nc2nc(=O)[nH]cc2Br)n1)C(=O)N[Dy][SEP]HSA', 'input_ids': [101, 10507, 1006, 1039, 1007, 1006, 1039, 1007, 1051, 9468, 1006, 13316, 2487, 12273, 1006, 13316, 2475, 9468, 1006, 18856, 1007, 10507, 2078, 2475, 1007, 13316, 1006, 13316, 2475, 12273, 1006, 1027, 1051, 1007, 1031, 18699, 1033, 10507, 2475, 19892, 1007, 1050, 2487, 1007, 1039, 1006, 1027, 1051, 1007, 1050, 1031, 1040, 2100, 1033, 102, 26236, 2050, 102, 0, 0, 0, 0, 0, 0, 0, 0, 0, 0, 0, 0, 0, 0, 0, 0, 0, 0, 0, 0, 0, 0, 0, 0, 0, 0, 0, 0, 0, 0, 0, 0, 0, 0, 0, 0, 0, 0, 0, 0, 0, 0, 0, 0, 0], 'token_type_ids': [0, 0, 0, 0, 0, 0, 0, 0, 0, 0, 0, 0, 0, 0, 0, 0, 0, 0, 0, 0, 0, 0, 0, 0, 0, 0, 0, 0, 0, 0, 0, 0, 0, 0, 0, 0, 0, 0, 0, 0, 0, 0, 0, 0, 0, 0, 0, 0, 0, 0, 0, 0, 0, 0, 0, 0, 0, 0, 0, 0, 0, 0, 0, 0, 0, 0, 0, 0, 0, 0, 0, 0, 0, 0, 0, 0, 0, 0, 0, 0, 0, 0, 0, 0, 0, 0, 0, 0, 0, 0, 0, 0, 0, 0, 0, 0, 0, 0, 0, 0, 0, 0, 0], 'attention_mask': [1, 1, 1, 1, 1, 1, 1, 1, 1, 1, 1, 1, 1, 1, 1, 1, 1, 1, 1, 1, 1, 1, 1, 1, 1, 1, 1, 1, 1, 1, 1, 1, 1, 1, 1, 1, 1, 1, 1, 1, 1, 1, 1, 1, 1, 1, 1, 1, 1, 1, 1, 1, 1, 1, 1, 1, 1, 1, 0, 0, 0, 0, 0, 0, 0, 0, 0, 0, 0, 0, 0, 0, 0, 0, 0, 0, 0, 0, 0, 0, 0, 0, 0, 0, 0, 0, 0, 0, 0, 0, 0, 0, 0, 0, 0, 0, 0, 0, 0, 0, 0, 0, 0]}\n",
      "{'label': 0, 'text': 'N#Cc1cnn(-c2ccccc2)c1Nc1nc(Nc2cccc(F)c2C#N)nc(N[C@H](CC(=O)N[Dy])c2ccc(C(F)(F)F)cc2)n1[SEP]sEH', 'input_ids': [101, 1050, 1001, 10507, 2487, 2278, 10695, 1006, 1011, 29248, 9468, 9468, 2278, 2475, 1007, 27723, 12273, 2487, 12273, 1006, 13316, 2475, 9468, 9468, 1006, 1042, 1007, 29248, 2278, 1001, 1050, 1007, 13316, 1006, 1050, 1031, 1039, 1030, 1044, 1033, 1006, 10507, 1006, 1027, 1051, 1007, 1050, 1031, 1040, 2100, 1033, 1007, 29248, 9468, 2278, 1006, 1039, 1006, 1042, 1007, 1006, 1042, 1007, 1042, 1007, 10507, 2475, 1007, 1050, 2487, 102, 7367, 2232, 102, 0, 0, 0, 0, 0, 0, 0, 0, 0, 0, 0, 0, 0, 0, 0, 0, 0, 0, 0, 0, 0], 'token_type_ids': [0, 0, 0, 0, 0, 0, 0, 0, 0, 0, 0, 0, 0, 0, 0, 0, 0, 0, 0, 0, 0, 0, 0, 0, 0, 0, 0, 0, 0, 0, 0, 0, 0, 0, 0, 0, 0, 0, 0, 0, 0, 0, 0, 0, 0, 0, 0, 0, 0, 0, 0, 0, 0, 0, 0, 0, 0, 0, 0, 0, 0, 0, 0, 0, 0, 0, 0, 0, 0, 0, 0, 0, 0, 0, 0, 0, 0, 0, 0, 0, 0, 0, 0, 0, 0, 0, 0, 0, 0, 0, 0, 0, 0, 0, 0], 'attention_mask': [1, 1, 1, 1, 1, 1, 1, 1, 1, 1, 1, 1, 1, 1, 1, 1, 1, 1, 1, 1, 1, 1, 1, 1, 1, 1, 1, 1, 1, 1, 1, 1, 1, 1, 1, 1, 1, 1, 1, 1, 1, 1, 1, 1, 1, 1, 1, 1, 1, 1, 1, 1, 1, 1, 1, 1, 1, 1, 1, 1, 1, 1, 1, 1, 1, 1, 1, 1, 1, 1, 1, 1, 1, 1, 0, 0, 0, 0, 0, 0, 0, 0, 0, 0, 0, 0, 0, 0, 0, 0, 0, 0, 0, 0, 0]}\n"
     ]
    }
   ],
   "source": [
    "print(tokenize_train[0])\n",
    "print(tokenize_test[0])\n"
   ]
  },
  {
   "cell_type": "code",
   "execution_count": 28,
   "id": "fbe8dd1c",
   "metadata": {},
   "outputs": [
    {
     "data": {
      "text/html": [
       "\n",
       "    <div>\n",
       "      \n",
       "      <progress value='24000' max='24000' style='width:300px; height:20px; vertical-align: middle;'></progress>\n",
       "      [24000/24000 21:20, Epoch 4/4]\n",
       "    </div>\n",
       "    <table border=\"1\" class=\"dataframe\">\n",
       "  <thead>\n",
       " <tr style=\"text-align: left;\">\n",
       "      <th>Epoch</th>\n",
       "      <th>Training Loss</th>\n",
       "      <th>Validation Loss</th>\n",
       "      <th>Precision</th>\n",
       "    </tr>\n",
       "  </thead>\n",
       "  <tbody>\n",
       "    <tr>\n",
       "      <td>1</td>\n",
       "      <td>0.384700</td>\n",
       "      <td>0.348119</td>\n",
       "      <td>0.880822</td>\n",
       "    </tr>\n",
       "    <tr>\n",
       "      <td>2</td>\n",
       "      <td>0.332500</td>\n",
       "      <td>0.353694</td>\n",
       "      <td>0.878349</td>\n",
       "    </tr>\n",
       "    <tr>\n",
       "      <td>3</td>\n",
       "      <td>0.288100</td>\n",
       "      <td>0.347835</td>\n",
       "      <td>0.890072</td>\n",
       "    </tr>\n",
       "    <tr>\n",
       "      <td>4</td>\n",
       "      <td>0.262300</td>\n",
       "      <td>0.348815</td>\n",
       "      <td>0.894398</td>\n",
       "    </tr>\n",
       "  </tbody>\n",
       "</table><p>"
      ],
      "text/plain": [
       "<IPython.core.display.HTML object>"
      ]
     },
     "metadata": {},
     "output_type": "display_data"
    },
    {
     "data": {
      "text/plain": [
       "TrainOutput(global_step=24000, training_loss=0.35918380705515546, metrics={'train_runtime': 1281.3996, 'train_samples_per_second': 149.836, 'train_steps_per_second': 18.73, 'total_flos': 1.063907230122192e+16, 'train_loss': 0.35918380705515546, 'epoch': 4.0})"
      ]
     },
     "execution_count": 28,
     "metadata": {},
     "output_type": "execute_result"
    }
   ],
   "source": [
    "trainer.train()"
   ]
  },
  {
   "cell_type": "markdown",
   "id": "54f10c30",
   "metadata": {},
   "source": [
    "## Test the model using real test dataset"
   ]
  },
  {
   "cell_type": "code",
   "execution_count": 29,
   "id": "ac01164f",
   "metadata": {},
   "outputs": [],
   "source": [
    "con = duckdb.connect()\n",
    "\n",
    "unseen_test_df = con.query(f\"\"\"SELECT *\n",
    "                        FROM parquet_scan('{test_path}')\n",
    "                        ORDER BY random()\n",
    "                        LIMIT 30000\"\"\").df()\n",
    "\n",
    "con.close()"
   ]
  },
  {
   "cell_type": "code",
   "execution_count": 30,
   "id": "31d6179a",
   "metadata": {},
   "outputs": [
    {
     "data": {
      "text/html": [
       "<div>\n",
       "<style scoped>\n",
       "    .dataframe tbody tr th:only-of-type {\n",
       "        vertical-align: middle;\n",
       "    }\n",
       "\n",
       "    .dataframe tbody tr th {\n",
       "        vertical-align: top;\n",
       "    }\n",
       "\n",
       "    .dataframe thead th {\n",
       "        text-align: right;\n",
       "    }\n",
       "</style>\n",
       "<table border=\"1\" class=\"dataframe\">\n",
       "  <thead>\n",
       "    <tr style=\"text-align: right;\">\n",
       "      <th></th>\n",
       "      <th>id</th>\n",
       "      <th>buildingblock1_smiles</th>\n",
       "      <th>buildingblock2_smiles</th>\n",
       "      <th>buildingblock3_smiles</th>\n",
       "      <th>molecule_smiles</th>\n",
       "      <th>protein_name</th>\n",
       "    </tr>\n",
       "    <tr>\n",
       "      <th>binds</th>\n",
       "      <th></th>\n",
       "      <th></th>\n",
       "      <th></th>\n",
       "      <th></th>\n",
       "      <th></th>\n",
       "      <th></th>\n",
       "    </tr>\n",
       "  </thead>\n",
       "  <tbody>\n",
       "    <tr>\n",
       "      <th>0</th>\n",
       "      <td>29863</td>\n",
       "      <td>29863</td>\n",
       "      <td>29863</td>\n",
       "      <td>29863</td>\n",
       "      <td>29863</td>\n",
       "      <td>29863</td>\n",
       "    </tr>\n",
       "    <tr>\n",
       "      <th>1</th>\n",
       "      <td>137</td>\n",
       "      <td>137</td>\n",
       "      <td>137</td>\n",
       "      <td>137</td>\n",
       "      <td>137</td>\n",
       "      <td>137</td>\n",
       "    </tr>\n",
       "  </tbody>\n",
       "</table>\n",
       "</div>"
      ],
      "text/plain": [
       "          id  buildingblock1_smiles  buildingblock2_smiles  \\\n",
       "binds                                                        \n",
       "0      29863                  29863                  29863   \n",
       "1        137                    137                    137   \n",
       "\n",
       "       buildingblock3_smiles  molecule_smiles  protein_name  \n",
       "binds                                                        \n",
       "0                      29863            29863         29863  \n",
       "1                        137              137           137  "
      ]
     },
     "execution_count": 30,
     "metadata": {},
     "output_type": "execute_result"
    }
   ],
   "source": [
    "unseen_test_df.groupby(['binds']).count()"
   ]
  },
  {
   "cell_type": "code",
   "execution_count": 31,
   "id": "f98a9b91",
   "metadata": {},
   "outputs": [],
   "source": [
    "unseen_test_df['text'] = unseen_test_df['molecule_smiles']+ '[SEP]' + unseen_test_df['protein_name']\n",
    "unseen_test_df = unseen_test_df.drop(['id', 'buildingblock1_smiles', 'buildingblock2_smiles',\n",
    "       'buildingblock3_smiles', 'molecule_smiles', 'protein_name'],axis=1)\n",
    "unseen_test_df=unseen_test_df.rename(columns={'binds':'label'})"
   ]
  },
  {
   "cell_type": "code",
   "execution_count": 32,
   "id": "7a21118f",
   "metadata": {},
   "outputs": [
    {
     "data": {
      "text/plain": [
       "Dataset({\n",
       "    features: ['label', 'text'],\n",
       "    num_rows: 30000\n",
       "})"
      ]
     },
     "execution_count": 32,
     "metadata": {},
     "output_type": "execute_result"
    }
   ],
   "source": [
    "dataset = Dataset.from_pandas(unseen_test_df)\n",
    "dataset"
   ]
  },
  {
   "cell_type": "code",
   "execution_count": 33,
   "id": "9f0b7e23",
   "metadata": {},
   "outputs": [
    {
     "name": "stderr",
     "output_type": "stream",
     "text": [
      "Map: 100%|██████████| 30000/30000 [00:03<00:00, 9973.80 examples/s] \n"
     ]
    }
   ],
   "source": [
    "tokenize_test = dataset.map(preprocess_function,batched=True)"
   ]
  },
  {
   "cell_type": "code",
   "execution_count": 72,
   "id": "0de9f4ed",
   "metadata": {},
   "outputs": [
    {
     "data": {
      "text/plain": [
       "Dataset({\n",
       "    features: ['label', 'text', 'input_ids', 'token_type_ids', 'attention_mask'],\n",
       "    num_rows: 30000\n",
       "})"
      ]
     },
     "execution_count": 72,
     "metadata": {},
     "output_type": "execute_result"
    }
   ],
   "source": [
    "tokenize_test"
   ]
  },
  {
   "cell_type": "code",
   "execution_count": 34,
   "id": "036a8852",
   "metadata": {},
   "outputs": [
    {
     "data": {
      "text/html": [],
      "text/plain": [
       "<IPython.core.display.HTML object>"
      ]
     },
     "metadata": {},
     "output_type": "display_data"
    },
    {
     "data": {
      "text/plain": [
       "{'eval_loss': 0.37812286615371704,\n",
       " 'eval_precision': 0.037377450980392156,\n",
       " 'eval_runtime': 51.0962,\n",
       " 'eval_samples_per_second': 587.128,\n",
       " 'eval_steps_per_second': 73.391,\n",
       " 'epoch': 4.0}"
      ]
     },
     "execution_count": 34,
     "metadata": {},
     "output_type": "execute_result"
    }
   ],
   "source": [
    "trainer.evaluate(tokenize_test)"
   ]
  },
  {
   "cell_type": "markdown",
   "id": "2059cf68",
   "metadata": {},
   "source": [
    "## calculate average precision"
   ]
  },
  {
   "cell_type": "code",
   "execution_count": 35,
   "id": "222595d6",
   "metadata": {},
   "outputs": [],
   "source": [
    "from sklearn.metrics import average_precision_score"
   ]
  },
  {
   "cell_type": "code",
   "execution_count": 36,
   "id": "b5b68155",
   "metadata": {},
   "outputs": [
    {
     "data": {
      "text/plain": [
       "PredictionOutput(predictions=array([[ 1.2154646, -1.2482578],\n",
       "       [ 2.6231244, -2.9674332],\n",
       "       [ 1.8802521, -1.8451458],\n",
       "       ...,\n",
       "       [ 2.4933157, -2.8777888],\n",
       "       [ 2.7005656, -3.0001323],\n",
       "       [ 1.9623468, -2.137458 ]], dtype=float32), label_ids=array([0, 0, 0, ..., 0, 0, 0]), metrics={'test_loss': 0.37812286615371704, 'test_precision': 0.037377450980392156, 'test_runtime': 58.1566, 'test_samples_per_second': 515.849, 'test_steps_per_second': 64.481})"
      ]
     },
     "execution_count": 36,
     "metadata": {},
     "output_type": "execute_result"
    }
   ],
   "source": [
    "predictions = trainer.predict(tokenize_test)\n",
    "predictions"
   ]
  },
  {
   "cell_type": "code",
   "execution_count": 76,
   "id": "33372b7b",
   "metadata": {},
   "outputs": [],
   "source": [
    "from scipy.special import softmax"
   ]
  },
  {
   "cell_type": "code",
   "execution_count": 77,
   "id": "c0b30362",
   "metadata": {},
   "outputs": [],
   "source": [
    "pred_prob = softmax(predictions.predictions, axis=1)"
   ]
  },
  {
   "cell_type": "code",
   "execution_count": 83,
   "id": "9bfe3f9c",
   "metadata": {},
   "outputs": [
    {
     "data": {
      "text/plain": [
       "array([[0.9215591 , 0.07844084],\n",
       "       [0.99628097, 0.00371906],\n",
       "       [0.9764638 , 0.0235362 ],\n",
       "       ...,\n",
       "       [0.9953725 , 0.00462748],\n",
       "       [0.99666756, 0.00333249],\n",
       "       [0.9836944 , 0.01630563]], dtype=float32)"
      ]
     },
     "execution_count": 83,
     "metadata": {},
     "output_type": "execute_result"
    }
   ],
   "source": [
    "pred_prob"
   ]
  },
  {
   "cell_type": "code",
   "execution_count": 80,
   "id": "ab3e22f9",
   "metadata": {},
   "outputs": [],
   "source": [
    "pred_prob_positive = pred_prob[:,1]"
   ]
  },
  {
   "cell_type": "code",
   "execution_count": 82,
   "id": "788bdff0",
   "metadata": {},
   "outputs": [
    {
     "name": "stdout",
     "output_type": "stream",
     "text": [
      "Mean Average Precision (mAP): 0.292\n"
     ]
    }
   ],
   "source": [
    "map_score = average_precision_score(predictions.label_ids, pred_prob_positive)\n",
    "print(f\"Mean Average Precision (mAP): {map_score:.3f}\")"
   ]
  },
  {
   "cell_type": "code",
   "execution_count": null,
   "id": "19f070b9",
   "metadata": {},
   "outputs": [],
   "source": []
  }
 ],
 "metadata": {
  "kernelspec": {
   "display_name": "tutorial",
   "language": "python",
   "name": "tutorial"
  },
  "language_info": {
   "codemirror_mode": {
    "name": "ipython",
    "version": 3
   },
   "file_extension": ".py",
   "mimetype": "text/x-python",
   "name": "python",
   "nbconvert_exporter": "python",
   "pygments_lexer": "ipython3",
   "version": "3.10.14"
  }
 },
 "nbformat": 4,
 "nbformat_minor": 5
}
