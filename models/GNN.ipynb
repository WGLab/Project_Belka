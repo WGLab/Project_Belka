{
 "cells": [
  {
   "cell_type": "code",
   "execution_count": 2,
   "id": "756c1d74",
   "metadata": {},
   "outputs": [],
   "source": [
    "import numpy as np\n",
    "import pandas as pd\n",
    "import duckdb"
   ]
  },
  {
   "cell_type": "code",
   "execution_count": 2,
   "id": "043868e3",
   "metadata": {},
   "outputs": [
    {
     "name": "stdout",
     "output_type": "stream",
     "text": [
      "CPU times: user 1min 8s, sys: 4.56 s, total: 1min 13s\n",
      "Wall time: 9.4 s\n"
     ]
    }
   ],
   "source": [
    "%%time\n",
    "\n",
    "train_path = '/mnt/isilon/wang_lab/pengwang/projects/Belka/train.parquet'\n",
    "test_path = '/mnt/isilon/wang_lab/pengwang/projects/Belka/test.parquet'\n",
    "\n",
    "con = duckdb.connect()\n",
    "\n",
    "df = con.query(f\"\"\"(SELECT id, molecule_smiles, protein_name, binds\n",
    "                        FROM parquet_scan('{train_path}')\n",
    "                        WHERE binds = 0\n",
    "                        ORDER BY random()\n",
    "                        LIMIT 1000)\n",
    "                        UNION ALL\n",
    "                        (SELECT id, molecule_smiles, protein_name, binds\n",
    "                        FROM parquet_scan('{train_path}')\n",
    "                        WHERE binds = 1\n",
    "                        ORDER BY random()\n",
    "                        LIMIT 1000)\"\"\").df()\n",
    "\n",
    "con.close()"
   ]
  },
  {
   "cell_type": "code",
   "execution_count": 3,
   "id": "2e459371",
   "metadata": {},
   "outputs": [],
   "source": [
    "smiles=df['molecule_smiles']\n",
    "y=df['binds']"
   ]
  },
  {
   "cell_type": "code",
   "execution_count": 3,
   "id": "08f488a5",
   "metadata": {},
   "outputs": [],
   "source": [
    "import torch\n",
    "from rdkit import Chem"
   ]
  },
  {
   "cell_type": "code",
   "execution_count": 5,
   "id": "71ffaabd",
   "metadata": {},
   "outputs": [],
   "source": [
    "molecules = [Chem.MolFromSmiles(x) for x in smiles]"
   ]
  },
  {
   "cell_type": "code",
   "execution_count": 6,
   "id": "bf194df1",
   "metadata": {},
   "outputs": [
    {
     "data": {
      "image/png": "[encoded data removed]",
      "text/plain": [
       "<rdkit.Chem.rdchem.Mol at 0x1554ec20fae0>"
      ]
     },
     "execution_count": 6,
     "metadata": {},
     "output_type": "execute_result"
    }
   ],
   "source": [
    "molecules[0]"
   ]
  },
  {
   "cell_type": "code",
   "execution_count": 7,
   "id": "176f88a9",
   "metadata": {},
   "outputs": [],
   "source": [
    "import networkx as nx\n",
    "from torch_geometric.utils.convert import from_networkx"
   ]
  },
  {
   "cell_type": "code",
   "execution_count": 8,
   "id": "e1cf2192",
   "metadata": {},
   "outputs": [
    {
     "data": {
      "text/plain": [
       "<rdkit.Chem._GetAtomsIterator at 0x1552ea746b00>"
      ]
     },
     "execution_count": 8,
     "metadata": {},
     "output_type": "execute_result"
    }
   ],
   "source": [
    "molecules[0].GetAtoms()"
   ]
  },
  {
   "cell_type": "code",
   "execution_count": 9,
   "id": "84676c10",
   "metadata": {},
   "outputs": [
    {
     "data": {
      "text/plain": [
       "<rdkit.Chem._GetBondsIterator at 0x1552ea7471c0>"
      ]
     },
     "execution_count": 9,
     "metadata": {},
     "output_type": "execute_result"
    }
   ],
   "source": [
    "molecules[0].GetBonds()"
   ]
  },
  {
   "cell_type": "code",
   "execution_count": 10,
   "id": "00d190cc",
   "metadata": {},
   "outputs": [],
   "source": [
    "def generate_graph_from_mol(molecule):\n",
    "    G = nx.Graph()\n",
    "    for atom in molecule.GetAtoms():\n",
    "        G.add_node(atom.GetIdx(),\n",
    "                   x=torch.tensor([\n",
    "                       atom.GetAtomicNum(),\n",
    "                       atom.GetFormalCharge(),\n",
    "                       atom.GetChiralTag().real,\n",
    "                       atom.GetHybridization().real,\n",
    "                       atom.GetNumExplicitHs(),\n",
    "                       atom.GetNumImplicitHs()],\n",
    "                       dtype=torch.float))\n",
    "\n",
    "    bond_type_to_int = {Chem.rdchem.BondType.SINGLE: 0,\n",
    "                        Chem.rdchem.BondType.DOUBLE: 1,\n",
    "                        Chem.rdchem.BondType.TRIPLE: 2,\n",
    "                        Chem.rdchem.BondType.AROMATIC: 3}\n",
    "    for bond in molecule.GetBonds():\n",
    "        G.add_edge(bond.GetBeginAtomIdx(), bond.GetEndAtomIdx(),\n",
    "                   edge_attr=torch.tensor([\n",
    "                       bond_type_to_int[bond.GetBondType()]], dtype=torch.float))\n",
    "\n",
    "    #Converts a :obj:`networkx.Graph` or :obj:`networkx.DiGraph` to a :class:`torch_geometric.data.Data` instance.\n",
    "    #data = from_networkx(G, group_node_attrs=['x'], group_edge_attrs=['edge_attr'])\n",
    "    return G"
   ]
  },
  {
   "cell_type": "code",
   "execution_count": 11,
   "id": "be766b41",
   "metadata": {},
   "outputs": [],
   "source": [
    "graph=generate_graph_from_mol(molecules[0])"
   ]
  },
  {
   "cell_type": "code",
   "execution_count": 12,
   "id": "a90e189f",
   "metadata": {},
   "outputs": [
    {
     "data": {
      "text/plain": [
       "<networkx.classes.graph.Graph at 0x1552eae28e50>"
      ]
     },
     "execution_count": 12,
     "metadata": {},
     "output_type": "execute_result"
    }
   ],
   "source": [
    "graph"
   ]
  },
  {
   "cell_type": "code",
   "execution_count": 13,
   "id": "14a226c0",
   "metadata": {},
   "outputs": [
    {
     "data": {
      "image/png": "[encoded data removed]",
      "text/plain": [
       "<Figure size 640x480 with 1 Axes>"
      ]
     },
     "metadata": {},
     "output_type": "display_data"
    }
   ],
   "source": [
    "nx.draw(graph)"
   ]
  },
  {
   "cell_type": "code",
   "execution_count": null,
   "id": "0754292d",
   "metadata": {},
   "outputs": [],
   "source": []
  },
  {
   "cell_type": "markdown",
   "id": "db6e93bf",
   "metadata": {},
   "source": [
    "# Leash Tutorial Molecule Graph and GNN"
   ]
  },
  {
   "cell_type": "code",
   "execution_count": 2,
   "id": "ab865045",
   "metadata": {
    "scrolled": true
   },
   "outputs": [
    {
     "data": {
      "text/html": [
       "<div>\n",
       "<style scoped>\n",
       "    .dataframe tbody tr th:only-of-type {\n",
       "        vertical-align: middle;\n",
       "    }\n",
       "\n",
       "    .dataframe tbody tr th {\n",
       "        vertical-align: top;\n",
       "    }\n",
       "\n",
       "    .dataframe thead th {\n",
       "        text-align: right;\n",
       "    }\n",
       "</style>\n",
       "<table border=\"1\" class=\"dataframe\">\n",
       "  <thead>\n",
       "    <tr style=\"text-align: right;\">\n",
       "      <th></th>\n",
       "      <th>id</th>\n",
       "      <th>buildingblock1_smiles</th>\n",
       "      <th>buildingblock2_smiles</th>\n",
       "      <th>buildingblock3_smiles</th>\n",
       "      <th>molecule_smiles</th>\n",
       "      <th>protein_name</th>\n",
       "      <th>binds</th>\n",
       "      <th>molecule</th>\n",
       "      <th>ecfp</th>\n",
       "    </tr>\n",
       "  </thead>\n",
       "  <tbody>\n",
       "    <tr>\n",
       "      <th>0</th>\n",
       "      <td>28664519</td>\n",
       "      <td>COc1c(F)ccc(C(=O)O)c1NC(=O)OCC1c2ccccc2-c2ccccc21</td>\n",
       "      <td>Cc1cc(C#N)c(N)s1</td>\n",
       "      <td>Cc1nc(Cl)c(N)c(Cl)n1</td>\n",
       "      <td>COc1c(F)ccc(C(=O)N[Dy])c1Nc1nc(Nc2sc(C)cc2C#N)...</td>\n",
       "      <td>sEH</td>\n",
       "      <td>0</td>\n",
       "      <td>&lt;rdkit.Chem.rdchem.Mol object at 0x155388e7e180&gt;</td>\n",
       "      <td>[0, 0, 0, 0, 0, 0, 0, 0, 0, 0, 0, 0, 0, 0, 0, ...</td>\n",
       "    </tr>\n",
       "    <tr>\n",
       "      <th>1</th>\n",
       "      <td>20207308</td>\n",
       "      <td>CCC(C)C(NC(=O)OCC1c2ccccc2-c2ccccc21)C(=O)O</td>\n",
       "      <td>Cl.NCCCNC(=O)C1CCC1</td>\n",
       "      <td>Cc1nnc(N)o1</td>\n",
       "      <td>CCC(C)C(Nc1nc(NCCCNC(=O)C2CCC2)nc(Nc2nnc(C)o2)...</td>\n",
       "      <td>HSA</td>\n",
       "      <td>0</td>\n",
       "      <td>&lt;rdkit.Chem.rdchem.Mol object at 0x15540143b450&gt;</td>\n",
       "      <td>[0, 1, 0, 0, 1, 0, 0, 0, 0, 0, 0, 0, 0, 0, 0, ...</td>\n",
       "    </tr>\n",
       "    <tr>\n",
       "      <th>2</th>\n",
       "      <td>207765966</td>\n",
       "      <td>O=C(Nc1cccc(-c2cccc(C(=O)O)c2)c1O)OCC1c2ccccc2...</td>\n",
       "      <td>NCCC1CSC1</td>\n",
       "      <td>CC(C)CC(C)(CN)NC(=O)c1cc(Cl)c(Cl)[nH]1.Cl</td>\n",
       "      <td>CC(C)CC(C)(CNc1nc(NCCC2CSC2)nc(Nc2cccc(-c3cccc...</td>\n",
       "      <td>BRD4</td>\n",
       "      <td>0</td>\n",
       "      <td>&lt;rdkit.Chem.rdchem.Mol object at 0x15540143b760&gt;</td>\n",
       "      <td>[0, 1, 0, 0, 0, 0, 0, 0, 0, 0, 0, 0, 0, 1, 0, ...</td>\n",
       "    </tr>\n",
       "    <tr>\n",
       "      <th>3</th>\n",
       "      <td>30702711</td>\n",
       "      <td>COc1cc(C(=O)O)c(NC(=O)OCC2c3ccccc3-c3ccccc32)cn1</td>\n",
       "      <td>COC(=O)c1nccnc1N</td>\n",
       "      <td>Cc1cc(C)c(CN)c(=O)[nH]1.Cl</td>\n",
       "      <td>COC(=O)c1nccnc1Nc1nc(NCc2c(C)cc(C)[nH]c2=O)nc(...</td>\n",
       "      <td>BRD4</td>\n",
       "      <td>0</td>\n",
       "      <td>&lt;rdkit.Chem.rdchem.Mol object at 0x15540143b7d0&gt;</td>\n",
       "      <td>[0, 0, 0, 0, 0, 0, 0, 0, 0, 0, 0, 0, 0, 0, 0, ...</td>\n",
       "    </tr>\n",
       "    <tr>\n",
       "      <th>4</th>\n",
       "      <td>24419057</td>\n",
       "      <td>CCc1cccc(NC(=O)OCC2c3ccccc3-c3ccccc32)c1C(=O)O</td>\n",
       "      <td>Cc1sc(CCN)nc1-c1ccccc1.Cl.Cl</td>\n",
       "      <td>Cc1cccc(N)c1Cl</td>\n",
       "      <td>CCc1cccc(Nc2nc(NCCc3nc(-c4ccccc4)c(C)s3)nc(Nc3...</td>\n",
       "      <td>sEH</td>\n",
       "      <td>0</td>\n",
       "      <td>&lt;rdkit.Chem.rdchem.Mol object at 0x15540143b840&gt;</td>\n",
       "      <td>[0, 0, 0, 0, 0, 0, 0, 0, 0, 0, 0, 0, 0, 0, 0, ...</td>\n",
       "    </tr>\n",
       "    <tr>\n",
       "      <th>...</th>\n",
       "      <td>...</td>\n",
       "      <td>...</td>\n",
       "      <td>...</td>\n",
       "      <td>...</td>\n",
       "      <td>...</td>\n",
       "      <td>...</td>\n",
       "      <td>...</td>\n",
       "      <td>...</td>\n",
       "      <td>...</td>\n",
       "    </tr>\n",
       "    <tr>\n",
       "      <th>1999995</th>\n",
       "      <td>83153156</td>\n",
       "      <td>O=C(NC[C@H]1CC[C@H](C(=O)O)CC1)OCC1c2ccccc2-c2...</td>\n",
       "      <td>Cc1cc(F)ncc1CN</td>\n",
       "      <td>Nc1nc2ccc(Cl)cc2o1</td>\n",
       "      <td>Cc1cc(F)ncc1CNc1nc(NC[C@H]2CC[C@H](C(=O)N[Dy])...</td>\n",
       "      <td>sEH</td>\n",
       "      <td>1</td>\n",
       "      <td>&lt;rdkit.Chem.rdchem.Mol object at 0x1553e6bdb990&gt;</td>\n",
       "      <td>[0, 0, 0, 0, 0, 0, 0, 0, 0, 0, 0, 0, 0, 0, 0, ...</td>\n",
       "    </tr>\n",
       "    <tr>\n",
       "      <th>1999996</th>\n",
       "      <td>253752661</td>\n",
       "      <td>O=C(O)C[C@@H](Cc1ccccc1Cl)NC(=O)OCC1c2ccccc2-c...</td>\n",
       "      <td>Nc1cccc2ncccc12</td>\n",
       "      <td>Nc1nnn[nH]1</td>\n",
       "      <td>O=C(C[C@@H](Cc1ccccc1Cl)Nc1nc(Nc2nnn[nH]2)nc(N...</td>\n",
       "      <td>HSA</td>\n",
       "      <td>1</td>\n",
       "      <td>&lt;rdkit.Chem.rdchem.Mol object at 0x1553e6bdba00&gt;</td>\n",
       "      <td>[0, 1, 0, 0, 0, 0, 0, 0, 0, 0, 0, 0, 0, 0, 0, ...</td>\n",
       "    </tr>\n",
       "    <tr>\n",
       "      <th>1999997</th>\n",
       "      <td>22466862</td>\n",
       "      <td>CCOc1cc(NC(=O)OCC2c3ccccc3-c3ccccc32)c(Cl)cc1C...</td>\n",
       "      <td>Cl.Nc1ccc(O)cc1Cl</td>\n",
       "      <td>NCCS(=O)Cc1ccccc1</td>\n",
       "      <td>CCOc1cc(Nc2nc(NCCS(=O)Cc3ccccc3)nc(Nc3ccc(O)cc...</td>\n",
       "      <td>BRD4</td>\n",
       "      <td>1</td>\n",
       "      <td>&lt;rdkit.Chem.rdchem.Mol object at 0x1553e6bdba70&gt;</td>\n",
       "      <td>[0, 0, 0, 0, 0, 0, 0, 0, 0, 0, 0, 0, 0, 0, 0, ...</td>\n",
       "    </tr>\n",
       "    <tr>\n",
       "      <th>1999998</th>\n",
       "      <td>41545785</td>\n",
       "      <td>CS(=O)(=O)c1ccc(C(=O)O)c(NC(=O)OCC2c3ccccc3-c3...</td>\n",
       "      <td>CN1CC(CCN)CC1=O</td>\n",
       "      <td>NCc1ccon1</td>\n",
       "      <td>CN1CC(CCNc2nc(NCc3ccon3)nc(Nc3cc(S(C)(=O)=O)cc...</td>\n",
       "      <td>BRD4</td>\n",
       "      <td>1</td>\n",
       "      <td>&lt;rdkit.Chem.rdchem.Mol object at 0x1553e6bdbae0&gt;</td>\n",
       "      <td>[0, 0, 0, 0, 0, 0, 0, 0, 0, 0, 0, 1, 0, 0, 0, ...</td>\n",
       "    </tr>\n",
       "    <tr>\n",
       "      <th>1999999</th>\n",
       "      <td>202360202</td>\n",
       "      <td>O=C(Nc1ccc(F)cc1C(=O)O)OCC1c2ccccc2-c2ccccc21</td>\n",
       "      <td>NCc1cc(F)cc(F)c1</td>\n",
       "      <td>Cc1cc2cc(CN)ccc2[nH]1</td>\n",
       "      <td>Cc1cc2cc(CNc3nc(NCc4cc(F)cc(F)c4)nc(Nc4ccc(F)c...</td>\n",
       "      <td>sEH</td>\n",
       "      <td>1</td>\n",
       "      <td>&lt;rdkit.Chem.rdchem.Mol object at 0x1553e6bdbb50&gt;</td>\n",
       "      <td>[0, 0, 0, 0, 0, 0, 0, 0, 0, 0, 0, 0, 0, 0, 0, ...</td>\n",
       "    </tr>\n",
       "  </tbody>\n",
       "</table>\n",
       "<p>2000000 rows × 9 columns</p>\n",
       "</div>"
      ],
      "text/plain": [
       "                id                              buildingblock1_smiles  \\\n",
       "0         28664519  COc1c(F)ccc(C(=O)O)c1NC(=O)OCC1c2ccccc2-c2ccccc21   \n",
       "1         20207308        CCC(C)C(NC(=O)OCC1c2ccccc2-c2ccccc21)C(=O)O   \n",
       "2        207765966  O=C(Nc1cccc(-c2cccc(C(=O)O)c2)c1O)OCC1c2ccccc2...   \n",
       "3         30702711   COc1cc(C(=O)O)c(NC(=O)OCC2c3ccccc3-c3ccccc32)cn1   \n",
       "4         24419057     CCc1cccc(NC(=O)OCC2c3ccccc3-c3ccccc32)c1C(=O)O   \n",
       "...            ...                                                ...   \n",
       "1999995   83153156  O=C(NC[C@H]1CC[C@H](C(=O)O)CC1)OCC1c2ccccc2-c2...   \n",
       "1999996  253752661  O=C(O)C[C@@H](Cc1ccccc1Cl)NC(=O)OCC1c2ccccc2-c...   \n",
       "1999997   22466862  CCOc1cc(NC(=O)OCC2c3ccccc3-c3ccccc32)c(Cl)cc1C...   \n",
       "1999998   41545785  CS(=O)(=O)c1ccc(C(=O)O)c(NC(=O)OCC2c3ccccc3-c3...   \n",
       "1999999  202360202      O=C(Nc1ccc(F)cc1C(=O)O)OCC1c2ccccc2-c2ccccc21   \n",
       "\n",
       "                buildingblock2_smiles  \\\n",
       "0                    Cc1cc(C#N)c(N)s1   \n",
       "1                 Cl.NCCCNC(=O)C1CCC1   \n",
       "2                           NCCC1CSC1   \n",
       "3                    COC(=O)c1nccnc1N   \n",
       "4        Cc1sc(CCN)nc1-c1ccccc1.Cl.Cl   \n",
       "...                               ...   \n",
       "1999995                Cc1cc(F)ncc1CN   \n",
       "1999996               Nc1cccc2ncccc12   \n",
       "1999997             Cl.Nc1ccc(O)cc1Cl   \n",
       "1999998               CN1CC(CCN)CC1=O   \n",
       "1999999              NCc1cc(F)cc(F)c1   \n",
       "\n",
       "                             buildingblock3_smiles  \\\n",
       "0                             Cc1nc(Cl)c(N)c(Cl)n1   \n",
       "1                                      Cc1nnc(N)o1   \n",
       "2        CC(C)CC(C)(CN)NC(=O)c1cc(Cl)c(Cl)[nH]1.Cl   \n",
       "3                       Cc1cc(C)c(CN)c(=O)[nH]1.Cl   \n",
       "4                                   Cc1cccc(N)c1Cl   \n",
       "...                                            ...   \n",
       "1999995                         Nc1nc2ccc(Cl)cc2o1   \n",
       "1999996                                Nc1nnn[nH]1   \n",
       "1999997                          NCCS(=O)Cc1ccccc1   \n",
       "1999998                                  NCc1ccon1   \n",
       "1999999                      Cc1cc2cc(CN)ccc2[nH]1   \n",
       "\n",
       "                                           molecule_smiles protein_name  \\\n",
       "0        COc1c(F)ccc(C(=O)N[Dy])c1Nc1nc(Nc2sc(C)cc2C#N)...          sEH   \n",
       "1        CCC(C)C(Nc1nc(NCCCNC(=O)C2CCC2)nc(Nc2nnc(C)o2)...          HSA   \n",
       "2        CC(C)CC(C)(CNc1nc(NCCC2CSC2)nc(Nc2cccc(-c3cccc...         BRD4   \n",
       "3        COC(=O)c1nccnc1Nc1nc(NCc2c(C)cc(C)[nH]c2=O)nc(...         BRD4   \n",
       "4        CCc1cccc(Nc2nc(NCCc3nc(-c4ccccc4)c(C)s3)nc(Nc3...          sEH   \n",
       "...                                                    ...          ...   \n",
       "1999995  Cc1cc(F)ncc1CNc1nc(NC[C@H]2CC[C@H](C(=O)N[Dy])...          sEH   \n",
       "1999996  O=C(C[C@@H](Cc1ccccc1Cl)Nc1nc(Nc2nnn[nH]2)nc(N...          HSA   \n",
       "1999997  CCOc1cc(Nc2nc(NCCS(=O)Cc3ccccc3)nc(Nc3ccc(O)cc...         BRD4   \n",
       "1999998  CN1CC(CCNc2nc(NCc3ccon3)nc(Nc3cc(S(C)(=O)=O)cc...         BRD4   \n",
       "1999999  Cc1cc2cc(CNc3nc(NCc4cc(F)cc(F)c4)nc(Nc4ccc(F)c...          sEH   \n",
       "\n",
       "         binds                                          molecule  \\\n",
       "0            0  <rdkit.Chem.rdchem.Mol object at 0x155388e7e180>   \n",
       "1            0  <rdkit.Chem.rdchem.Mol object at 0x15540143b450>   \n",
       "2            0  <rdkit.Chem.rdchem.Mol object at 0x15540143b760>   \n",
       "3            0  <rdkit.Chem.rdchem.Mol object at 0x15540143b7d0>   \n",
       "4            0  <rdkit.Chem.rdchem.Mol object at 0x15540143b840>   \n",
       "...        ...                                               ...   \n",
       "1999995      1  <rdkit.Chem.rdchem.Mol object at 0x1553e6bdb990>   \n",
       "1999996      1  <rdkit.Chem.rdchem.Mol object at 0x1553e6bdba00>   \n",
       "1999997      1  <rdkit.Chem.rdchem.Mol object at 0x1553e6bdba70>   \n",
       "1999998      1  <rdkit.Chem.rdchem.Mol object at 0x1553e6bdbae0>   \n",
       "1999999      1  <rdkit.Chem.rdchem.Mol object at 0x1553e6bdbb50>   \n",
       "\n",
       "                                                      ecfp  \n",
       "0        [0, 0, 0, 0, 0, 0, 0, 0, 0, 0, 0, 0, 0, 0, 0, ...  \n",
       "1        [0, 1, 0, 0, 1, 0, 0, 0, 0, 0, 0, 0, 0, 0, 0, ...  \n",
       "2        [0, 1, 0, 0, 0, 0, 0, 0, 0, 0, 0, 0, 0, 1, 0, ...  \n",
       "3        [0, 0, 0, 0, 0, 0, 0, 0, 0, 0, 0, 0, 0, 0, 0, ...  \n",
       "4        [0, 0, 0, 0, 0, 0, 0, 0, 0, 0, 0, 0, 0, 0, 0, ...  \n",
       "...                                                    ...  \n",
       "1999995  [0, 0, 0, 0, 0, 0, 0, 0, 0, 0, 0, 0, 0, 0, 0, ...  \n",
       "1999996  [0, 1, 0, 0, 0, 0, 0, 0, 0, 0, 0, 0, 0, 0, 0, ...  \n",
       "1999997  [0, 0, 0, 0, 0, 0, 0, 0, 0, 0, 0, 0, 0, 0, 0, ...  \n",
       "1999998  [0, 0, 0, 0, 0, 0, 0, 0, 0, 0, 0, 1, 0, 0, 0, ...  \n",
       "1999999  [0, 0, 0, 0, 0, 0, 0, 0, 0, 0, 0, 0, 0, 0, 0, ...  \n",
       "\n",
       "[2000000 rows x 9 columns]"
      ]
     },
     "execution_count": 2,
     "metadata": {},
     "output_type": "execute_result"
    }
   ],
   "source": [
    "df = pd.read_csv('/mnt/isilon/wang_lab/shared/Belka/analysis/train_1M_even_dataset.csv')\n",
    "#df"
   ]
  },
  {
   "cell_type": "code",
   "execution_count": 2,
   "id": "be3d51fb",
   "metadata": {},
   "outputs": [],
   "source": [
    "from rdkit import Chem\n",
    "from rdkit.Chem.rdmolops import GetAdjacencyMatrix\n",
    "import torch\n",
    "from torch_geometric.data import Data\n",
    "from torch_geometric.loader import DataLoader"
   ]
  },
  {
   "cell_type": "code",
   "execution_count": 8,
   "id": "5ed84577",
   "metadata": {},
   "outputs": [
    {
     "name": "stdout",
     "output_type": "stream",
     "text": [
      "CPU times: user 7.42 ms, sys: 3.72 ms, total: 11.1 ms\n",
      "Wall time: 11.8 ms\n"
     ]
    },
    {
     "data": {
      "text/plain": [
       "\"datasets = {}\\nfor protein in proteins:\\n    datasets[protein] = get_balanced_data_for_protein(train_path, protein, samples_per_category)\\n\\n# At this point, `datasets` contains separate dataframes for sEH, BRD4, and HSA\\nseh_df = datasets['sEH']\\nbrd4_df = datasets['BRD4']\\nhsa_df = datasets['HSA']\\n\""
      ]
     },
     "execution_count": 8,
     "metadata": {},
     "output_type": "execute_result"
    }
   ],
   "source": [
    "%%time\n",
    "import duckdb\n",
    "import pandas as pd\n",
    "\n",
    "train_path = '/mnt/isilon/wang_lab/pengwang/projects/Belka/train.parquet'\n",
    "test_path = '/mnt/isilon/wang_lab/pengwang/projects/Belka/test.parquet'\n",
    "\n",
    "con = duckdb.connect()\n",
    "\n",
    "# Define the number of samples you want per category (binders and non-binders) per protein\n",
    "samples_per_category = 1000\n",
    "\n",
    "def get_balanced_data_for_protein(file_path, protein, samples):\n",
    "    \"\"\"\n",
    "    Fetches a balanced dataset for a specific protein.\n",
    "    \n",
    "    Parameters:\n",
    "    - file_path: Path to the dataset file.\n",
    "    - protein: The name of the protein.\n",
    "    - samples: Number of samples per binder category (1 or 0).\n",
    "    \n",
    "    Returns:\n",
    "    - A pandas DataFrame containing the balanced dataset for the protein.\n",
    "    \"\"\"\n",
    "    query = f\"\"\"\n",
    "    (SELECT * FROM parquet_scan('{file_path}')\n",
    "     WHERE binds = 0 AND protein_name = '{protein}'\n",
    "     ORDER BY random()\n",
    "     LIMIT {samples})\n",
    "    UNION ALL\n",
    "    (SELECT * FROM parquet_scan('{file_path}')\n",
    "     WHERE binds = 1 AND protein_name = '{protein}'\n",
    "     ORDER BY random()\n",
    "     LIMIT {samples})\n",
    "    \"\"\"\n",
    "    return con.query(query).df()\n",
    "\n",
    "\n",
    "proteins = ['sEH', 'BRD4', 'HSA']\n",
    "\n",
    "'''datasets = {}\n",
    "for protein in proteins:\n",
    "    datasets[protein] = get_balanced_data_for_protein(train_path, protein, samples_per_category)\n",
    "\n",
    "# At this point, `datasets` contains separate dataframes for sEH, BRD4, and HSA\n",
    "seh_df = datasets['sEH']\n",
    "brd4_df = datasets['BRD4']\n",
    "hsa_df = datasets['HSA']\n",
    "'''"
   ]
  },
  {
   "cell_type": "code",
   "execution_count": 11,
   "id": "78f337ef",
   "metadata": {},
   "outputs": [],
   "source": [
    "def get_data_for_protein(file_path, protein):\n",
    "    \"\"\"\n",
    "    Fetches the dataset for a specific protein from the test dataset.\n",
    "    \n",
    "    Parameters:\n",
    "    - file_path: Path to the dataset file.\n",
    "    - protein: The name of the protein.\n",
    "    \n",
    "    Returns:\n",
    "    - A pandas DataFrame containing the dataset for the protein.\n",
    "    \"\"\"\n",
    "    query = f\"\"\"\n",
    "    SELECT * FROM parquet_scan('{file_path}')\n",
    "    WHERE protein_name = '{protein}'\n",
    "    \"\"\"\n",
    "    return con.query(query).df()\n",
    "\n",
    "con = duckdb.connect()\n",
    "# Creating a dictionary to store the filtered test datasets\n",
    "test_datasets = {}\n",
    "for protein in proteins:  # Using the same list of proteins: ['sEH', 'BRD4', 'HSA']\n",
    "    test_datasets[protein] = get_data_for_protein(test_path, protein)\n",
    "\n",
    "# At this point, `test_datasets` contains separate dataframes for sEH, BRD4, and HSA without balancing\n",
    "# For example, to access the test dataset for sEH:\n",
    "seh_test_df = test_datasets['sEH']\n",
    "\n",
    "# And similarly for BRD4 and HSA\n",
    "brd4_test_df = test_datasets['BRD4']\n",
    "hsa_test_df = test_datasets['HSA']\n",
    "con.close()"
   ]
  },
  {
   "cell_type": "code",
   "execution_count": 15,
   "id": "6b5b8325",
   "metadata": {},
   "outputs": [],
   "source": [
    "df=df[['id','molecule_smiles','protein_name','binds','molecule']]"
   ]
  },
  {
   "cell_type": "code",
   "execution_count": 17,
   "id": "d505a2a3",
   "metadata": {},
   "outputs": [],
   "source": [
    "seh_df=df[df['protein_name']=='sEH']\n",
    "brd4_df = df[df['protein_name']=='BRD4']\n",
    "hsa_df = df[df['protein_name']=='HSA']"
   ]
  },
  {
   "cell_type": "code",
   "execution_count": 18,
   "id": "75d94499",
   "metadata": {},
   "outputs": [],
   "source": [
    "# Atom Featurisation\n",
    "## Auxiliary function for one-hot enconding transformation based on list of\n",
    "##permitted values\n",
    "\n",
    "def one_hot_encoding(x, permitted_list):\n",
    "    \"\"\"\n",
    "    Maps input elements x which are not in the permitted list to the last element\n",
    "    of the permitted list.\n",
    "    \"\"\"\n",
    "    if x not in permitted_list:\n",
    "        x = permitted_list[-1]\n",
    "    binary_encoding = [int(boolean_value) for boolean_value in list(map(lambda s: x == s, permitted_list))]\n",
    "    return binary_encoding\n",
    "\n",
    "#Main atom feat. func\n",
    "\n",
    "def get_atom_features(atom, use_chirality=True):\n",
    "    # Define a simplified list of atom types\n",
    "    permitted_atom_types = ['C', 'N', 'O', 'S', 'P', 'F', 'Cl', 'Br', 'I','Dy', 'Unknown']\n",
    "    atom_type = atom.GetSymbol() if atom.GetSymbol() in permitted_atom_types else 'Unknown'\n",
    "    atom_type_enc = one_hot_encoding(atom_type, permitted_atom_types)\n",
    "    \n",
    "    # Consider only the most impactful features: atom degree and whether the atom is in a ring\n",
    "    atom_degree = one_hot_encoding(atom.GetDegree(), [0, 1, 2, 3, 4, 'MoreThanFour'])\n",
    "    is_in_ring = [int(atom.IsInRing())]\n",
    "    \n",
    "    # Optionally include chirality\n",
    "    if use_chirality:\n",
    "        chirality_enc = one_hot_encoding(str(atom.GetChiralTag()), [\"CHI_UNSPECIFIED\", \"CHI_TETRAHEDRAL_CW\", \"CHI_TETRAHEDRAL_CCW\", \"CHI_OTHER\"])\n",
    "        atom_features = atom_type_enc + atom_degree + is_in_ring + chirality_enc\n",
    "    else:\n",
    "        atom_features = atom_type_enc + atom_degree + is_in_ring\n",
    "    \n",
    "    return np.array(atom_features, dtype=np.float32)"
   ]
  },
  {
   "cell_type": "code",
   "execution_count": 19,
   "id": "e76800d1",
   "metadata": {},
   "outputs": [],
   "source": [
    "# Bond featurization\n",
    "\n",
    "def get_bond_features(bond):\n",
    "    # Simplified list of bond types\n",
    "    permitted_bond_types = [Chem.rdchem.BondType.SINGLE, Chem.rdchem.BondType.DOUBLE, Chem.rdchem.BondType.TRIPLE, Chem.rdchem.BondType.AROMATIC, 'Unknown']\n",
    "    bond_type = bond.GetBondType() if bond.GetBondType() in permitted_bond_types else 'Unknown'\n",
    "    \n",
    "    # Features: Bond type, Is in a ring\n",
    "    features = one_hot_encoding(bond_type, permitted_bond_types) \\\n",
    "               + [int(bond.IsInRing())]\n",
    "    \n",
    "    return np.array(features, dtype=np.float32)"
   ]
  },
  {
   "cell_type": "code",
   "execution_count": 20,
   "id": "bc0f9827",
   "metadata": {},
   "outputs": [],
   "source": [
    "def create_pytorch_geometric_graph_data_list_from_smiles_and_labels(x_smiles, ids, y=None):\n",
    "    data_list = []\n",
    "    \n",
    "    for index, smiles in enumerate(x_smiles):\n",
    "        mol = Chem.MolFromSmiles(smiles)\n",
    "        \n",
    "        if not mol:  # Skip invalid SMILES strings\n",
    "            continue\n",
    "        \n",
    "        # Node features\n",
    "        atom_features = [get_atom_features(atom) for atom in mol.GetAtoms()]\n",
    "        x = torch.tensor(atom_features, dtype=torch.float)\n",
    "        \n",
    "        # Edge features\n",
    "        edge_index = []\n",
    "        edge_features = []\n",
    "        for bond in mol.GetBonds():\n",
    "            start, end = bond.GetBeginAtomIdx(), bond.GetEndAtomIdx()\n",
    "            edge_index += [(start, end), (end, start)]  # Undirected graph\n",
    "            bond_feature = get_bond_features(bond)\n",
    "            edge_features += [bond_feature, bond_feature]  # Same features in both directions\n",
    "        \n",
    "        edge_index = torch.tensor(edge_index, dtype=torch.long).t().contiguous()\n",
    "        edge_attr = torch.tensor(edge_features, dtype=torch.float)\n",
    "        \n",
    "        # Creating the Data object\n",
    "        data = Data(x=x, edge_index=edge_index, edge_attr=edge_attr)\n",
    "        data.molecule_id = ids[index]\n",
    "        if y is not None:\n",
    "            data.y = torch.tensor([y[index]], dtype=torch.float)\n",
    "        \n",
    "        data_list.append(data)\n",
    "    \n",
    "    return data_list\n"
   ]
  },
  {
   "cell_type": "code",
   "execution_count": 21,
   "id": "c44b7378",
   "metadata": {},
   "outputs": [],
   "source": [
    "from tqdm import tqdm\n",
    "def featurize_data_in_batches(smiles_list, labels_list, batch_size):\n",
    "    data_list = []\n",
    "    # Define tqdm progress bar\n",
    "    pbar = tqdm(total=len(smiles_list), desc=\"Featurizing data\")\n",
    "    for i in range(0, len(smiles_list), batch_size):\n",
    "        smiles_batch = smiles_list[i:i+batch_size]\n",
    "        labels_batch = labels_list[i:i+batch_size]\n",
    "        ids_batch = ids_list[i:i+batch_size]\n",
    "        batch_data_list = create_pytorch_geometric_graph_data_list_from_smiles_and_labels(smiles_batch, ids_batch, labels_batch)\n",
    "        data_list.extend(batch_data_list)\n",
    "        pbar.update(len(smiles_batch))\n",
    "        \n",
    "    pbar.close()\n",
    "    return data_list"
   ]
  },
  {
   "cell_type": "code",
   "execution_count": 21,
   "id": "7c8cf62d",
   "metadata": {},
   "outputs": [
    {
     "data": {
      "text/plain": [
       "'Cc1cnc(O)c(Nc2nc(NCc3nc(C)c(C)s3)nc(Nc3c(I)cccc3C(=O)N[Dy])n2)c1'"
      ]
     },
     "execution_count": 21,
     "metadata": {},
     "output_type": "execute_result"
    }
   ],
   "source": [
    "smile=seh_df['molecule_smiles'][0]\n",
    "smile"
   ]
  },
  {
   "cell_type": "code",
   "execution_count": 22,
   "id": "d5119c97",
   "metadata": {},
   "outputs": [
    {
     "data": {
      "image/png": "[encoded data removed]",
      "text/plain": [
       "<rdkit.Chem.rdchem.Mol at 0x1552e62913f0>"
      ]
     },
     "execution_count": 22,
     "metadata": {},
     "output_type": "execute_result"
    }
   ],
   "source": [
    "mol=Chem.MolFromSmiles(smile)\n",
    "mol"
   ]
  },
  {
   "cell_type": "markdown",
   "id": "86f74aea",
   "metadata": {},
   "source": [
    "### atom feacturization example"
   ]
  },
  {
   "cell_type": "code",
   "execution_count": 23,
   "id": "559ed5df",
   "metadata": {},
   "outputs": [
    {
     "name": "stdout",
     "output_type": "stream",
     "text": [
      "Num of total atoms in molecule: 36\n",
      "**********Atom 0 in molecule**********\n",
      "index: 0 \tdegree: 1 \tsymbol: C \tring: False\n",
      "**********Atom 1 in molecule**********\n",
      "index: 1 \tdegree: 3 \tsymbol: C \tring: True\n",
      "**********Atom 2 in molecule**********\n",
      "index: 2 \tdegree: 2 \tsymbol: C \tring: True\n",
      "**********Atom 6 in molecule**********\n",
      "index: 6 \tdegree: 3 \tsymbol: C \tring: True\n"
     ]
    }
   ],
   "source": [
    "print('Num of total atoms in molecule:',len(mol.GetAtoms()))\n",
    "for i in range(len(mol.GetAtoms())):\n",
    "    if i <=2 or i==6:\n",
    "        print('*'*10+f'Atom {i} in molecule'+'*'*10)\n",
    "        atom = mol.GetAtoms()[i]\n",
    "        ##The degree of an atom is defined to be \n",
    "        ##its number of directly-bonded neighbors.\n",
    "        print('index:',atom.GetIdx(), #->one hot encode\n",
    "        '\\tdegree:',atom.GetDegree(), #->one hot encode\n",
    "        '\\tsymbol:',atom.GetSymbol(), #->one hot encode\n",
    "        '\\tring:',atom.IsInRing() #->one hot encode\n",
    "             )"
   ]
  },
  {
   "cell_type": "code",
   "execution_count": 24,
   "id": "d3c3e0a3",
   "metadata": {},
   "outputs": [
    {
     "name": "stdout",
     "output_type": "stream",
     "text": [
      "(36, 22)\n"
     ]
    },
    {
     "data": {
      "text/plain": [
       "[array([1., 0., 0., 0., 0., 0., 0., 0., 0., 0., 0., 0., 1., 0., 0., 0., 0.,\n",
       "        0., 1., 0., 0., 0.], dtype=float32),\n",
       " array([1., 0., 0., 0., 0., 0., 0., 0., 0., 0., 0., 0., 0., 0., 1., 0., 0.,\n",
       "        1., 1., 0., 0., 0.], dtype=float32),\n",
       " array([1., 0., 0., 0., 0., 0., 0., 0., 0., 0., 0., 0., 0., 1., 0., 0., 0.,\n",
       "        1., 1., 0., 0., 0.], dtype=float32)]"
      ]
     },
     "execution_count": 24,
     "metadata": {},
     "output_type": "execute_result"
    }
   ],
   "source": [
    "atom_features = [get_atom_features(atom) for atom in mol.GetAtoms()]\n",
    "print(np.shape(atom_features))\n",
    "atom_features[:3]"
   ]
  },
  {
   "cell_type": "markdown",
   "id": "b0f6ce12",
   "metadata": {},
   "source": [
    "### bond featurization example"
   ]
  },
  {
   "cell_type": "code",
   "execution_count": 25,
   "id": "31aef70b",
   "metadata": {},
   "outputs": [
    {
     "name": "stdout",
     "output_type": "stream",
     "text": [
      "Num of total bonds in molecule: 39\n",
      "**********Bond 0 in molecule**********\n",
      "index: 0 \tbond type: SINGLE \tring: False \tindex begin: 0 \tindex end: 1\n",
      "**********Bond 1 in molecule**********\n",
      "index: 1 \tbond type: AROMATIC \tring: True \tindex begin: 1 \tindex end: 2\n",
      "**********Bond 2 in molecule**********\n",
      "index: 2 \tbond type: AROMATIC \tring: True \tindex begin: 2 \tindex end: 3\n",
      "**********Bond 6 in molecule**********\n",
      "index: 6 \tbond type: SINGLE \tring: False \tindex begin: 6 \tindex end: 7\n"
     ]
    }
   ],
   "source": [
    "print('Num of total bonds in molecule:',len(mol.GetBonds()))\n",
    "for i in range(len(mol.GetBonds())):\n",
    "    if i <=2 or i==6:\n",
    "        print('*'*10+f'Bond {i} in molecule'+'*'*10)\n",
    "        bond = mol.GetBonds()[i]\n",
    "        start, end = bond.GetBeginAtomIdx(), bond.GetEndAtomIdx()\n",
    "        ##The degree of an atom is defined to be \n",
    "        ##its number of directly-bonded neighbors.\n",
    "        print('index:',bond.GetIdx(), \n",
    "        '\\tbond type:',bond.GetBondType(), #->one hot encode\n",
    "        '\\tring:',bond.IsInRing(), #->one hot encode\n",
    "        '\\tindex begin:',start, #->edge index1 (begin)\n",
    "        '\\tindex end:',end #->edge index2 (end)\n",
    "             )"
   ]
  },
  {
   "cell_type": "code",
   "execution_count": 26,
   "id": "0fa30aec",
   "metadata": {},
   "outputs": [
    {
     "name": "stdout",
     "output_type": "stream",
     "text": [
      "Num of total bonds in molecule: 39\n",
      "**********Bond 0 in molecule**********\n",
      "shape: (6,)\n",
      "bond as feature: [1. 0. 0. 0. 0. 0.]\n",
      "**********Bond 1 in molecule**********\n",
      "shape: (6,)\n",
      "bond as feature: [0. 0. 0. 1. 0. 1.]\n",
      "**********Bond 2 in molecule**********\n",
      "shape: (6,)\n",
      "bond as feature: [0. 0. 0. 1. 0. 1.]\n",
      "**********Bond 6 in molecule**********\n",
      "shape: (6,)\n",
      "bond as feature: [1. 0. 0. 0. 0. 0.]\n"
     ]
    }
   ],
   "source": [
    "print('Num of total bonds in molecule:',len(mol.GetBonds()))\n",
    "for i in range(len(mol.GetBonds())):\n",
    "    if i <=2 or i==6:\n",
    "        print('*'*10+f'Bond {i} in molecule'+'*'*10)\n",
    "        bond = mol.GetBonds()[i]\n",
    "        bond_feature = get_bond_features(bond)\n",
    "        print('shape:',np.shape(bond_feature))\n",
    "        print('bond as feature:',bond_feature)"
   ]
  },
  {
   "cell_type": "markdown",
   "id": "9e0c411d",
   "metadata": {},
   "source": [
    "### edge feature example"
   ]
  },
  {
   "cell_type": "code",
   "execution_count": 27,
   "id": "2c97256e",
   "metadata": {},
   "outputs": [
    {
     "name": "stdout",
     "output_type": "stream",
     "text": [
      "**********Edge 0 in molecule**********\n",
      "index:  [(0, 1), (1, 0)]\n",
      "dim:  (2, 6)\n",
      "feature:  [array([1., 0., 0., 0., 0., 0.], dtype=float32), array([1., 0., 0., 0., 0., 0.], dtype=float32)]\n",
      "**********Edge 1 in molecule**********\n",
      "index:  [(1, 2), (2, 1)]\n",
      "dim:  (2, 6)\n",
      "feature:  [array([0., 0., 0., 1., 0., 1.], dtype=float32), array([0., 0., 0., 1., 0., 1.], dtype=float32)]\n",
      "**********Edge 2 in molecule**********\n",
      "index:  [(2, 3), (3, 2)]\n",
      "dim:  (2, 6)\n",
      "feature:  [array([0., 0., 0., 1., 0., 1.], dtype=float32), array([0., 0., 0., 1., 0., 1.], dtype=float32)]\n",
      "**********Edge 6 in molecule**********\n",
      "index:  [(6, 7), (7, 6)]\n",
      "dim:  (2, 6)\n",
      "feature:  [array([1., 0., 0., 0., 0., 0.], dtype=float32), array([1., 0., 0., 0., 0., 0.], dtype=float32)]\n"
     ]
    }
   ],
   "source": [
    "edge_index = []\n",
    "edge_features = []\n",
    "for i in range(len(mol.GetBonds())):\n",
    "    if i <=2 or i==6:\n",
    "        print('*'*10+f'Edge {i} in molecule'+'*'*10)\n",
    "        bond = mol.GetBonds()[i]\n",
    "        start, end = bond.GetBeginAtomIdx(), bond.GetEndAtomIdx()\n",
    "        edge_index = [(start, end), (end, start)]  # Undirected graph\n",
    "        bond_feature = get_bond_features(bond)\n",
    "        edge_features = [bond_feature, bond_feature]  # Same features in both directions\n",
    "        print('index: ',edge_index)\n",
    "        print('dim: ',np.shape(edge_features))\n",
    "        print('feature: ',edge_features)"
   ]
  },
  {
   "cell_type": "code",
   "execution_count": 28,
   "id": "753bf2bb",
   "metadata": {},
   "outputs": [
    {
     "name": "stderr",
     "output_type": "stream",
     "text": [
      "/tmp/ipykernel_1849467/2739495010.py:10: UserWarning: Creating a tensor from a list of numpy.ndarrays is extremely slow. Please consider converting the list to a single numpy.ndarray with numpy.array() before converting to a tensor. (Triggered internally at ../torch/csrc/utils/tensor_new.cpp:274.)\n",
      "  edge_attr = torch.tensor(edge_features, dtype=torch.float)\n"
     ]
    }
   ],
   "source": [
    "edge_index = []\n",
    "edge_features = []\n",
    "for bond in mol.GetBonds():\n",
    "    start, end = bond.GetBeginAtomIdx(), bond.GetEndAtomIdx()\n",
    "    edge_index += [(start, end), (end, start)]  # Undirected graph\n",
    "    bond_feature = get_bond_features(bond)\n",
    "    edge_features += [bond_feature, bond_feature]  # Same features in both directions\n",
    "    \n",
    "edge_index = torch.tensor(edge_index, dtype=torch.long).t().contiguous()\n",
    "edge_attr = torch.tensor(edge_features, dtype=torch.float)"
   ]
  },
  {
   "cell_type": "code",
   "execution_count": 29,
   "id": "0df00c38",
   "metadata": {},
   "outputs": [
    {
     "name": "stdout",
     "output_type": "stream",
     "text": [
      "torch.Size([2, 78])\n"
     ]
    },
    {
     "data": {
      "text/plain": [
       "tensor([[ 0,  1,  1,  2,  2,  3,  3,  4,  4,  5,  4,  6,  6,  7,  7,  8,  8,  9,\n",
       "          9, 10, 10, 11, 11, 12, 12, 13, 13, 14, 14, 15, 15, 16, 15, 17, 17, 18,\n",
       "         17, 19, 10, 20, 20, 21, 21, 22, 22, 23, 23, 24, 24, 25, 24, 26, 26, 27,\n",
       "         27, 28, 28, 29, 29, 30, 30, 31, 30, 32, 32, 33, 21, 34,  6, 35, 35,  1,\n",
       "         34,  8, 19, 13, 29, 23],\n",
       "        [ 1,  0,  2,  1,  3,  2,  4,  3,  5,  4,  6,  4,  7,  6,  8,  7,  9,  8,\n",
       "         10,  9, 11, 10, 12, 11, 13, 12, 14, 13, 15, 14, 16, 15, 17, 15, 18, 17,\n",
       "         19, 17, 20, 10, 21, 20, 22, 21, 23, 22, 24, 23, 25, 24, 26, 24, 27, 26,\n",
       "         28, 27, 29, 28, 30, 29, 31, 30, 32, 30, 33, 32, 34, 21, 35,  6,  1, 35,\n",
       "          8, 34, 13, 19, 23, 29]])"
      ]
     },
     "execution_count": 29,
     "metadata": {},
     "output_type": "execute_result"
    }
   ],
   "source": [
    "print(np.shape(edge_index))\n",
    "edge_index"
   ]
  },
  {
   "cell_type": "code",
   "execution_count": 30,
   "id": "b2ed35b9",
   "metadata": {},
   "outputs": [
    {
     "name": "stdout",
     "output_type": "stream",
     "text": [
      "torch.Size([78, 6])\n"
     ]
    },
    {
     "data": {
      "text/plain": [
       "tensor([[1., 0., 0., 0., 0., 0.],\n",
       "        [1., 0., 0., 0., 0., 0.],\n",
       "        [0., 0., 0., 1., 0., 1.]])"
      ]
     },
     "execution_count": 30,
     "metadata": {},
     "output_type": "execute_result"
    }
   ],
   "source": [
    "print(np.shape(edge_attr))\n",
    "edge_attr[:3]"
   ]
  },
  {
   "cell_type": "code",
   "execution_count": null,
   "id": "c754e409",
   "metadata": {},
   "outputs": [],
   "source": []
  },
  {
   "cell_type": "code",
   "execution_count": 23,
   "id": "08b1ee1b",
   "metadata": {},
   "outputs": [
    {
     "name": "stdout",
     "output_type": "stream",
     "text": [
      "Processing sEH...\n"
     ]
    },
    {
     "name": "stderr",
     "output_type": "stream",
     "text": [
      "Featurizing data: 100%|██████████| 788710/788710 [24:14<00:00, 542.18it/s]  \n"
     ]
    },
    {
     "name": "stdout",
     "output_type": "stream",
     "text": [
      "Processing BRD4...\n"
     ]
    },
    {
     "name": "stderr",
     "output_type": "stream",
     "text": [
      "Featurizing data: 100%|██████████| 621912/621912 [19:25<00:00, 533.40it/s]\n"
     ]
    },
    {
     "name": "stdout",
     "output_type": "stream",
     "text": [
      "Processing HSA...\n"
     ]
    },
    {
     "name": "stderr",
     "output_type": "stream",
     "text": [
      "Featurizing data: 100%|██████████| 589378/589378 [18:42<00:00, 524.97it/s] \n"
     ]
    }
   ],
   "source": [
    "# Define the batch size for featurization\n",
    "batch_size = 2**8\n",
    "# List of proteins and their corresponding dataframes\n",
    "proteins_data = {\n",
    "    'sEH': seh_df,\n",
    "    'BRD4': brd4_df,\n",
    "    'HSA': hsa_df\n",
    "}\n",
    "# Dictionary to store the featurized data for each protein\n",
    "featurized_data = {}\n",
    "# Loop over each protein and its dataframe\n",
    "for protein_name, df in proteins_data.items():\n",
    "    print(f\"Processing {protein_name}...\")\n",
    "    smiles_list = df['molecule_smiles'].tolist()\n",
    "    ids_list = df['id'].tolist()\n",
    "    labels_list = df['binds'].tolist()\n",
    " # Featurize the data\n",
    "    featurized_data[protein_name] = featurize_data_in_batches(smiles_list, labels_list, batch_size)\n",
    "    \n",
    "\n",
    "seh_train_data = featurized_data['sEH']\n",
    "brd4_train_data = featurized_data['BRD4']\n",
    "hsa_train_data = featurized_data['HSA']"
   ]
  },
  {
   "cell_type": "code",
   "execution_count": 25,
   "id": "5999ba72",
   "metadata": {},
   "outputs": [],
   "source": [
    "# save featurized train data\n",
    "torch.save(hsa_train_data,'hsa_1M_balanced_featurezed.pt')\n",
    "torch.save(brd4_train_data,'brd4_1M_balanced_featurezed.pt')\n",
    "torch.save(seh_train_data,'seh_1M_balanced_featurezed.pt')"
   ]
  },
  {
   "cell_type": "code",
   "execution_count": null,
   "id": "2f5b4ca4",
   "metadata": {},
   "outputs": [],
   "source": []
  },
  {
   "cell_type": "code",
   "execution_count": 26,
   "id": "aad9c27a",
   "metadata": {},
   "outputs": [
    {
     "name": "stderr",
     "output_type": "stream",
     "text": [
      "Featurizing data: 100%|██████████| 558859/558859 [16:49<00:00, 553.87it/s]\n",
      "Featurizing data: 100%|██████████| 558142/558142 [17:14<00:00, 539.77it/s] \n",
      "Featurizing data: 100%|██████████| 557895/557895 [17:09<00:00, 541.85it/s]\n"
     ]
    }
   ],
   "source": [
    "batch_size = 2**8\n",
    "smiles_list  = brd4_test_df['molecule_smiles'].tolist()\n",
    "ids_list = brd4_test_df['id'].tolist()\n",
    "labels_list = [-1]*len(smiles_list) #we dont have the actual labels, so we assign some dummy label list for the function. (don't choose 0 or 1)\n",
    "brd4_test_data = featurize_data_in_batches(smiles_list, labels_list, batch_size)\n",
    "\n",
    "smiles_list  = seh_test_df['molecule_smiles'].tolist()\n",
    "ids_list = seh_test_df['id'].tolist()\n",
    "labels_list = [-1]*len(smiles_list)\n",
    "seh_test_data = featurize_data_in_batches(smiles_list, labels_list, batch_size)\n",
    "\n",
    "smiles_list  = hsa_test_df['molecule_smiles'].tolist()\n",
    "ids_list = hsa_test_df['id'].tolist()\n",
    "labels_list = [-1]*len(smiles_list)\n",
    "hsa_test_data = featurize_data_in_batches(smiles_list, labels_list, batch_size)"
   ]
  },
  {
   "cell_type": "code",
   "execution_count": 27,
   "id": "1913cd9c",
   "metadata": {},
   "outputs": [],
   "source": [
    "# save featurized test data\n",
    "torch.save(brd4_test_data,'brd4_test_1M_balanced_featurezed.pt')\n",
    "torch.save(seh_test_data,'seh_test_1M_balanced_featurezed.pt')\n",
    "torch.save(hsa_test_data,'hsa_test_1M_balanced_featurezed.pt')"
   ]
  },
  {
   "cell_type": "code",
   "execution_count": 5,
   "id": "b9a23c6f",
   "metadata": {},
   "outputs": [],
   "source": [
    "#load data\n",
    "hsa_train_data=torch.load('hsa_1M_balanced_featurezed.pt')\n",
    "brd4_train_data=torch.load('brd4_1M_balanced_featurezed.pt')\n",
    "seh_train_data=torch.load('seh_1M_balanced_featurezed.pt')\n",
    "\n",
    "brd4_test_data=torch.load('brd4_test_1M_balanced_featurezed.pt')\n",
    "seh_test_data=torch.load('seh_test_1M_balanced_featurezed.pt')\n",
    "hsa_test_data=torch.load('hsa_test_1M_balanced_featurezed.pt')"
   ]
  },
  {
   "cell_type": "markdown",
   "id": "2b210482",
   "metadata": {},
   "source": [
    "## At this stage, you can use torch.save to save your featurized datasets"
   ]
  },
  {
   "cell_type": "code",
   "execution_count": 6,
   "id": "9e116568",
   "metadata": {},
   "outputs": [],
   "source": [
    "import torch.nn.functional as F\n",
    "import torch.nn as nn\n",
    "import torch.optim as optim\n",
    "from torch_geometric.loader import DataLoader\n",
    "from torch_geometric.nn import MessagePassing, global_mean_pool, global_max_pool\n",
    "from torch.nn import BCEWithLogitsLoss\n",
    "from sklearn.metrics import average_precision_score\n",
    "import matplotlib.pyplot as plt\n",
    "import numpy as np\n",
    "\n",
    "#Define custom GNN layer\n",
    "class CustomGNNLayer(MessagePassing):\n",
    "    def __init__(self, in_channels, out_channels):\n",
    "        super(CustomGNNLayer, self).__init__(aggr='max')\n",
    "        self.lin = nn.Linear(in_channels + 6, out_channels)\n",
    "\n",
    "    def forward(self, x, edge_index, edge_attr):\n",
    "        # Start propagating messages\n",
    "        return MessagePassing.propagate(self, edge_index, x=x, edge_attr=edge_attr)\n",
    "\n",
    "    def message(self, x_j, edge_attr):\n",
    "        combined = torch.cat((x_j, edge_attr), dim=1)\n",
    "        return combined\n",
    "\n",
    "    def update(self, aggr_out):\n",
    "        return self.lin(aggr_out)\n",
    "\n",
    "#Define GNN Model\n",
    "class GNNModel(nn.Module):\n",
    "    def __init__(self, input_dim, hidden_dim, num_layers, dropout_rate):\n",
    "        super(GNNModel, self).__init__()\n",
    "        self.num_layers = num_layers\n",
    "        self.convs = nn.ModuleList([CustomGNNLayer(input_dim if i == 0 else hidden_dim, hidden_dim) for i in range(num_layers)])\n",
    "        self.dropout = nn.Dropout(dropout_rate)\n",
    "        self.bns = nn.ModuleList([nn.BatchNorm1d(hidden_dim) for _ in range(num_layers)])\n",
    "        self.lin = nn.Linear(hidden_dim, 1)\n",
    "        \n",
    "    def forward(self, data):\n",
    "        x, edge_index, edge_attr = data.x, data.edge_index, data.edge_attr\n",
    "        for i in range(self.num_layers):\n",
    "            x = self.convs[i](x, edge_index, edge_attr)\n",
    "            x = self.bns[i](x)\n",
    "            x = F.relu(x)\n",
    "            x = self.dropout(x)\n",
    "\n",
    "\n",
    "        x = global_max_pool(x, data.batch) # Global pooling to get a graph-level representation\n",
    "        x = self.lin(x)\n",
    "        return x"
   ]
  },
  {
   "cell_type": "code",
   "execution_count": 7,
   "id": "40865b1e",
   "metadata": {},
   "outputs": [],
   "source": [
    "def train_model(train_loader, num_epochs, input_dim, hidden_dim, num_layers, dropout_rate, lr, save_dir):\n",
    "    dev = 'cuda' if torch.cuda.is_available() else 'cpu'\n",
    "    model = GNNModel(input_dim, hidden_dim, num_layers, dropout_rate).to(dev)\n",
    "    optimizer = optim.AdamW(model.parameters(), lr=lr)\n",
    "    criterion = BCEWithLogitsLoss()\n",
    "    \n",
    "    for epoch in range(num_epochs):\n",
    "        model.train()\n",
    "        all_preds = []\n",
    "        all_labels = []\n",
    "        total_loss = 0\n",
    "        for batch in train_loader:\n",
    "            batch = batch.to(dev)\n",
    "            optimizer.zero_grad()\n",
    "            out = model(batch)\n",
    "            loss = criterion(out, batch.y.view(-1, 1).float())\n",
    "            loss.backward()\n",
    "            optimizer.step()\n",
    "            total_loss += loss.item()\n",
    "            \n",
    "            # Collect predictions and labels for this batch\n",
    "            all_preds.extend(out.detach().cpu().numpy().flatten())\n",
    "            all_labels.extend(batch.y.cpu().numpy().flatten())\n",
    "        \n",
    "        # Compute average precision and ROC AUC for the epoch\n",
    "        ap = average_precision_score(all_labels, all_preds)\n",
    "        roc_auc = roc_auc_score(all_labels, all_preds)\n",
    "        print(f'Epoch {epoch+1}/{num_epochs}, Loss: {total_loss / len(train_loader)}, AP: {ap}, ROC AUC: {roc_auc}')\n",
    "    \n",
    "        # Save the model at each epoch\n",
    "        model_save_path = f\"{save_dir}/gnn_model_epoch_{epoch+1}.pth\"\n",
    "        torch.save({\n",
    "            'epoch': epoch + 1,\n",
    "            'model_state_dict': model.state_dict(),\n",
    "            'optimizer_state_dict': optimizer.state_dict(),\n",
    "            'loss': total_loss / len(train_loader),\n",
    "            'average_precision': ap,\n",
    "            'roc_auc': roc_auc\n",
    "        }, model_save_path)\n",
    "        \n",
    "    return model\n",
    "\n",
    "def predict_with_model(model, test_loader):\n",
    "    model.eval()\n",
    "    predictions = []\n",
    "    molecule_ids = []\n",
    "\n",
    "    with torch.no_grad():\n",
    "        for data in test_loader:\n",
    "            output = torch.sigmoid(model(data))\n",
    "            predictions.extend(output.view(-1).tolist())\n",
    "            molecule_ids.extend(data.molecule_id)\n",
    "\n",
    "    return molecule_ids, predictions"
   ]
  },
  {
   "cell_type": "code",
   "execution_count": 8,
   "id": "76a730e3",
   "metadata": {},
   "outputs": [],
   "source": [
    "\n",
    "featurized_data_train = {\n",
    "    'sEH': seh_train_data,\n",
    "    'BRD4': brd4_train_data,\n",
    "    'HSA': hsa_train_data\n",
    "}\n",
    "\n",
    "featurized_data_test = {\n",
    "    'sEH': seh_test_data,\n",
    "    'BRD4': brd4_test_data,\n",
    "    'HSA': hsa_test_data\n",
    "}"
   ]
  },
  {
   "cell_type": "code",
   "execution_count": null,
   "id": "45985c6a",
   "metadata": {},
   "outputs": [
    {
     "name": "stdout",
     "output_type": "stream",
     "text": [
      "Training and predicting for BRD4\n"
     ]
    },
    {
     "name": "stderr",
     "output_type": "stream",
     "text": [
      "/home/wangp5/miniconda3/envs/tutorial/lib/python3.10/site-packages/torch_geometric/warnings.py:11: UserWarning: The usage of `scatter(reduce='max')` can be accelerated via the 'torch-scatter' package, but it was not found\n",
      "  warnings.warn(message)\n"
     ]
    },
    {
     "name": "stdout",
     "output_type": "stream",
     "text": [
      "Epoch 1/20, Loss: 0.34985220006446405, AP: 0.9178480102820056, ROC AUC: 0.9227610212061639\n"
     ]
    },
    {
     "name": "stderr",
     "output_type": "stream",
     "text": [
      "/home/wangp5/miniconda3/envs/tutorial/lib/python3.10/site-packages/torch_geometric/warnings.py:11: UserWarning: The usage of `scatter(reduce='max')` can be accelerated via the 'torch-scatter' package, but it was not found\n",
      "  warnings.warn(message)\n"
     ]
    },
    {
     "name": "stdout",
     "output_type": "stream",
     "text": [
      "Epoch 2/20, Loss: 0.2967788478414688, AP: 0.9397141371761862, ROC AUC: 0.9450082247479241\n"
     ]
    },
    {
     "name": "stderr",
     "output_type": "stream",
     "text": [
      "/home/wangp5/miniconda3/envs/tutorial/lib/python3.10/site-packages/torch_geometric/warnings.py:11: UserWarning: The usage of `scatter(reduce='max')` can be accelerated via the 'torch-scatter' package, but it was not found\n",
      "  warnings.warn(message)\n"
     ]
    },
    {
     "name": "stdout",
     "output_type": "stream",
     "text": [
      "Epoch 3/20, Loss: 0.28329761561982914, AP: 0.9443604889681126, ROC AUC: 0.9500936364835537\n"
     ]
    },
    {
     "name": "stderr",
     "output_type": "stream",
     "text": [
      "/home/wangp5/miniconda3/envs/tutorial/lib/python3.10/site-packages/torch_geometric/warnings.py:11: UserWarning: The usage of `scatter(reduce='max')` can be accelerated via the 'torch-scatter' package, but it was not found\n",
      "  warnings.warn(message)\n"
     ]
    },
    {
     "name": "stdout",
     "output_type": "stream",
     "text": [
      "Epoch 4/20, Loss: 0.2763086913273808, AP: 0.9469826842072893, ROC AUC: 0.9526075657749089\n"
     ]
    },
    {
     "name": "stderr",
     "output_type": "stream",
     "text": [
      "/home/wangp5/miniconda3/envs/tutorial/lib/python3.10/site-packages/torch_geometric/warnings.py:11: UserWarning: The usage of `scatter(reduce='max')` can be accelerated via the 'torch-scatter' package, but it was not found\n",
      "  warnings.warn(message)\n"
     ]
    },
    {
     "name": "stdout",
     "output_type": "stream",
     "text": [
      "Epoch 5/20, Loss: 0.27257197271253325, AP: 0.9481690578194075, ROC AUC: 0.9539836121519419\n"
     ]
    },
    {
     "name": "stderr",
     "output_type": "stream",
     "text": [
      "/home/wangp5/miniconda3/envs/tutorial/lib/python3.10/site-packages/torch_geometric/warnings.py:11: UserWarning: The usage of `scatter(reduce='max')` can be accelerated via the 'torch-scatter' package, but it was not found\n",
      "  warnings.warn(message)\n"
     ]
    },
    {
     "name": "stdout",
     "output_type": "stream",
     "text": [
      "Epoch 6/20, Loss: 0.27043386546495735, AP: 0.9490274481494136, ROC AUC: 0.9546885289375283\n"
     ]
    },
    {
     "name": "stderr",
     "output_type": "stream",
     "text": [
      "/home/wangp5/miniconda3/envs/tutorial/lib/python3.10/site-packages/torch_geometric/warnings.py:11: UserWarning: The usage of `scatter(reduce='max')` can be accelerated via the 'torch-scatter' package, but it was not found\n",
      "  warnings.warn(message)\n"
     ]
    },
    {
     "name": "stdout",
     "output_type": "stream",
     "text": [
      "Epoch 7/20, Loss: 0.2679347606765402, AP: 0.9497194607339989, ROC AUC: 0.9555361687460369\n"
     ]
    },
    {
     "name": "stderr",
     "output_type": "stream",
     "text": [
      "/home/wangp5/miniconda3/envs/tutorial/lib/python3.10/site-packages/torch_geometric/warnings.py:11: UserWarning: The usage of `scatter(reduce='max')` can be accelerated via the 'torch-scatter' package, but it was not found\n",
      "  warnings.warn(message)\n"
     ]
    },
    {
     "name": "stdout",
     "output_type": "stream",
     "text": [
      "Epoch 8/20, Loss: 0.2666653319896188, AP: 0.9502635740110035, ROC AUC: 0.9559705220845407\n"
     ]
    },
    {
     "name": "stderr",
     "output_type": "stream",
     "text": [
      "/home/wangp5/miniconda3/envs/tutorial/lib/python3.10/site-packages/torch_geometric/warnings.py:11: UserWarning: The usage of `scatter(reduce='max')` can be accelerated via the 'torch-scatter' package, but it was not found\n",
      "  warnings.warn(message)\n"
     ]
    },
    {
     "name": "stdout",
     "output_type": "stream",
     "text": [
      "Epoch 9/20, Loss: 0.2656642823884274, AP: 0.9506646903440251, ROC AUC: 0.9562921731991079\n"
     ]
    },
    {
     "name": "stderr",
     "output_type": "stream",
     "text": [
      "/home/wangp5/miniconda3/envs/tutorial/lib/python3.10/site-packages/torch_geometric/warnings.py:11: UserWarning: The usage of `scatter(reduce='max')` can be accelerated via the 'torch-scatter' package, but it was not found\n",
      "  warnings.warn(message)\n"
     ]
    },
    {
     "name": "stdout",
     "output_type": "stream",
     "text": [
      "Epoch 10/20, Loss: 0.26487103598951867, AP: 0.9508584161667063, ROC AUC: 0.9565538821613466\n"
     ]
    },
    {
     "name": "stderr",
     "output_type": "stream",
     "text": [
      "/home/wangp5/miniconda3/envs/tutorial/lib/python3.10/site-packages/torch_geometric/warnings.py:11: UserWarning: The usage of `scatter(reduce='max')` can be accelerated via the 'torch-scatter' package, but it was not found\n",
      "  warnings.warn(message)\n"
     ]
    },
    {
     "name": "stdout",
     "output_type": "stream",
     "text": [
      "Epoch 11/20, Loss: 0.2656245878364499, AP: 0.9507004896265208, ROC AUC: 0.9563044907181466\n"
     ]
    },
    {
     "name": "stderr",
     "output_type": "stream",
     "text": [
      "/home/wangp5/miniconda3/envs/tutorial/lib/python3.10/site-packages/torch_geometric/warnings.py:11: UserWarning: The usage of `scatter(reduce='max')` can be accelerated via the 'torch-scatter' package, but it was not found\n",
      "  warnings.warn(message)\n"
     ]
    },
    {
     "name": "stdout",
     "output_type": "stream",
     "text": [
      "Epoch 12/20, Loss: 0.2646079003546365, AP: 0.9509166146855251, ROC AUC: 0.9566395067217299\n"
     ]
    },
    {
     "name": "stderr",
     "output_type": "stream",
     "text": [
      "/home/wangp5/miniconda3/envs/tutorial/lib/python3.10/site-packages/torch_geometric/warnings.py:11: UserWarning: The usage of `scatter(reduce='max')` can be accelerated via the 'torch-scatter' package, but it was not found\n",
      "  warnings.warn(message)\n"
     ]
    },
    {
     "name": "stdout",
     "output_type": "stream",
     "text": [
      "Epoch 13/20, Loss: 0.2640905702983563, AP: 0.9511827670151948, ROC AUC: 0.9568278514435667\n"
     ]
    },
    {
     "name": "stderr",
     "output_type": "stream",
     "text": [
      "/home/wangp5/miniconda3/envs/tutorial/lib/python3.10/site-packages/torch_geometric/warnings.py:11: UserWarning: The usage of `scatter(reduce='max')` can be accelerated via the 'torch-scatter' package, but it was not found\n",
      "  warnings.warn(message)\n"
     ]
    },
    {
     "name": "stdout",
     "output_type": "stream",
     "text": [
      "Epoch 14/20, Loss: 0.26297799220252593, AP: 0.9514618558800523, ROC AUC: 0.957198683413537\n"
     ]
    },
    {
     "name": "stderr",
     "output_type": "stream",
     "text": [
      "/home/wangp5/miniconda3/envs/tutorial/lib/python3.10/site-packages/torch_geometric/warnings.py:11: UserWarning: The usage of `scatter(reduce='max')` can be accelerated via the 'torch-scatter' package, but it was not found\n",
      "  warnings.warn(message)\n"
     ]
    },
    {
     "name": "stdout",
     "output_type": "stream",
     "text": [
      "Epoch 15/20, Loss: 0.26283506003299745, AP: 0.9515485823229143, ROC AUC: 0.9572600650962845\n"
     ]
    },
    {
     "name": "stderr",
     "output_type": "stream",
     "text": [
      "/home/wangp5/miniconda3/envs/tutorial/lib/python3.10/site-packages/torch_geometric/warnings.py:11: UserWarning: The usage of `scatter(reduce='max')` can be accelerated via the 'torch-scatter' package, but it was not found\n",
      "  warnings.warn(message)\n"
     ]
    },
    {
     "name": "stdout",
     "output_type": "stream",
     "text": [
      "Epoch 16/20, Loss: 0.2625296627822329, AP: 0.9516841800887799, ROC AUC: 0.9573191082955756\n"
     ]
    },
    {
     "name": "stderr",
     "output_type": "stream",
     "text": [
      "/home/wangp5/miniconda3/envs/tutorial/lib/python3.10/site-packages/torch_geometric/warnings.py:11: UserWarning: The usage of `scatter(reduce='max')` can be accelerated via the 'torch-scatter' package, but it was not found\n",
      "  warnings.warn(message)\n"
     ]
    },
    {
     "name": "stdout",
     "output_type": "stream",
     "text": [
      "Epoch 17/20, Loss: 0.2622040893226011, AP: 0.951708818977289, ROC AUC: 0.9574202697593064\n"
     ]
    },
    {
     "name": "stderr",
     "output_type": "stream",
     "text": [
      "/home/wangp5/miniconda3/envs/tutorial/lib/python3.10/site-packages/torch_geometric/warnings.py:11: UserWarning: The usage of `scatter(reduce='max')` can be accelerated via the 'torch-scatter' package, but it was not found\n",
      "  warnings.warn(message)\n"
     ]
    },
    {
     "name": "stdout",
     "output_type": "stream",
     "text": [
      "Epoch 18/20, Loss: 0.26192880801153057, AP: 0.9516611229077794, ROC AUC: 0.9575421455304419\n"
     ]
    },
    {
     "name": "stderr",
     "output_type": "stream",
     "text": [
      "/home/wangp5/miniconda3/envs/tutorial/lib/python3.10/site-packages/torch_geometric/warnings.py:11: UserWarning: The usage of `scatter(reduce='max')` can be accelerated via the 'torch-scatter' package, but it was not found\n",
      "  warnings.warn(message)\n"
     ]
    },
    {
     "name": "stdout",
     "output_type": "stream",
     "text": [
      "Epoch 19/20, Loss: 0.26210146363156606, AP: 0.951699219302014, ROC AUC: 0.9574890779163833\n"
     ]
    },
    {
     "name": "stderr",
     "output_type": "stream",
     "text": [
      "/home/wangp5/miniconda3/envs/tutorial/lib/python3.10/site-packages/torch_geometric/warnings.py:11: UserWarning: The usage of `scatter(reduce='max')` can be accelerated via the 'torch-scatter' package, but it was not found\n",
      "  warnings.warn(message)\n"
     ]
    },
    {
     "name": "stdout",
     "output_type": "stream",
     "text": [
      "Epoch 20/20, Loss: 0.2617002486249138, AP: 0.9518239255249757, ROC AUC: 0.957591738065114\n",
      "Training and predicting for HSA\n"
     ]
    },
    {
     "name": "stderr",
     "output_type": "stream",
     "text": [
      "/home/wangp5/miniconda3/envs/tutorial/lib/python3.10/site-packages/torch_geometric/warnings.py:11: UserWarning: The usage of `scatter(reduce='max')` can be accelerated via the 'torch-scatter' package, but it was not found\n",
      "  warnings.warn(message)\n"
     ]
    },
    {
     "name": "stdout",
     "output_type": "stream",
     "text": [
      "Epoch 1/20, Loss: 0.42939878513729013, AP: 0.8582689911541694, ROC AUC: 0.8793796792948102\n"
     ]
    },
    {
     "name": "stderr",
     "output_type": "stream",
     "text": [
      "/home/wangp5/miniconda3/envs/tutorial/lib/python3.10/site-packages/torch_geometric/warnings.py:11: UserWarning: The usage of `scatter(reduce='max')` can be accelerated via the 'torch-scatter' package, but it was not found\n",
      "  warnings.warn(message)\n"
     ]
    },
    {
     "name": "stdout",
     "output_type": "stream",
     "text": [
      "Epoch 2/20, Loss: 0.3856960894622168, AP: 0.8861466212244925, ROC AUC: 0.904196709129109\n"
     ]
    },
    {
     "name": "stderr",
     "output_type": "stream",
     "text": [
      "/home/wangp5/miniconda3/envs/tutorial/lib/python3.10/site-packages/torch_geometric/warnings.py:11: UserWarning: The usage of `scatter(reduce='max')` can be accelerated via the 'torch-scatter' package, but it was not found\n",
      "  warnings.warn(message)\n"
     ]
    },
    {
     "name": "stdout",
     "output_type": "stream",
     "text": [
      "Epoch 3/20, Loss: 0.37389270434295313, AP: 0.892713209322111, ROC AUC: 0.9104099173439195\n"
     ]
    },
    {
     "name": "stderr",
     "output_type": "stream",
     "text": [
      "/home/wangp5/miniconda3/envs/tutorial/lib/python3.10/site-packages/torch_geometric/warnings.py:11: UserWarning: The usage of `scatter(reduce='max')` can be accelerated via the 'torch-scatter' package, but it was not found\n",
      "  warnings.warn(message)\n"
     ]
    }
   ],
   "source": [
    "from torch_geometric.loader import DataLoader\n",
    "from sklearn.metrics import roc_auc_score, average_precision_score\n",
    "import os\n",
    "\n",
    "# Other setup remains the same as before\n",
    "proteins = ['BRD4', 'HSA']\n",
    "all_predictions = []\n",
    "\n",
    "for protein in proteins:\n",
    "    print(f\"Training and predicting for {protein}\")\n",
    "    \n",
    "    # Create DataLoaders for the current protein\n",
    "    train_loader = DataLoader(featurized_data_train[protein], batch_size=32, shuffle=True)\n",
    "    test_loader = DataLoader(featurized_data_test[protein], batch_size=32, shuffle=False)\n",
    "    \n",
    "    # Train model\n",
    "    input_dim = train_loader.dataset[0].num_node_features\n",
    "    hidden_dim = 64\n",
    "    num_epochs = 20\n",
    "    num_layers = 4 #Should ideally be set so that all nodes can communicate with each other\n",
    "    dropout_rate = 0.3\n",
    "    lr = 0.001\n",
    "    #These are just example values, feel free to play around with them.\n",
    "    save_dir=f'/mnt/isilon/wang_lab/shared/Belka/analysis/saved_models/gnn_{protein}'\n",
    "    os.mkdir(save_dir)\n",
    "    model = train_model(train_loader,num_epochs, input_dim, hidden_dim,num_layers, dropout_rate, lr, save_dir)\n",
    "    \n",
    "    # Predict\n",
    "    '''molecule_ids, predictions = predict_with_model(model, test_loader)\n",
    "    \n",
    "    # Collect predictions\n",
    "    protein_predictions = pd.DataFrame({\n",
    "        'id': molecule_ids,\n",
    "        'binds': predictions,\n",
    "    })\n",
    "    all_predictions.append(protein_predictions)'''"
   ]
  },
  {
   "cell_type": "code",
   "execution_count": null,
   "id": "1bda1d68",
   "metadata": {},
   "outputs": [],
   "source": [
    "# Combine all predictions into one DataFrame\n",
    "final_predictions = pd.concat(all_predictions, ignore_index=True)\n",
    "# Convert 'molecule_id' from tensors to integers directly within the DataFrame\n",
    "final_predictions['id'] = final_predictions['id'].apply(lambda x: x.item())\n",
    "\n",
    "# Now save the modified DataFrame to a CSV file\n",
    "final_predictions\n",
    "final_predictions.to_csv('GNN_1M_balanced_predictions.csv', index=False)"
   ]
  },
  {
   "cell_type": "code",
   "execution_count": null,
   "id": "dc030fa1",
   "metadata": {},
   "outputs": [],
   "source": []
  }
 ],
 "metadata": {
  "kernelspec": {
   "display_name": "tutorial",
   "language": "python",
   "name": "tutorial"
  },
  "language_info": {
   "codemirror_mode": {
    "name": "ipython",
    "version": 3
   },
   "file_extension": ".py",
   "mimetype": "text/x-python",
   "name": "python",
   "nbconvert_exporter": "python",
   "pygments_lexer": "ipython3",
   "version": "3.10.14"
  }
 },
 "nbformat": 4,
 "nbformat_minor": 5
}
