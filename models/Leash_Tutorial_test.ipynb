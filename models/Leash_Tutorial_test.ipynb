{
 "cells": [
  {
   "cell_type": "markdown",
   "id": "6f7d8e14",
   "metadata": {},
   "source": [
    "# This script try to test and rerun the Leash Tutorial\n",
    "Including the the use of duckdb, ECFPs (fingerprint), and Random Forest."
   ]
  },
  {
   "cell_type": "code",
   "execution_count": 4,
   "id": "ddafe334",
   "metadata": {},
   "outputs": [],
   "source": [
    "import duckdb\n",
    "import pandas as pd"
   ]
  },
  {
   "cell_type": "code",
   "execution_count": 5,
   "id": "a16b2c51",
   "metadata": {},
   "outputs": [],
   "source": [
    "train_path = '/mnt/isilon/wang_lab/pengwang/projects/Belka/train.parquet'\n",
    "test_path = '/mnt/isilon/wang_lab/pengwang/projects/Belka/test.parquet'\n",
    "\n",
    "con = duckdb.connect()\n",
    "\n",
    "df = con.query(f\"\"\"(SELECT *\n",
    "                        FROM parquet_scan('{train_path}')\n",
    "                        WHERE binds = 0\n",
    "                        ORDER BY random()\n",
    "                        LIMIT 30000)\n",
    "                        UNION ALL\n",
    "                        (SELECT *\n",
    "                        FROM parquet_scan('{train_path}')\n",
    "                        WHERE binds = 1\n",
    "                        ORDER BY random()\n",
    "                        LIMIT 30000)\"\"\").df()\n",
    "\n",
    "con.close()"
   ]
  },
  {
   "cell_type": "code",
   "execution_count": 9,
   "id": "113b0aaa",
   "metadata": {},
   "outputs": [
    {
     "data": {
      "text/html": [
       "<div>\n",
       "<style scoped>\n",
       "    .dataframe tbody tr th:only-of-type {\n",
       "        vertical-align: middle;\n",
       "    }\n",
       "\n",
       "    .dataframe tbody tr th {\n",
       "        vertical-align: top;\n",
       "    }\n",
       "\n",
       "    .dataframe thead th {\n",
       "        text-align: right;\n",
       "    }\n",
       "</style>\n",
       "<table border=\"1\" class=\"dataframe\">\n",
       "  <thead>\n",
       "    <tr style=\"text-align: right;\">\n",
       "      <th></th>\n",
       "      <th>id</th>\n",
       "      <th>buildingblock1_smiles</th>\n",
       "      <th>buildingblock2_smiles</th>\n",
       "      <th>buildingblock3_smiles</th>\n",
       "      <th>molecule_smiles</th>\n",
       "      <th>protein_name</th>\n",
       "      <th>binds</th>\n",
       "    </tr>\n",
       "  </thead>\n",
       "  <tbody>\n",
       "    <tr>\n",
       "      <th>0</th>\n",
       "      <td>96833364</td>\n",
       "      <td>O=C(N[C@@H](Cc1ccc(Cl)cc1Cl)C(=O)O)OCC1c2ccccc...</td>\n",
       "      <td>Nc1ccc2c(c1)OCO2</td>\n",
       "      <td>NCC1CCCn2ccnc21</td>\n",
       "      <td>O=C(N[Dy])[C@H](Cc1ccc(Cl)cc1Cl)Nc1nc(NCC2CCCn...</td>\n",
       "      <td>BRD4</td>\n",
       "      <td>0</td>\n",
       "    </tr>\n",
       "    <tr>\n",
       "      <th>1</th>\n",
       "      <td>175320120</td>\n",
       "      <td>O=C(Nc1cc(F)cc(F)c1C(=O)O)OCC1c2ccccc2-c2ccccc21</td>\n",
       "      <td>Nc1cccnc1[N+](=O)[O-]</td>\n",
       "      <td>Cl.NCC1(OCCO)CCS(=O)(=O)C1</td>\n",
       "      <td>O=C(N[Dy])c1c(F)cc(F)cc1Nc1nc(NCC2(OCCO)CCS(=O...</td>\n",
       "      <td>BRD4</td>\n",
       "      <td>0</td>\n",
       "    </tr>\n",
       "    <tr>\n",
       "      <th>2</th>\n",
       "      <td>52014033</td>\n",
       "      <td>Cc1cc(C)c(NC(=O)OCC2c3ccccc3-c3ccccc32)c(C(=O)...</td>\n",
       "      <td>NCc1ccc2[nH]ccc2c1</td>\n",
       "      <td>Nc1ncnc2[nH]ncc12</td>\n",
       "      <td>Cc1cc(C)c(Nc2nc(NCc3ccc4[nH]ccc4c3)nc(Nc3ncnc4...</td>\n",
       "      <td>BRD4</td>\n",
       "      <td>0</td>\n",
       "    </tr>\n",
       "    <tr>\n",
       "      <th>3</th>\n",
       "      <td>1091387</td>\n",
       "      <td>C#CC[C@@H](NC(=O)OCC1c2ccccc2-c2ccccc21)C(=O)O</td>\n",
       "      <td>C#CCOc1cccc(CN)c1.Cl</td>\n",
       "      <td>Cc1[nH][nH]c(=O)c1CCN</td>\n",
       "      <td>C#CCOc1cccc(CNc2nc(NCCc3c(C)[nH][nH]c3=O)nc(N[...</td>\n",
       "      <td>sEH</td>\n",
       "      <td>0</td>\n",
       "    </tr>\n",
       "    <tr>\n",
       "      <th>4</th>\n",
       "      <td>27979474</td>\n",
       "      <td>COC(=O)c1ccc(C(=O)O)c(NC(=O)OCC2c3ccccc3-c3ccc...</td>\n",
       "      <td>NCC1(OCCO)CCC1</td>\n",
       "      <td>CC(O)(CN)c1ccsc1</td>\n",
       "      <td>COC(=O)c1ccc(C(=O)N[Dy])c(Nc2nc(NCC3(OCCO)CCC3...</td>\n",
       "      <td>HSA</td>\n",
       "      <td>0</td>\n",
       "    </tr>\n",
       "  </tbody>\n",
       "</table>\n",
       "</div>"
      ],
      "text/plain": [
       "          id                              buildingblock1_smiles  \\\n",
       "0   96833364  O=C(N[C@@H](Cc1ccc(Cl)cc1Cl)C(=O)O)OCC1c2ccccc...   \n",
       "1  175320120   O=C(Nc1cc(F)cc(F)c1C(=O)O)OCC1c2ccccc2-c2ccccc21   \n",
       "2   52014033  Cc1cc(C)c(NC(=O)OCC2c3ccccc3-c3ccccc32)c(C(=O)...   \n",
       "3    1091387     C#CC[C@@H](NC(=O)OCC1c2ccccc2-c2ccccc21)C(=O)O   \n",
       "4   27979474  COC(=O)c1ccc(C(=O)O)c(NC(=O)OCC2c3ccccc3-c3ccc...   \n",
       "\n",
       "   buildingblock2_smiles       buildingblock3_smiles  \\\n",
       "0       Nc1ccc2c(c1)OCO2             NCC1CCCn2ccnc21   \n",
       "1  Nc1cccnc1[N+](=O)[O-]  Cl.NCC1(OCCO)CCS(=O)(=O)C1   \n",
       "2     NCc1ccc2[nH]ccc2c1           Nc1ncnc2[nH]ncc12   \n",
       "3   C#CCOc1cccc(CN)c1.Cl       Cc1[nH][nH]c(=O)c1CCN   \n",
       "4         NCC1(OCCO)CCC1            CC(O)(CN)c1ccsc1   \n",
       "\n",
       "                                     molecule_smiles protein_name  binds  \n",
       "0  O=C(N[Dy])[C@H](Cc1ccc(Cl)cc1Cl)Nc1nc(NCC2CCCn...         BRD4      0  \n",
       "1  O=C(N[Dy])c1c(F)cc(F)cc1Nc1nc(NCC2(OCCO)CCS(=O...         BRD4      0  \n",
       "2  Cc1cc(C)c(Nc2nc(NCc3ccc4[nH]ccc4c3)nc(Nc3ncnc4...         BRD4      0  \n",
       "3  C#CCOc1cccc(CNc2nc(NCCc3c(C)[nH][nH]c3=O)nc(N[...          sEH      0  \n",
       "4  COC(=O)c1ccc(C(=O)N[Dy])c(Nc2nc(NCC3(OCCO)CCC3...          HSA      0  "
      ]
     },
     "execution_count": 9,
     "metadata": {},
     "output_type": "execute_result"
    }
   ],
   "source": [
    "df.head()"
   ]
  },
  {
   "cell_type": "code",
   "execution_count": 10,
   "id": "95bb279c",
   "metadata": {},
   "outputs": [
    {
     "data": {
      "text/html": [
       "<div>\n",
       "<style scoped>\n",
       "    .dataframe tbody tr th:only-of-type {\n",
       "        vertical-align: middle;\n",
       "    }\n",
       "\n",
       "    .dataframe tbody tr th {\n",
       "        vertical-align: top;\n",
       "    }\n",
       "\n",
       "    .dataframe thead th {\n",
       "        text-align: right;\n",
       "    }\n",
       "</style>\n",
       "<table border=\"1\" class=\"dataframe\">\n",
       "  <thead>\n",
       "    <tr style=\"text-align: right;\">\n",
       "      <th></th>\n",
       "      <th>id</th>\n",
       "      <th>buildingblock1_smiles</th>\n",
       "      <th>buildingblock2_smiles</th>\n",
       "      <th>buildingblock3_smiles</th>\n",
       "      <th>molecule_smiles</th>\n",
       "      <th>protein_name</th>\n",
       "      <th>binds</th>\n",
       "    </tr>\n",
       "  </thead>\n",
       "  <tbody>\n",
       "    <tr>\n",
       "      <th>59995</th>\n",
       "      <td>83118851</td>\n",
       "      <td>O=C(NC[C@H]1CC[C@H](C(=O)O)CC1)OCC1c2ccccc2-c2...</td>\n",
       "      <td>CSc1ccc(CN)cc1C#N.Cl</td>\n",
       "      <td>COC(=O)c1c[nH]nc1N</td>\n",
       "      <td>COC(=O)c1c[nH]nc1Nc1nc(NCc2ccc(SC)c(C#N)c2)nc(...</td>\n",
       "      <td>sEH</td>\n",
       "      <td>1</td>\n",
       "    </tr>\n",
       "    <tr>\n",
       "      <th>59996</th>\n",
       "      <td>116142642</td>\n",
       "      <td>O=C(N[C@H](CC1CCCC1)C(=O)O)OCC1c2ccccc2-c2ccccc21</td>\n",
       "      <td>Cl.NCc1nc2ccccc2o1</td>\n",
       "      <td>Cl.Cn1cc(N)ccc1=O</td>\n",
       "      <td>Cn1cc(Nc2nc(NCc3nc4ccccc4o3)nc(N[C@H](CC3CCCC3...</td>\n",
       "      <td>BRD4</td>\n",
       "      <td>1</td>\n",
       "    </tr>\n",
       "    <tr>\n",
       "      <th>59997</th>\n",
       "      <td>4867498</td>\n",
       "      <td>C#CC[C@H](NC(=O)OCC1c2ccccc2-c2ccccc21)C(=O)O</td>\n",
       "      <td>Cl.Cl.NCc1cncc(F)c1</td>\n",
       "      <td>Cl.NCc1nnc2ncccn12</td>\n",
       "      <td>C#CC[C@H](Nc1nc(NCc2cncc(F)c2)nc(NCc2nnc3ncccn...</td>\n",
       "      <td>HSA</td>\n",
       "      <td>1</td>\n",
       "    </tr>\n",
       "    <tr>\n",
       "      <th>59998</th>\n",
       "      <td>56611433</td>\n",
       "      <td>Cc1ccc(C(CC(=O)O)NC(=O)OCC2c3ccccc3-c3ccccc32)cc1</td>\n",
       "      <td>Nc1nc(NCc2ccc(F)cc2)ccc1[N+](=O)[O-]</td>\n",
       "      <td>Cc1cc2cc(CN)ccc2[nH]1</td>\n",
       "      <td>Cc1ccc(C(CC(=O)N[Dy])Nc2nc(NCc3ccc4[nH]c(C)cc4...</td>\n",
       "      <td>sEH</td>\n",
       "      <td>1</td>\n",
       "    </tr>\n",
       "    <tr>\n",
       "      <th>59999</th>\n",
       "      <td>159174182</td>\n",
       "      <td>O=C(Nc1cc(Br)cc(C(=O)O)c1)OCC1c2ccccc2-c2ccccc21</td>\n",
       "      <td>CCOC(=O)c1ncccc1N</td>\n",
       "      <td>CCOC(=O)c1cc(N)[nH]n1</td>\n",
       "      <td>CCOC(=O)c1cc(Nc2nc(Nc3cc(Br)cc(C(=O)N[Dy])c3)n...</td>\n",
       "      <td>sEH</td>\n",
       "      <td>1</td>\n",
       "    </tr>\n",
       "  </tbody>\n",
       "</table>\n",
       "</div>"
      ],
      "text/plain": [
       "              id                              buildingblock1_smiles  \\\n",
       "59995   83118851  O=C(NC[C@H]1CC[C@H](C(=O)O)CC1)OCC1c2ccccc2-c2...   \n",
       "59996  116142642  O=C(N[C@H](CC1CCCC1)C(=O)O)OCC1c2ccccc2-c2ccccc21   \n",
       "59997    4867498      C#CC[C@H](NC(=O)OCC1c2ccccc2-c2ccccc21)C(=O)O   \n",
       "59998   56611433  Cc1ccc(C(CC(=O)O)NC(=O)OCC2c3ccccc3-c3ccccc32)cc1   \n",
       "59999  159174182   O=C(Nc1cc(Br)cc(C(=O)O)c1)OCC1c2ccccc2-c2ccccc21   \n",
       "\n",
       "                      buildingblock2_smiles  buildingblock3_smiles  \\\n",
       "59995                  CSc1ccc(CN)cc1C#N.Cl     COC(=O)c1c[nH]nc1N   \n",
       "59996                    Cl.NCc1nc2ccccc2o1      Cl.Cn1cc(N)ccc1=O   \n",
       "59997                   Cl.Cl.NCc1cncc(F)c1     Cl.NCc1nnc2ncccn12   \n",
       "59998  Nc1nc(NCc2ccc(F)cc2)ccc1[N+](=O)[O-]  Cc1cc2cc(CN)ccc2[nH]1   \n",
       "59999                     CCOC(=O)c1ncccc1N  CCOC(=O)c1cc(N)[nH]n1   \n",
       "\n",
       "                                         molecule_smiles protein_name  binds  \n",
       "59995  COC(=O)c1c[nH]nc1Nc1nc(NCc2ccc(SC)c(C#N)c2)nc(...          sEH      1  \n",
       "59996  Cn1cc(Nc2nc(NCc3nc4ccccc4o3)nc(N[C@H](CC3CCCC3...         BRD4      1  \n",
       "59997  C#CC[C@H](Nc1nc(NCc2cncc(F)c2)nc(NCc2nnc3ncccn...          HSA      1  \n",
       "59998  Cc1ccc(C(CC(=O)N[Dy])Nc2nc(NCc3ccc4[nH]c(C)cc4...          sEH      1  \n",
       "59999  CCOC(=O)c1cc(Nc2nc(Nc3cc(Br)cc(C(=O)N[Dy])c3)n...          sEH      1  "
      ]
     },
     "execution_count": 10,
     "metadata": {},
     "output_type": "execute_result"
    }
   ],
   "source": [
    "df.tail()"
   ]
  },
  {
   "cell_type": "markdown",
   "id": "bcc735c3",
   "metadata": {},
   "source": [
    "## ECFP encode"
   ]
  },
  {
   "cell_type": "code",
   "execution_count": 11,
   "id": "177b3776",
   "metadata": {},
   "outputs": [],
   "source": [
    "from rdkit import Chem\n",
    "from rdkit.Chem import AllChem\n",
    "from sklearn.ensemble import RandomForestClassifier\n",
    "from sklearn.model_selection import train_test_split\n",
    "from sklearn.metrics import average_precision_score\n",
    "from sklearn.preprocessing import OneHotEncoder"
   ]
  },
  {
   "cell_type": "code",
   "execution_count": 12,
   "id": "93a43578",
   "metadata": {},
   "outputs": [],
   "source": [
    "# Convert SMILES to RDKit molecules\n",
    "df['molecule'] = df['molecule_smiles'].apply(Chem.MolFromSmiles)\n",
    "\n",
    "# Generate ECFPs\n",
    "def generate_ecfp(molecule, radius=2, bits=1024): #!!we could change radius and bits\n",
    "    if molecule is None:\n",
    "        return None\n",
    "    return list(AllChem.GetMorganFingerprintAsBitVect(molecule, radius, nBits=bits))\n",
    "\n",
    "df['ecfp'] = df['molecule'].apply(generate_ecfp)"
   ]
  },
  {
   "cell_type": "code",
   "execution_count": 17,
   "id": "ac9b63a3",
   "metadata": {},
   "outputs": [
    {
     "data": {
      "text/plain": [
       "0    [0, 1, 0, 0, 1, 0, 0, 0, 0, 0, 0, 1, 0, 0, 0, ...\n",
       "1    [0, 0, 0, 0, 0, 0, 0, 0, 0, 0, 0, 0, 0, 1, 0, ...\n",
       "2    [0, 0, 0, 0, 0, 0, 0, 0, 1, 0, 0, 0, 0, 0, 0, ...\n",
       "3    [0, 1, 0, 0, 0, 0, 0, 0, 0, 0, 0, 0, 0, 0, 0, ...\n",
       "4    [0, 0, 0, 0, 1, 0, 0, 0, 0, 0, 0, 0, 0, 1, 1, ...\n",
       "Name: ecfp, dtype: object"
      ]
     },
     "execution_count": 17,
     "metadata": {},
     "output_type": "execute_result"
    }
   ],
   "source": [
    "df.head().iloc[:,-1]"
   ]
  },
  {
   "cell_type": "code",
   "execution_count": 24,
   "id": "dc6fb752",
   "metadata": {},
   "outputs": [
    {
     "data": {
      "text/plain": [
       "1024"
      ]
     },
     "execution_count": 24,
     "metadata": {},
     "output_type": "execute_result"
    }
   ],
   "source": [
    "len(df.head().iloc[1,-1])"
   ]
  },
  {
   "cell_type": "markdown",
   "id": "8069ed14",
   "metadata": {},
   "source": [
    "## Train Model"
   ]
  },
  {
   "cell_type": "code",
   "execution_count": 43,
   "id": "554da0f6",
   "metadata": {},
   "outputs": [
    {
     "name": "stdout",
     "output_type": "stream",
     "text": [
      "Mean Average Precision (mAP): 0.96\n"
     ]
    }
   ],
   "source": [
    "# One-hot encode the protein_name\n",
    "onehot_encoder = OneHotEncoder(sparse_output=False)\n",
    "protein_onehot = onehot_encoder.fit_transform(df['protein_name'].values.reshape(-1, 1))\n",
    "\n",
    "# Combine ECFPs and one-hot encoded protein_name\n",
    "X = [ecfp + protein for ecfp, protein in zip(df['ecfp'].tolist(), protein_onehot.tolist())]\n",
    "y = df['binds'].tolist()\n",
    "\n",
    "# Split the data into train and test sets\n",
    "X_train, X_test, y_train, y_test = train_test_split(X, y, test_size=0.2, random_state=42)\n",
    "\n",
    "# Create and train the random forest model\n",
    "rf_model = RandomForestClassifier(n_estimators=100, random_state=42)\n",
    "rf_model.fit(X_train, y_train)\n",
    "\n",
    "# Make predictions on the test set\n",
    "y_pred_proba = rf_model.predict_proba(X_test)[:, 1]  # Probability of the positive class\n",
    "\n",
    "# Calculate the mean average precision\n",
    "map_score = average_precision_score(y_test, y_pred_proba)\n",
    "print(f\"Mean Average Precision (mAP): {map_score:.2f}\")"
   ]
  },
  {
   "cell_type": "markdown",
   "id": "3d96fdc6",
   "metadata": {},
   "source": [
    "## Test Precision"
   ]
  },
  {
   "cell_type": "markdown",
   "id": "046e39ce",
   "metadata": {},
   "source": [
    "### Warning!! This part of the code runs over 15mins, not need to run unless want to submit the result to Kaggle."
   ]
  },
  {
   "cell_type": "code",
   "execution_count": 44,
   "id": "92486a03",
   "metadata": {},
   "outputs": [],
   "source": [
    "import os\n",
    "\n",
    "# Process the test.parquet file chunk by chunk\n",
    "test_file = '/mnt/isilon/wang_lab/shared/Belka/test.csv'\n",
    "output_file = '/mnt/isilon/wang_lab/shared/Belka/analysis/leash_tutorial_submission.csv'  # Specify the path and filename for the output file\n",
    "\n",
    "# Read the test.parquet file into a pandas DataFrame\n",
    "for df_test in pd.read_csv(test_file, chunksize=100000):\n",
    "\n",
    "    # Generate ECFPs for the molecule_smiles\n",
    "    df_test['molecule'] = df_test['molecule_smiles'].apply(Chem.MolFromSmiles)\n",
    "    df_test['ecfp'] = df_test['molecule'].apply(generate_ecfp)\n",
    "\n",
    "    # One-hot encode the protein_name\n",
    "    protein_onehot = onehot_encoder.transform(df_test['protein_name'].values.reshape(-1, 1))\n",
    "\n",
    "    # Combine ECFPs and one-hot encoded protein_name\n",
    "    X_test = [ecfp + protein for ecfp, protein in zip(df_test['ecfp'].tolist(), protein_onehot.tolist())]\n",
    "\n",
    "    # Predict the probabilities\n",
    "    probabilities = rf_model.predict_proba(X_test)[:, 1]\n",
    "\n",
    "    # Create a DataFrame with 'id' and 'probability' columns\n",
    "    output_df = pd.DataFrame({'id': df_test['id'], 'binds': probabilities})\n",
    "\n",
    "    # Save the output DataFrame to a CSV file\n",
    "    output_df.to_csv(output_file, index=False, mode='a', header=not os.path.exists(output_file))\n"
   ]
  },
  {
   "cell_type": "code",
   "execution_count": null,
   "id": "7a4a8101",
   "metadata": {},
   "outputs": [],
   "source": []
  }
 ],
 "metadata": {
  "kernelspec": {
   "display_name": "tutorial",
   "language": "python",
   "name": "tutorial"
  },
  "language_info": {
   "codemirror_mode": {
    "name": "ipython",
    "version": 3
   },
   "file_extension": ".py",
   "mimetype": "text/x-python",
   "name": "python",
   "nbconvert_exporter": "python",
   "pygments_lexer": "ipython3",
   "version": "3.10.14"
  }
 },
 "nbformat": 4,
 "nbformat_minor": 5
}
